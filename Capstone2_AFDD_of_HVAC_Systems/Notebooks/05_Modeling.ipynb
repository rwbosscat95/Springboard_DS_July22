{
 "cells": [
  {
   "cell_type": "markdown",
   "id": "d8b1e8f8",
   "metadata": {},
   "source": [
    "# 04 Pre-processing and Training Data<a id='04_Pre-processing and Training Data'></a>"
   ]
  },
  {
   "cell_type": "markdown",
   "id": "6597e299",
   "metadata": {},
   "source": [
    "\n",
    "\n",
    "\n",
    "## 4.1 Dummy or Indicator Features for Categorical Variables\n"
   ]
  },
  {
   "cell_type": "markdown",
   "id": "ebb42af4",
   "metadata": {},
   "source": [
    "### 4.1 Load the libraries"
   ]
  },
  {
   "cell_type": "code",
   "execution_count": 57,
   "id": "95d9c839",
   "metadata": {},
   "outputs": [],
   "source": [
    "import numpy as np\n",
    "import pandas as pd\n",
    "import matplotlib.pyplot as plt\n",
    "import seaborn as sns\n",
    "\n",
    "from statsmodels.graphics.api import abline_plot \n",
    "from sklearn.metrics import mean_squared_error, r2_score \n",
    "from sklearn.model_selection import train_test_split \n",
    "from sklearn import linear_model, preprocessing\n",
    "from sklearn.linear_model import LogisticRegression\n",
    "from mlinsights.mlmodel import PiecewiseRegressor\n",
    "from sklearn.tree import DecisionTreeRegressor\n",
    "import statsmodels.api as sm \n",
    "\n",
    "from sklearn.metrics import accuracy_score, f1_score\n",
    "from sklearn.metrics import classification_report\n",
    "from sklearn.metrics import confusion_matrix\n",
    "from sklearn.metrics import ConfusionMatrixDisplay\n",
    "\n",
    "# scipi is a library for statistical tests and visualizations \n",
    "from scipy import stats\n",
    "# random enables us to generate random numbers\n",
    "import random\n",
    "\n",
    "import warnings # For handling error messages.\n",
    "# Don't worry about the following two instructions: they just suppress warnings that could occur later. \n",
    "warnings.simplefilter(action=\"ignore\", category=FutureWarning)\n",
    "warnings.filterwarnings(action=\"ignore\", module=\"scipy\", message=\"^internal gelsd\")"
   ]
  },
  {
   "cell_type": "markdown",
   "id": "2d17dcf0",
   "metadata": {},
   "source": [
    "### 4.1.2 Load and Split the data"
   ]
  },
  {
   "cell_type": "markdown",
   "id": "af6154bd",
   "metadata": {},
   "source": [
    "### 4.1.2a MZVAV_1_oaplus2"
   ]
  },
  {
   "cell_type": "code",
   "execution_count": 58,
   "id": "c05fb3c5",
   "metadata": {},
   "outputs": [
    {
     "data": {
      "text/html": [
       "<div>\n",
       "<style scoped>\n",
       "    .dataframe tbody tr th:only-of-type {\n",
       "        vertical-align: middle;\n",
       "    }\n",
       "\n",
       "    .dataframe tbody tr th {\n",
       "        vertical-align: top;\n",
       "    }\n",
       "\n",
       "    .dataframe thead th {\n",
       "        text-align: right;\n",
       "    }\n",
       "</style>\n",
       "<table border=\"1\" class=\"dataframe\">\n",
       "  <thead>\n",
       "    <tr style=\"text-align: right;\">\n",
       "      <th></th>\n",
       "      <th>AHU: Supply Air Temperature</th>\n",
       "      <th>AHU: Supply Air Temperature Set Point</th>\n",
       "      <th>AHU: Outdoor Air Temperature</th>\n",
       "      <th>AHU: Mixed Air Temperature</th>\n",
       "      <th>AHU: Return Air Temperature</th>\n",
       "      <th>AHU: Supply Air Fan Speed Control Signal</th>\n",
       "      <th>AHU: Return Air Fan Speed Control Signal</th>\n",
       "      <th>AHU: Outdoor Air Damper Control Signal</th>\n",
       "      <th>AHU: Return Air Damper Control Signal</th>\n",
       "      <th>AHU: Cooling Coil Valve Control Signal</th>\n",
       "      <th>AHU: Heating Coil Valve Control Signal</th>\n",
       "      <th>AHU: Supply Air Duct Static Pressure Set Point</th>\n",
       "      <th>AHU: Supply Air Duct Static Pressure</th>\n",
       "      <th>Occupancy Mode Indicator</th>\n",
       "      <th>Fault Detection Ground Truth</th>\n",
       "    </tr>\n",
       "  </thead>\n",
       "  <tbody>\n",
       "    <tr>\n",
       "      <th>0</th>\n",
       "      <td>48.67</td>\n",
       "      <td>55.04</td>\n",
       "      <td>-2.38</td>\n",
       "      <td>22.61</td>\n",
       "      <td>65.81</td>\n",
       "      <td>0.64</td>\n",
       "      <td>0.64</td>\n",
       "      <td>0.61</td>\n",
       "      <td>0.0</td>\n",
       "      <td>0.01</td>\n",
       "      <td>1</td>\n",
       "      <td>0.04</td>\n",
       "      <td>0.04</td>\n",
       "      <td>1</td>\n",
       "      <td>1</td>\n",
       "    </tr>\n",
       "    <tr>\n",
       "      <th>1</th>\n",
       "      <td>47.35</td>\n",
       "      <td>55.04</td>\n",
       "      <td>-2.38</td>\n",
       "      <td>31.67</td>\n",
       "      <td>65.44</td>\n",
       "      <td>0.64</td>\n",
       "      <td>0.64</td>\n",
       "      <td>0.35</td>\n",
       "      <td>0.0</td>\n",
       "      <td>0.01</td>\n",
       "      <td>0</td>\n",
       "      <td>0.04</td>\n",
       "      <td>0.04</td>\n",
       "      <td>1</td>\n",
       "      <td>1</td>\n",
       "    </tr>\n",
       "    <tr>\n",
       "      <th>2</th>\n",
       "      <td>48.31</td>\n",
       "      <td>55.04</td>\n",
       "      <td>-2.38</td>\n",
       "      <td>43.01</td>\n",
       "      <td>65.62</td>\n",
       "      <td>0.64</td>\n",
       "      <td>0.64</td>\n",
       "      <td>0.21</td>\n",
       "      <td>0.0</td>\n",
       "      <td>0.01</td>\n",
       "      <td>0</td>\n",
       "      <td>0.04</td>\n",
       "      <td>0.04</td>\n",
       "      <td>1</td>\n",
       "      <td>1</td>\n",
       "    </tr>\n",
       "  </tbody>\n",
       "</table>\n",
       "</div>"
      ],
      "text/plain": [
       "   AHU: Supply Air Temperature  AHU: Supply Air Temperature Set Point  \\\n",
       "0                        48.67                                  55.04   \n",
       "1                        47.35                                  55.04   \n",
       "2                        48.31                                  55.04   \n",
       "\n",
       "   AHU: Outdoor Air Temperature  AHU: Mixed Air Temperature  \\\n",
       "0                         -2.38                       22.61   \n",
       "1                         -2.38                       31.67   \n",
       "2                         -2.38                       43.01   \n",
       "\n",
       "   AHU: Return Air Temperature  AHU: Supply Air Fan Speed Control Signal  \\\n",
       "0                        65.81                                      0.64   \n",
       "1                        65.44                                      0.64   \n",
       "2                        65.62                                      0.64   \n",
       "\n",
       "   AHU: Return Air Fan Speed Control Signal  \\\n",
       "0                                      0.64   \n",
       "1                                      0.64   \n",
       "2                                      0.64   \n",
       "\n",
       "   AHU: Outdoor Air Damper Control Signal  \\\n",
       "0                                    0.61   \n",
       "1                                    0.35   \n",
       "2                                    0.21   \n",
       "\n",
       "   AHU: Return Air Damper Control Signal  \\\n",
       "0                                    0.0   \n",
       "1                                    0.0   \n",
       "2                                    0.0   \n",
       "\n",
       "   AHU: Cooling Coil Valve Control Signal  \\\n",
       "0                                    0.01   \n",
       "1                                    0.01   \n",
       "2                                    0.01   \n",
       "\n",
       "   AHU: Heating Coil Valve Control Signal  \\\n",
       "0                                       1   \n",
       "1                                       0   \n",
       "2                                       0   \n",
       "\n",
       "   AHU: Supply Air Duct Static Pressure Set Point  \\\n",
       "0                                            0.04   \n",
       "1                                            0.04   \n",
       "2                                            0.04   \n",
       "\n",
       "   AHU: Supply Air Duct Static Pressure  Occupancy Mode Indicator  \\\n",
       "0                                  0.04                         1   \n",
       "1                                  0.04                         1   \n",
       "2                                  0.04                         1   \n",
       "\n",
       "   Fault Detection Ground Truth  \n",
       "0                             1  \n",
       "1                             1  \n",
       "2                             1  "
      ]
     },
     "execution_count": 58,
     "metadata": {},
     "output_type": "execute_result"
    }
   ],
   "source": [
    "df1 = pd.read_csv('../data/df1.csv', index_col = False)\n",
    "df1 = df1.drop(columns = [\"Unnamed: 0\"])\n",
    "df1.head(3)"
   ]
  },
  {
   "cell_type": "code",
   "execution_count": 59,
   "id": "7c238ef3",
   "metadata": {},
   "outputs": [],
   "source": [
    "# Make a variable called 'features', and a list containing the strings of every column except \"Fault Detection Ground Truth\"\n",
    "features_df1 = [column for column in df1.columns if column != 'Fault Detection Ground Truth']\n",
    "\n",
    "# Make an explanatory variable called X, and assign it: NoPrediction[features]\n",
    "X_df1 = df1[features_df1] \n",
    "\n",
    "# Make a dependent variable called y, and assign it: df1['Fault Detection Ground Truth']\n",
    "y_df1 = df1['Fault Detection Ground Truth'] "
   ]
  },
  {
   "cell_type": "code",
   "execution_count": 60,
   "id": "da95efa3",
   "metadata": {},
   "outputs": [
    {
     "name": "stderr",
     "output_type": "stream",
     "text": [
      "C:\\Users\\weiru\\anaconda3\\lib\\site-packages\\pandas\\io\\formats\\style.py:3554: RuntimeWarning: All-NaN slice encountered\n",
      "  smin = np.nanmin(gmap) if vmin is None else vmin\n",
      "C:\\Users\\weiru\\anaconda3\\lib\\site-packages\\pandas\\io\\formats\\style.py:3555: RuntimeWarning: All-NaN slice encountered\n",
      "  smax = np.nanmax(gmap) if vmax is None else vmax\n"
     ]
    },
    {
     "data": {
      "text/html": [
       "<style type=\"text/css\">\n",
       "#T_ed575_row0_col0, #T_ed575_row2_col2, #T_ed575_row3_col3, #T_ed575_row4_col4, #T_ed575_row5_col5, #T_ed575_row5_col6, #T_ed575_row6_col5, #T_ed575_row6_col6, #T_ed575_row7_col7, #T_ed575_row8_col8, #T_ed575_row9_col9, #T_ed575_row10_col10, #T_ed575_row14_col14 {\n",
       "  background-color: #b40426;\n",
       "  color: #f1f1f1;\n",
       "}\n",
       "#T_ed575_row0_col1, #T_ed575_row0_col11, #T_ed575_row0_col12, #T_ed575_row0_col13, #T_ed575_row1_col0, #T_ed575_row1_col1, #T_ed575_row1_col2, #T_ed575_row1_col3, #T_ed575_row1_col4, #T_ed575_row1_col5, #T_ed575_row1_col6, #T_ed575_row1_col7, #T_ed575_row1_col8, #T_ed575_row1_col9, #T_ed575_row1_col10, #T_ed575_row1_col11, #T_ed575_row1_col12, #T_ed575_row1_col13, #T_ed575_row1_col14, #T_ed575_row2_col1, #T_ed575_row2_col11, #T_ed575_row2_col12, #T_ed575_row2_col13, #T_ed575_row3_col1, #T_ed575_row3_col11, #T_ed575_row3_col12, #T_ed575_row3_col13, #T_ed575_row4_col1, #T_ed575_row4_col11, #T_ed575_row4_col12, #T_ed575_row4_col13, #T_ed575_row5_col1, #T_ed575_row5_col11, #T_ed575_row5_col12, #T_ed575_row5_col13, #T_ed575_row6_col1, #T_ed575_row6_col11, #T_ed575_row6_col12, #T_ed575_row6_col13, #T_ed575_row7_col1, #T_ed575_row7_col11, #T_ed575_row7_col12, #T_ed575_row7_col13, #T_ed575_row8_col1, #T_ed575_row8_col11, #T_ed575_row8_col12, #T_ed575_row8_col13, #T_ed575_row9_col1, #T_ed575_row9_col11, #T_ed575_row9_col12, #T_ed575_row9_col13, #T_ed575_row10_col1, #T_ed575_row10_col11, #T_ed575_row10_col12, #T_ed575_row10_col13, #T_ed575_row11_col0, #T_ed575_row11_col1, #T_ed575_row11_col2, #T_ed575_row11_col3, #T_ed575_row11_col4, #T_ed575_row11_col5, #T_ed575_row11_col6, #T_ed575_row11_col7, #T_ed575_row11_col8, #T_ed575_row11_col9, #T_ed575_row11_col10, #T_ed575_row11_col11, #T_ed575_row11_col12, #T_ed575_row11_col13, #T_ed575_row11_col14, #T_ed575_row12_col0, #T_ed575_row12_col1, #T_ed575_row12_col2, #T_ed575_row12_col3, #T_ed575_row12_col4, #T_ed575_row12_col5, #T_ed575_row12_col6, #T_ed575_row12_col7, #T_ed575_row12_col8, #T_ed575_row12_col9, #T_ed575_row12_col10, #T_ed575_row12_col11, #T_ed575_row12_col12, #T_ed575_row12_col13, #T_ed575_row12_col14, #T_ed575_row13_col0, #T_ed575_row13_col1, #T_ed575_row13_col2, #T_ed575_row13_col3, #T_ed575_row13_col4, #T_ed575_row13_col5, #T_ed575_row13_col6, #T_ed575_row13_col7, #T_ed575_row13_col8, #T_ed575_row13_col9, #T_ed575_row13_col10, #T_ed575_row13_col11, #T_ed575_row13_col12, #T_ed575_row13_col13, #T_ed575_row13_col14, #T_ed575_row14_col1, #T_ed575_row14_col11, #T_ed575_row14_col12, #T_ed575_row14_col13 {\n",
       "  background-color: #000000;\n",
       "  color: #f1f1f1;\n",
       "}\n",
       "#T_ed575_row0_col2, #T_ed575_row2_col4 {\n",
       "  background-color: #ec8165;\n",
       "  color: #f1f1f1;\n",
       "}\n",
       "#T_ed575_row0_col3 {\n",
       "  background-color: #d75445;\n",
       "  color: #f1f1f1;\n",
       "}\n",
       "#T_ed575_row0_col4 {\n",
       "  background-color: #ed8366;\n",
       "  color: #f1f1f1;\n",
       "}\n",
       "#T_ed575_row0_col5, #T_ed575_row0_col6 {\n",
       "  background-color: #f7b194;\n",
       "  color: #000000;\n",
       "}\n",
       "#T_ed575_row0_col7, #T_ed575_row0_col14, #T_ed575_row4_col14 {\n",
       "  background-color: #6f92f3;\n",
       "  color: #f1f1f1;\n",
       "}\n",
       "#T_ed575_row0_col8, #T_ed575_row2_col8, #T_ed575_row3_col7, #T_ed575_row3_col8, #T_ed575_row3_col10, #T_ed575_row4_col8, #T_ed575_row5_col8, #T_ed575_row6_col8, #T_ed575_row7_col0, #T_ed575_row7_col2, #T_ed575_row7_col3, #T_ed575_row7_col4, #T_ed575_row7_col5, #T_ed575_row7_col6, #T_ed575_row7_col14, #T_ed575_row9_col8, #T_ed575_row14_col9 {\n",
       "  background-color: #3b4cc0;\n",
       "  color: #f1f1f1;\n",
       "}\n",
       "#T_ed575_row0_col9, #T_ed575_row2_col10 {\n",
       "  background-color: #4055c8;\n",
       "  color: #f1f1f1;\n",
       "}\n",
       "#T_ed575_row0_col10 {\n",
       "  background-color: #3f53c6;\n",
       "  color: #f1f1f1;\n",
       "}\n",
       "#T_ed575_row2_col0 {\n",
       "  background-color: #e46e56;\n",
       "  color: #f1f1f1;\n",
       "}\n",
       "#T_ed575_row2_col3 {\n",
       "  background-color: #de614d;\n",
       "  color: #f1f1f1;\n",
       "}\n",
       "#T_ed575_row2_col5, #T_ed575_row2_col6 {\n",
       "  background-color: #f6a586;\n",
       "  color: #000000;\n",
       "}\n",
       "#T_ed575_row2_col7 {\n",
       "  background-color: #a7c5fe;\n",
       "  color: #000000;\n",
       "}\n",
       "#T_ed575_row2_col9 {\n",
       "  background-color: #d4dbe6;\n",
       "  color: #000000;\n",
       "}\n",
       "#T_ed575_row2_col14 {\n",
       "  background-color: #7b9ff9;\n",
       "  color: #f1f1f1;\n",
       "}\n",
       "#T_ed575_row3_col0 {\n",
       "  background-color: #dd5f4b;\n",
       "  color: #f1f1f1;\n",
       "}\n",
       "#T_ed575_row3_col2 {\n",
       "  background-color: #ec7f63;\n",
       "  color: #f1f1f1;\n",
       "}\n",
       "#T_ed575_row3_col4 {\n",
       "  background-color: #da5a49;\n",
       "  color: #f1f1f1;\n",
       "}\n",
       "#T_ed575_row3_col5, #T_ed575_row3_col6, #T_ed575_row4_col2 {\n",
       "  background-color: #f49a7b;\n",
       "  color: #000000;\n",
       "}\n",
       "#T_ed575_row3_col9, #T_ed575_row14_col4 {\n",
       "  background-color: #b2ccfb;\n",
       "  color: #000000;\n",
       "}\n",
       "#T_ed575_row3_col14, #T_ed575_row14_col2 {\n",
       "  background-color: #799cf8;\n",
       "  color: #f1f1f1;\n",
       "}\n",
       "#T_ed575_row4_col0 {\n",
       "  background-color: #ef886b;\n",
       "  color: #f1f1f1;\n",
       "}\n",
       "#T_ed575_row4_col3 {\n",
       "  background-color: #d65244;\n",
       "  color: #f1f1f1;\n",
       "}\n",
       "#T_ed575_row4_col5, #T_ed575_row4_col6 {\n",
       "  background-color: #f59d7e;\n",
       "  color: #000000;\n",
       "}\n",
       "#T_ed575_row4_col7 {\n",
       "  background-color: #5f7fe8;\n",
       "  color: #f1f1f1;\n",
       "}\n",
       "#T_ed575_row4_col9 {\n",
       "  background-color: #abc8fd;\n",
       "  color: #000000;\n",
       "}\n",
       "#T_ed575_row4_col10, #T_ed575_row10_col8 {\n",
       "  background-color: #3c4ec2;\n",
       "  color: #f1f1f1;\n",
       "}\n",
       "#T_ed575_row5_col0, #T_ed575_row6_col0 {\n",
       "  background-color: #f7ad90;\n",
       "  color: #000000;\n",
       "}\n",
       "#T_ed575_row5_col2, #T_ed575_row6_col2 {\n",
       "  background-color: #f7b79b;\n",
       "  color: #000000;\n",
       "}\n",
       "#T_ed575_row5_col3, #T_ed575_row6_col3 {\n",
       "  background-color: #ee8468;\n",
       "  color: #f1f1f1;\n",
       "}\n",
       "#T_ed575_row5_col4, #T_ed575_row6_col4 {\n",
       "  background-color: #f39475;\n",
       "  color: #000000;\n",
       "}\n",
       "#T_ed575_row5_col7, #T_ed575_row6_col7 {\n",
       "  background-color: #7da0f9;\n",
       "  color: #f1f1f1;\n",
       "}\n",
       "#T_ed575_row5_col9, #T_ed575_row6_col9 {\n",
       "  background-color: #e2dad5;\n",
       "  color: #000000;\n",
       "}\n",
       "#T_ed575_row5_col10, #T_ed575_row6_col10 {\n",
       "  background-color: #465ecf;\n",
       "  color: #f1f1f1;\n",
       "}\n",
       "#T_ed575_row5_col14, #T_ed575_row6_col14 {\n",
       "  background-color: #6180e9;\n",
       "  color: #f1f1f1;\n",
       "}\n",
       "#T_ed575_row7_col8, #T_ed575_row14_col8 {\n",
       "  background-color: #3d50c3;\n",
       "  color: #f1f1f1;\n",
       "}\n",
       "#T_ed575_row7_col9 {\n",
       "  background-color: #5470de;\n",
       "  color: #f1f1f1;\n",
       "}\n",
       "#T_ed575_row7_col10 {\n",
       "  background-color: #4c66d6;\n",
       "  color: #f1f1f1;\n",
       "}\n",
       "#T_ed575_row8_col0 {\n",
       "  background-color: #98b9ff;\n",
       "  color: #000000;\n",
       "}\n",
       "#T_ed575_row8_col2 {\n",
       "  background-color: #5e7de7;\n",
       "  color: #f1f1f1;\n",
       "}\n",
       "#T_ed575_row8_col3 {\n",
       "  background-color: #c1d4f4;\n",
       "  color: #000000;\n",
       "}\n",
       "#T_ed575_row8_col4, #T_ed575_row14_col7 {\n",
       "  background-color: #a6c4fe;\n",
       "  color: #000000;\n",
       "}\n",
       "#T_ed575_row8_col5, #T_ed575_row8_col6, #T_ed575_row14_col5, #T_ed575_row14_col6 {\n",
       "  background-color: #8caffe;\n",
       "  color: #000000;\n",
       "}\n",
       "#T_ed575_row8_col7 {\n",
       "  background-color: #c3d5f4;\n",
       "  color: #000000;\n",
       "}\n",
       "#T_ed575_row8_col9 {\n",
       "  background-color: #4b64d5;\n",
       "  color: #f1f1f1;\n",
       "}\n",
       "#T_ed575_row8_col10, #T_ed575_row14_col10 {\n",
       "  background-color: #4961d2;\n",
       "  color: #f1f1f1;\n",
       "}\n",
       "#T_ed575_row8_col14 {\n",
       "  background-color: #6384eb;\n",
       "  color: #f1f1f1;\n",
       "}\n",
       "#T_ed575_row9_col0 {\n",
       "  background-color: #8fb1fe;\n",
       "  color: #000000;\n",
       "}\n",
       "#T_ed575_row9_col2 {\n",
       "  background-color: #dcdddd;\n",
       "  color: #000000;\n",
       "}\n",
       "#T_ed575_row9_col3 {\n",
       "  background-color: #f1cdba;\n",
       "  color: #000000;\n",
       "}\n",
       "#T_ed575_row9_col4 {\n",
       "  background-color: #e3d9d3;\n",
       "  color: #000000;\n",
       "}\n",
       "#T_ed575_row9_col5, #T_ed575_row9_col6 {\n",
       "  background-color: #f4c6af;\n",
       "  color: #000000;\n",
       "}\n",
       "#T_ed575_row9_col7 {\n",
       "  background-color: #c6d6f1;\n",
       "  color: #000000;\n",
       "}\n",
       "#T_ed575_row9_col10 {\n",
       "  background-color: #485fd1;\n",
       "  color: #f1f1f1;\n",
       "}\n",
       "#T_ed575_row9_col14 {\n",
       "  background-color: #4f69d9;\n",
       "  color: #f1f1f1;\n",
       "}\n",
       "#T_ed575_row10_col0 {\n",
       "  background-color: #90b2fe;\n",
       "  color: #000000;\n",
       "}\n",
       "#T_ed575_row10_col2 {\n",
       "  background-color: #5673e0;\n",
       "  color: #f1f1f1;\n",
       "}\n",
       "#T_ed575_row10_col3 {\n",
       "  background-color: #b7cff9;\n",
       "  color: #000000;\n",
       "}\n",
       "#T_ed575_row10_col4 {\n",
       "  background-color: #9dbdff;\n",
       "  color: #000000;\n",
       "}\n",
       "#T_ed575_row10_col5, #T_ed575_row10_col6 {\n",
       "  background-color: #8badfd;\n",
       "  color: #000000;\n",
       "}\n",
       "#T_ed575_row10_col7 {\n",
       "  background-color: #c4d5f3;\n",
       "  color: #000000;\n",
       "}\n",
       "#T_ed575_row10_col9 {\n",
       "  background-color: #4a63d3;\n",
       "  color: #f1f1f1;\n",
       "}\n",
       "#T_ed575_row10_col14 {\n",
       "  background-color: #6282ea;\n",
       "  color: #f1f1f1;\n",
       "}\n",
       "#T_ed575_row14_col0 {\n",
       "  background-color: #a5c3fe;\n",
       "  color: #000000;\n",
       "}\n",
       "#T_ed575_row14_col3 {\n",
       "  background-color: #cfdaea;\n",
       "  color: #000000;\n",
       "}\n",
       "</style>\n",
       "<table id=\"T_ed575\">\n",
       "  <thead>\n",
       "    <tr>\n",
       "      <th class=\"blank level0\" >&nbsp;</th>\n",
       "      <th id=\"T_ed575_level0_col0\" class=\"col_heading level0 col0\" >AHU: Supply Air Temperature</th>\n",
       "      <th id=\"T_ed575_level0_col1\" class=\"col_heading level0 col1\" >AHU: Supply Air Temperature Set Point</th>\n",
       "      <th id=\"T_ed575_level0_col2\" class=\"col_heading level0 col2\" >AHU: Outdoor Air Temperature</th>\n",
       "      <th id=\"T_ed575_level0_col3\" class=\"col_heading level0 col3\" >AHU: Mixed Air Temperature</th>\n",
       "      <th id=\"T_ed575_level0_col4\" class=\"col_heading level0 col4\" >AHU: Return Air Temperature</th>\n",
       "      <th id=\"T_ed575_level0_col5\" class=\"col_heading level0 col5\" >AHU: Supply Air Fan Speed Control Signal</th>\n",
       "      <th id=\"T_ed575_level0_col6\" class=\"col_heading level0 col6\" >AHU: Return Air Fan Speed Control Signal</th>\n",
       "      <th id=\"T_ed575_level0_col7\" class=\"col_heading level0 col7\" >AHU: Outdoor Air Damper Control Signal</th>\n",
       "      <th id=\"T_ed575_level0_col8\" class=\"col_heading level0 col8\" >AHU: Return Air Damper Control Signal</th>\n",
       "      <th id=\"T_ed575_level0_col9\" class=\"col_heading level0 col9\" >AHU: Cooling Coil Valve Control Signal</th>\n",
       "      <th id=\"T_ed575_level0_col10\" class=\"col_heading level0 col10\" >AHU: Heating Coil Valve Control Signal</th>\n",
       "      <th id=\"T_ed575_level0_col11\" class=\"col_heading level0 col11\" >AHU: Supply Air Duct Static Pressure Set Point</th>\n",
       "      <th id=\"T_ed575_level0_col12\" class=\"col_heading level0 col12\" >AHU: Supply Air Duct Static Pressure</th>\n",
       "      <th id=\"T_ed575_level0_col13\" class=\"col_heading level0 col13\" >Occupancy Mode Indicator</th>\n",
       "      <th id=\"T_ed575_level0_col14\" class=\"col_heading level0 col14\" >Fault Detection Ground Truth</th>\n",
       "    </tr>\n",
       "  </thead>\n",
       "  <tbody>\n",
       "    <tr>\n",
       "      <th id=\"T_ed575_level0_row0\" class=\"row_heading level0 row0\" >AHU: Supply Air Temperature</th>\n",
       "      <td id=\"T_ed575_row0_col0\" class=\"data row0 col0\" >1.000000</td>\n",
       "      <td id=\"T_ed575_row0_col1\" class=\"data row0 col1\" >nan</td>\n",
       "      <td id=\"T_ed575_row0_col2\" class=\"data row0 col2\" >0.781258</td>\n",
       "      <td id=\"T_ed575_row0_col3\" class=\"data row0 col3\" >0.827405</td>\n",
       "      <td id=\"T_ed575_row0_col4\" class=\"data row0 col4\" >0.707704</td>\n",
       "      <td id=\"T_ed575_row0_col5\" class=\"data row0 col5\" >0.578252</td>\n",
       "      <td id=\"T_ed575_row0_col6\" class=\"data row0 col6\" >0.578252</td>\n",
       "      <td id=\"T_ed575_row0_col7\" class=\"data row0 col7\" >-0.401104</td>\n",
       "      <td id=\"T_ed575_row0_col8\" class=\"data row0 col8\" >-0.002197</td>\n",
       "      <td id=\"T_ed575_row0_col9\" class=\"data row0 col9\" >-0.040303</td>\n",
       "      <td id=\"T_ed575_row0_col10\" class=\"data row0 col10\" >-0.034857</td>\n",
       "      <td id=\"T_ed575_row0_col11\" class=\"data row0 col11\" >nan</td>\n",
       "      <td id=\"T_ed575_row0_col12\" class=\"data row0 col12\" >nan</td>\n",
       "      <td id=\"T_ed575_row0_col13\" class=\"data row0 col13\" >nan</td>\n",
       "      <td id=\"T_ed575_row0_col14\" class=\"data row0 col14\" >0.046377</td>\n",
       "    </tr>\n",
       "    <tr>\n",
       "      <th id=\"T_ed575_level0_row1\" class=\"row_heading level0 row1\" >AHU: Supply Air Temperature Set Point</th>\n",
       "      <td id=\"T_ed575_row1_col0\" class=\"data row1 col0\" >nan</td>\n",
       "      <td id=\"T_ed575_row1_col1\" class=\"data row1 col1\" >nan</td>\n",
       "      <td id=\"T_ed575_row1_col2\" class=\"data row1 col2\" >nan</td>\n",
       "      <td id=\"T_ed575_row1_col3\" class=\"data row1 col3\" >nan</td>\n",
       "      <td id=\"T_ed575_row1_col4\" class=\"data row1 col4\" >nan</td>\n",
       "      <td id=\"T_ed575_row1_col5\" class=\"data row1 col5\" >nan</td>\n",
       "      <td id=\"T_ed575_row1_col6\" class=\"data row1 col6\" >nan</td>\n",
       "      <td id=\"T_ed575_row1_col7\" class=\"data row1 col7\" >nan</td>\n",
       "      <td id=\"T_ed575_row1_col8\" class=\"data row1 col8\" >nan</td>\n",
       "      <td id=\"T_ed575_row1_col9\" class=\"data row1 col9\" >nan</td>\n",
       "      <td id=\"T_ed575_row1_col10\" class=\"data row1 col10\" >nan</td>\n",
       "      <td id=\"T_ed575_row1_col11\" class=\"data row1 col11\" >nan</td>\n",
       "      <td id=\"T_ed575_row1_col12\" class=\"data row1 col12\" >nan</td>\n",
       "      <td id=\"T_ed575_row1_col13\" class=\"data row1 col13\" >nan</td>\n",
       "      <td id=\"T_ed575_row1_col14\" class=\"data row1 col14\" >nan</td>\n",
       "    </tr>\n",
       "    <tr>\n",
       "      <th id=\"T_ed575_level0_row2\" class=\"row_heading level0 row2\" >AHU: Outdoor Air Temperature</th>\n",
       "      <td id=\"T_ed575_row2_col0\" class=\"data row2 col0\" >0.781258</td>\n",
       "      <td id=\"T_ed575_row2_col1\" class=\"data row2 col1\" >nan</td>\n",
       "      <td id=\"T_ed575_row2_col2\" class=\"data row2 col2\" >1.000000</td>\n",
       "      <td id=\"T_ed575_row2_col3\" class=\"data row2 col3\" >0.786037</td>\n",
       "      <td id=\"T_ed575_row2_col4\" class=\"data row2 col4\" >0.713612</td>\n",
       "      <td id=\"T_ed575_row2_col5\" class=\"data row2 col5\" >0.625253</td>\n",
       "      <td id=\"T_ed575_row2_col6\" class=\"data row2 col6\" >0.625253</td>\n",
       "      <td id=\"T_ed575_row2_col7\" class=\"data row2 col7\" >-0.132844</td>\n",
       "      <td id=\"T_ed575_row2_col8\" class=\"data row2 col8\" >-0.002119</td>\n",
       "      <td id=\"T_ed575_row2_col9\" class=\"data row2 col9\" >0.430874</td>\n",
       "      <td id=\"T_ed575_row2_col10\" class=\"data row2 col10\" >-0.030400</td>\n",
       "      <td id=\"T_ed575_row2_col11\" class=\"data row2 col11\" >nan</td>\n",
       "      <td id=\"T_ed575_row2_col12\" class=\"data row2 col12\" >nan</td>\n",
       "      <td id=\"T_ed575_row2_col13\" class=\"data row2 col13\" >nan</td>\n",
       "      <td id=\"T_ed575_row2_col14\" class=\"data row2 col14\" >0.087003</td>\n",
       "    </tr>\n",
       "    <tr>\n",
       "      <th id=\"T_ed575_level0_row3\" class=\"row_heading level0 row3\" >AHU: Mixed Air Temperature</th>\n",
       "      <td id=\"T_ed575_row3_col0\" class=\"data row3 col0\" >0.827405</td>\n",
       "      <td id=\"T_ed575_row3_col1\" class=\"data row3 col1\" >nan</td>\n",
       "      <td id=\"T_ed575_row3_col2\" class=\"data row3 col2\" >0.786037</td>\n",
       "      <td id=\"T_ed575_row3_col3\" class=\"data row3 col3\" >1.000000</td>\n",
       "      <td id=\"T_ed575_row3_col4\" class=\"data row3 col4\" >0.829268</td>\n",
       "      <td id=\"T_ed575_row3_col5\" class=\"data row3 col5\" >0.664357</td>\n",
       "      <td id=\"T_ed575_row3_col6\" class=\"data row3 col6\" >0.664357</td>\n",
       "      <td id=\"T_ed575_row3_col7\" class=\"data row3 col7\" >-0.683789</td>\n",
       "      <td id=\"T_ed575_row3_col8\" class=\"data row3 col8\" >-0.004887</td>\n",
       "      <td id=\"T_ed575_row3_col9\" class=\"data row3 col9\" >0.314207</td>\n",
       "      <td id=\"T_ed575_row3_col10\" class=\"data row3 col10\" >-0.052948</td>\n",
       "      <td id=\"T_ed575_row3_col11\" class=\"data row3 col11\" >nan</td>\n",
       "      <td id=\"T_ed575_row3_col12\" class=\"data row3 col12\" >nan</td>\n",
       "      <td id=\"T_ed575_row3_col13\" class=\"data row3 col13\" >nan</td>\n",
       "      <td id=\"T_ed575_row3_col14\" class=\"data row3 col14\" >0.077250</td>\n",
       "    </tr>\n",
       "    <tr>\n",
       "      <th id=\"T_ed575_level0_row4\" class=\"row_heading level0 row4\" >AHU: Return Air Temperature</th>\n",
       "      <td id=\"T_ed575_row4_col0\" class=\"data row4 col0\" >0.707704</td>\n",
       "      <td id=\"T_ed575_row4_col1\" class=\"data row4 col1\" >nan</td>\n",
       "      <td id=\"T_ed575_row4_col2\" class=\"data row4 col2\" >0.713612</td>\n",
       "      <td id=\"T_ed575_row4_col3\" class=\"data row4 col3\" >0.829268</td>\n",
       "      <td id=\"T_ed575_row4_col4\" class=\"data row4 col4\" >1.000000</td>\n",
       "      <td id=\"T_ed575_row4_col5\" class=\"data row4 col5\" >0.650061</td>\n",
       "      <td id=\"T_ed575_row4_col6\" class=\"data row4 col6\" >0.650061</td>\n",
       "      <td id=\"T_ed575_row4_col7\" class=\"data row4 col7\" >-0.484420</td>\n",
       "      <td id=\"T_ed575_row4_col8\" class=\"data row4 col8\" >-0.004491</td>\n",
       "      <td id=\"T_ed575_row4_col9\" class=\"data row4 col9\" >0.294910</td>\n",
       "      <td id=\"T_ed575_row4_col10\" class=\"data row4 col10\" >-0.047843</td>\n",
       "      <td id=\"T_ed575_row4_col11\" class=\"data row4 col11\" >nan</td>\n",
       "      <td id=\"T_ed575_row4_col12\" class=\"data row4 col12\" >nan</td>\n",
       "      <td id=\"T_ed575_row4_col13\" class=\"data row4 col13\" >nan</td>\n",
       "      <td id=\"T_ed575_row4_col14\" class=\"data row4 col14\" >0.048184</td>\n",
       "    </tr>\n",
       "    <tr>\n",
       "      <th id=\"T_ed575_level0_row5\" class=\"row_heading level0 row5\" >AHU: Supply Air Fan Speed Control Signal</th>\n",
       "      <td id=\"T_ed575_row5_col0\" class=\"data row5 col0\" >0.578252</td>\n",
       "      <td id=\"T_ed575_row5_col1\" class=\"data row5 col1\" >nan</td>\n",
       "      <td id=\"T_ed575_row5_col2\" class=\"data row5 col2\" >0.625253</td>\n",
       "      <td id=\"T_ed575_row5_col3\" class=\"data row5 col3\" >0.664357</td>\n",
       "      <td id=\"T_ed575_row5_col4\" class=\"data row5 col4\" >0.650061</td>\n",
       "      <td id=\"T_ed575_row5_col5\" class=\"data row5 col5\" >1.000000</td>\n",
       "      <td id=\"T_ed575_row5_col6\" class=\"data row5 col6\" >1.000000</td>\n",
       "      <td id=\"T_ed575_row5_col7\" class=\"data row5 col7\" >-0.337197</td>\n",
       "      <td id=\"T_ed575_row5_col8\" class=\"data row5 col8\" >-0.003546</td>\n",
       "      <td id=\"T_ed575_row5_col9\" class=\"data row5 col9\" >0.492461</td>\n",
       "      <td id=\"T_ed575_row5_col10\" class=\"data row5 col10\" >-0.008686</td>\n",
       "      <td id=\"T_ed575_row5_col11\" class=\"data row5 col11\" >nan</td>\n",
       "      <td id=\"T_ed575_row5_col12\" class=\"data row5 col12\" >nan</td>\n",
       "      <td id=\"T_ed575_row5_col13\" class=\"data row5 col13\" >nan</td>\n",
       "      <td id=\"T_ed575_row5_col14\" class=\"data row5 col14\" >-0.004105</td>\n",
       "    </tr>\n",
       "    <tr>\n",
       "      <th id=\"T_ed575_level0_row6\" class=\"row_heading level0 row6\" >AHU: Return Air Fan Speed Control Signal</th>\n",
       "      <td id=\"T_ed575_row6_col0\" class=\"data row6 col0\" >0.578252</td>\n",
       "      <td id=\"T_ed575_row6_col1\" class=\"data row6 col1\" >nan</td>\n",
       "      <td id=\"T_ed575_row6_col2\" class=\"data row6 col2\" >0.625253</td>\n",
       "      <td id=\"T_ed575_row6_col3\" class=\"data row6 col3\" >0.664357</td>\n",
       "      <td id=\"T_ed575_row6_col4\" class=\"data row6 col4\" >0.650061</td>\n",
       "      <td id=\"T_ed575_row6_col5\" class=\"data row6 col5\" >1.000000</td>\n",
       "      <td id=\"T_ed575_row6_col6\" class=\"data row6 col6\" >1.000000</td>\n",
       "      <td id=\"T_ed575_row6_col7\" class=\"data row6 col7\" >-0.337197</td>\n",
       "      <td id=\"T_ed575_row6_col8\" class=\"data row6 col8\" >-0.003546</td>\n",
       "      <td id=\"T_ed575_row6_col9\" class=\"data row6 col9\" >0.492461</td>\n",
       "      <td id=\"T_ed575_row6_col10\" class=\"data row6 col10\" >-0.008686</td>\n",
       "      <td id=\"T_ed575_row6_col11\" class=\"data row6 col11\" >nan</td>\n",
       "      <td id=\"T_ed575_row6_col12\" class=\"data row6 col12\" >nan</td>\n",
       "      <td id=\"T_ed575_row6_col13\" class=\"data row6 col13\" >nan</td>\n",
       "      <td id=\"T_ed575_row6_col14\" class=\"data row6 col14\" >-0.004105</td>\n",
       "    </tr>\n",
       "    <tr>\n",
       "      <th id=\"T_ed575_level0_row7\" class=\"row_heading level0 row7\" >AHU: Outdoor Air Damper Control Signal</th>\n",
       "      <td id=\"T_ed575_row7_col0\" class=\"data row7 col0\" >-0.401104</td>\n",
       "      <td id=\"T_ed575_row7_col1\" class=\"data row7 col1\" >nan</td>\n",
       "      <td id=\"T_ed575_row7_col2\" class=\"data row7 col2\" >-0.132844</td>\n",
       "      <td id=\"T_ed575_row7_col3\" class=\"data row7 col3\" >-0.683789</td>\n",
       "      <td id=\"T_ed575_row7_col4\" class=\"data row7 col4\" >-0.484420</td>\n",
       "      <td id=\"T_ed575_row7_col5\" class=\"data row7 col5\" >-0.337197</td>\n",
       "      <td id=\"T_ed575_row7_col6\" class=\"data row7 col6\" >-0.337197</td>\n",
       "      <td id=\"T_ed575_row7_col7\" class=\"data row7 col7\" >1.000000</td>\n",
       "      <td id=\"T_ed575_row7_col8\" class=\"data row7 col8\" >0.003396</td>\n",
       "      <td id=\"T_ed575_row7_col9\" class=\"data row7 col9\" >0.025604</td>\n",
       "      <td id=\"T_ed575_row7_col10\" class=\"data row7 col10\" >0.010279</td>\n",
       "      <td id=\"T_ed575_row7_col11\" class=\"data row7 col11\" >nan</td>\n",
       "      <td id=\"T_ed575_row7_col12\" class=\"data row7 col12\" >nan</td>\n",
       "      <td id=\"T_ed575_row7_col13\" class=\"data row7 col13\" >nan</td>\n",
       "      <td id=\"T_ed575_row7_col14\" class=\"data row7 col14\" >-0.142914</td>\n",
       "    </tr>\n",
       "    <tr>\n",
       "      <th id=\"T_ed575_level0_row8\" class=\"row_heading level0 row8\" >AHU: Return Air Damper Control Signal</th>\n",
       "      <td id=\"T_ed575_row8_col0\" class=\"data row8 col0\" >-0.002197</td>\n",
       "      <td id=\"T_ed575_row8_col1\" class=\"data row8 col1\" >nan</td>\n",
       "      <td id=\"T_ed575_row8_col2\" class=\"data row8 col2\" >-0.002119</td>\n",
       "      <td id=\"T_ed575_row8_col3\" class=\"data row8 col3\" >-0.004887</td>\n",
       "      <td id=\"T_ed575_row8_col4\" class=\"data row8 col4\" >-0.004491</td>\n",
       "      <td id=\"T_ed575_row8_col5\" class=\"data row8 col5\" >-0.003546</td>\n",
       "      <td id=\"T_ed575_row8_col6\" class=\"data row8 col6\" >-0.003546</td>\n",
       "      <td id=\"T_ed575_row8_col7\" class=\"data row8 col7\" >0.003396</td>\n",
       "      <td id=\"T_ed575_row8_col8\" class=\"data row8 col8\" >1.000000</td>\n",
       "      <td id=\"T_ed575_row8_col9\" class=\"data row8 col9\" >-0.003105</td>\n",
       "      <td id=\"T_ed575_row8_col10\" class=\"data row8 col10\" >-0.000065</td>\n",
       "      <td id=\"T_ed575_row8_col11\" class=\"data row8 col11\" >nan</td>\n",
       "      <td id=\"T_ed575_row8_col12\" class=\"data row8 col12\" >nan</td>\n",
       "      <td id=\"T_ed575_row8_col13\" class=\"data row8 col13\" >nan</td>\n",
       "      <td id=\"T_ed575_row8_col14\" class=\"data row8 col14\" >0.005135</td>\n",
       "    </tr>\n",
       "    <tr>\n",
       "      <th id=\"T_ed575_level0_row9\" class=\"row_heading level0 row9\" >AHU: Cooling Coil Valve Control Signal</th>\n",
       "      <td id=\"T_ed575_row9_col0\" class=\"data row9 col0\" >-0.040303</td>\n",
       "      <td id=\"T_ed575_row9_col1\" class=\"data row9 col1\" >nan</td>\n",
       "      <td id=\"T_ed575_row9_col2\" class=\"data row9 col2\" >0.430874</td>\n",
       "      <td id=\"T_ed575_row9_col3\" class=\"data row9 col3\" >0.314207</td>\n",
       "      <td id=\"T_ed575_row9_col4\" class=\"data row9 col4\" >0.294910</td>\n",
       "      <td id=\"T_ed575_row9_col5\" class=\"data row9 col5\" >0.492461</td>\n",
       "      <td id=\"T_ed575_row9_col6\" class=\"data row9 col6\" >0.492461</td>\n",
       "      <td id=\"T_ed575_row9_col7\" class=\"data row9 col7\" >0.025604</td>\n",
       "      <td id=\"T_ed575_row9_col8\" class=\"data row9 col8\" >-0.003105</td>\n",
       "      <td id=\"T_ed575_row9_col9\" class=\"data row9 col9\" >1.000000</td>\n",
       "      <td id=\"T_ed575_row9_col10\" class=\"data row9 col10\" >-0.007605</td>\n",
       "      <td id=\"T_ed575_row9_col11\" class=\"data row9 col11\" >nan</td>\n",
       "      <td id=\"T_ed575_row9_col12\" class=\"data row9 col12\" >nan</td>\n",
       "      <td id=\"T_ed575_row9_col13\" class=\"data row9 col13\" >nan</td>\n",
       "      <td id=\"T_ed575_row9_col14\" class=\"data row9 col14\" >-0.064496</td>\n",
       "    </tr>\n",
       "    <tr>\n",
       "      <th id=\"T_ed575_level0_row10\" class=\"row_heading level0 row10\" >AHU: Heating Coil Valve Control Signal</th>\n",
       "      <td id=\"T_ed575_row10_col0\" class=\"data row10 col0\" >-0.034857</td>\n",
       "      <td id=\"T_ed575_row10_col1\" class=\"data row10 col1\" >nan</td>\n",
       "      <td id=\"T_ed575_row10_col2\" class=\"data row10 col2\" >-0.030400</td>\n",
       "      <td id=\"T_ed575_row10_col3\" class=\"data row10 col3\" >-0.052948</td>\n",
       "      <td id=\"T_ed575_row10_col4\" class=\"data row10 col4\" >-0.047843</td>\n",
       "      <td id=\"T_ed575_row10_col5\" class=\"data row10 col5\" >-0.008686</td>\n",
       "      <td id=\"T_ed575_row10_col6\" class=\"data row10 col6\" >-0.008686</td>\n",
       "      <td id=\"T_ed575_row10_col7\" class=\"data row10 col7\" >0.010279</td>\n",
       "      <td id=\"T_ed575_row10_col8\" class=\"data row10 col8\" >-0.000065</td>\n",
       "      <td id=\"T_ed575_row10_col9\" class=\"data row10 col9\" >-0.007605</td>\n",
       "      <td id=\"T_ed575_row10_col10\" class=\"data row10 col10\" >1.000000</td>\n",
       "      <td id=\"T_ed575_row10_col11\" class=\"data row10 col11\" >nan</td>\n",
       "      <td id=\"T_ed575_row10_col12\" class=\"data row10 col12\" >nan</td>\n",
       "      <td id=\"T_ed575_row10_col13\" class=\"data row10 col13\" >nan</td>\n",
       "      <td id=\"T_ed575_row10_col14\" class=\"data row10 col14\" >-0.000000</td>\n",
       "    </tr>\n",
       "    <tr>\n",
       "      <th id=\"T_ed575_level0_row11\" class=\"row_heading level0 row11\" >AHU: Supply Air Duct Static Pressure Set Point</th>\n",
       "      <td id=\"T_ed575_row11_col0\" class=\"data row11 col0\" >nan</td>\n",
       "      <td id=\"T_ed575_row11_col1\" class=\"data row11 col1\" >nan</td>\n",
       "      <td id=\"T_ed575_row11_col2\" class=\"data row11 col2\" >nan</td>\n",
       "      <td id=\"T_ed575_row11_col3\" class=\"data row11 col3\" >nan</td>\n",
       "      <td id=\"T_ed575_row11_col4\" class=\"data row11 col4\" >nan</td>\n",
       "      <td id=\"T_ed575_row11_col5\" class=\"data row11 col5\" >nan</td>\n",
       "      <td id=\"T_ed575_row11_col6\" class=\"data row11 col6\" >nan</td>\n",
       "      <td id=\"T_ed575_row11_col7\" class=\"data row11 col7\" >nan</td>\n",
       "      <td id=\"T_ed575_row11_col8\" class=\"data row11 col8\" >nan</td>\n",
       "      <td id=\"T_ed575_row11_col9\" class=\"data row11 col9\" >nan</td>\n",
       "      <td id=\"T_ed575_row11_col10\" class=\"data row11 col10\" >nan</td>\n",
       "      <td id=\"T_ed575_row11_col11\" class=\"data row11 col11\" >nan</td>\n",
       "      <td id=\"T_ed575_row11_col12\" class=\"data row11 col12\" >nan</td>\n",
       "      <td id=\"T_ed575_row11_col13\" class=\"data row11 col13\" >nan</td>\n",
       "      <td id=\"T_ed575_row11_col14\" class=\"data row11 col14\" >nan</td>\n",
       "    </tr>\n",
       "    <tr>\n",
       "      <th id=\"T_ed575_level0_row12\" class=\"row_heading level0 row12\" >AHU: Supply Air Duct Static Pressure</th>\n",
       "      <td id=\"T_ed575_row12_col0\" class=\"data row12 col0\" >nan</td>\n",
       "      <td id=\"T_ed575_row12_col1\" class=\"data row12 col1\" >nan</td>\n",
       "      <td id=\"T_ed575_row12_col2\" class=\"data row12 col2\" >nan</td>\n",
       "      <td id=\"T_ed575_row12_col3\" class=\"data row12 col3\" >nan</td>\n",
       "      <td id=\"T_ed575_row12_col4\" class=\"data row12 col4\" >nan</td>\n",
       "      <td id=\"T_ed575_row12_col5\" class=\"data row12 col5\" >nan</td>\n",
       "      <td id=\"T_ed575_row12_col6\" class=\"data row12 col6\" >nan</td>\n",
       "      <td id=\"T_ed575_row12_col7\" class=\"data row12 col7\" >nan</td>\n",
       "      <td id=\"T_ed575_row12_col8\" class=\"data row12 col8\" >nan</td>\n",
       "      <td id=\"T_ed575_row12_col9\" class=\"data row12 col9\" >nan</td>\n",
       "      <td id=\"T_ed575_row12_col10\" class=\"data row12 col10\" >nan</td>\n",
       "      <td id=\"T_ed575_row12_col11\" class=\"data row12 col11\" >nan</td>\n",
       "      <td id=\"T_ed575_row12_col12\" class=\"data row12 col12\" >nan</td>\n",
       "      <td id=\"T_ed575_row12_col13\" class=\"data row12 col13\" >nan</td>\n",
       "      <td id=\"T_ed575_row12_col14\" class=\"data row12 col14\" >nan</td>\n",
       "    </tr>\n",
       "    <tr>\n",
       "      <th id=\"T_ed575_level0_row13\" class=\"row_heading level0 row13\" >Occupancy Mode Indicator</th>\n",
       "      <td id=\"T_ed575_row13_col0\" class=\"data row13 col0\" >nan</td>\n",
       "      <td id=\"T_ed575_row13_col1\" class=\"data row13 col1\" >nan</td>\n",
       "      <td id=\"T_ed575_row13_col2\" class=\"data row13 col2\" >nan</td>\n",
       "      <td id=\"T_ed575_row13_col3\" class=\"data row13 col3\" >nan</td>\n",
       "      <td id=\"T_ed575_row13_col4\" class=\"data row13 col4\" >nan</td>\n",
       "      <td id=\"T_ed575_row13_col5\" class=\"data row13 col5\" >nan</td>\n",
       "      <td id=\"T_ed575_row13_col6\" class=\"data row13 col6\" >nan</td>\n",
       "      <td id=\"T_ed575_row13_col7\" class=\"data row13 col7\" >nan</td>\n",
       "      <td id=\"T_ed575_row13_col8\" class=\"data row13 col8\" >nan</td>\n",
       "      <td id=\"T_ed575_row13_col9\" class=\"data row13 col9\" >nan</td>\n",
       "      <td id=\"T_ed575_row13_col10\" class=\"data row13 col10\" >nan</td>\n",
       "      <td id=\"T_ed575_row13_col11\" class=\"data row13 col11\" >nan</td>\n",
       "      <td id=\"T_ed575_row13_col12\" class=\"data row13 col12\" >nan</td>\n",
       "      <td id=\"T_ed575_row13_col13\" class=\"data row13 col13\" >nan</td>\n",
       "      <td id=\"T_ed575_row13_col14\" class=\"data row13 col14\" >nan</td>\n",
       "    </tr>\n",
       "    <tr>\n",
       "      <th id=\"T_ed575_level0_row14\" class=\"row_heading level0 row14\" >Fault Detection Ground Truth</th>\n",
       "      <td id=\"T_ed575_row14_col0\" class=\"data row14 col0\" >0.046377</td>\n",
       "      <td id=\"T_ed575_row14_col1\" class=\"data row14 col1\" >nan</td>\n",
       "      <td id=\"T_ed575_row14_col2\" class=\"data row14 col2\" >0.087003</td>\n",
       "      <td id=\"T_ed575_row14_col3\" class=\"data row14 col3\" >0.077250</td>\n",
       "      <td id=\"T_ed575_row14_col4\" class=\"data row14 col4\" >0.048184</td>\n",
       "      <td id=\"T_ed575_row14_col5\" class=\"data row14 col5\" >-0.004105</td>\n",
       "      <td id=\"T_ed575_row14_col6\" class=\"data row14 col6\" >-0.004105</td>\n",
       "      <td id=\"T_ed575_row14_col7\" class=\"data row14 col7\" >-0.142914</td>\n",
       "      <td id=\"T_ed575_row14_col8\" class=\"data row14 col8\" >0.005135</td>\n",
       "      <td id=\"T_ed575_row14_col9\" class=\"data row14 col9\" >-0.064496</td>\n",
       "      <td id=\"T_ed575_row14_col10\" class=\"data row14 col10\" >-0.000000</td>\n",
       "      <td id=\"T_ed575_row14_col11\" class=\"data row14 col11\" >nan</td>\n",
       "      <td id=\"T_ed575_row14_col12\" class=\"data row14 col12\" >nan</td>\n",
       "      <td id=\"T_ed575_row14_col13\" class=\"data row14 col13\" >nan</td>\n",
       "      <td id=\"T_ed575_row14_col14\" class=\"data row14 col14\" >1.000000</td>\n",
       "    </tr>\n",
       "  </tbody>\n",
       "</table>\n"
      ],
      "text/plain": [
       "<pandas.io.formats.style.Styler at 0x1dd810b60a0>"
      ]
     },
     "execution_count": 60,
     "metadata": {},
     "output_type": "execute_result"
    }
   ],
   "source": [
    "corr = df1.corr()\n",
    "corr.style.background_gradient(cmap=\"coolwarm\")"
   ]
  },
  {
   "cell_type": "code",
   "execution_count": 61,
   "id": "ec2ccb0b",
   "metadata": {},
   "outputs": [],
   "source": [
    "# One-hot encode all features in X.\n",
    "X_df1 = pd.get_dummies(X_df1) "
   ]
  },
  {
   "cell_type": "code",
   "execution_count": 62,
   "id": "5eef3374",
   "metadata": {},
   "outputs": [],
   "source": [
    "# Call train_test_split on X_df1, y_df1. Make the test_size = 0.25, and random_state = 246\n",
    "X_df1_train, X_df1_test, y_df1_train, y_df1_test = train_test_split(X_df1, y_df1, test_size=0.25, random_state=246) "
   ]
  },
  {
   "cell_type": "code",
   "execution_count": 63,
   "id": "4baa4a8c",
   "metadata": {},
   "outputs": [],
   "source": [
    "X_df1_train = X_df1_train.to_numpy()\n",
    "y_df1_train = y_df1_train.to_numpy()"
   ]
  },
  {
   "cell_type": "markdown",
   "id": "e7458b83",
   "metadata": {},
   "source": [
    "### 4.1.3b MZVAV_2_1_hcvleak"
   ]
  },
  {
   "cell_type": "code",
   "execution_count": 64,
   "id": "a5d303a7",
   "metadata": {},
   "outputs": [
    {
     "data": {
      "text/html": [
       "<div>\n",
       "<style scoped>\n",
       "    .dataframe tbody tr th:only-of-type {\n",
       "        vertical-align: middle;\n",
       "    }\n",
       "\n",
       "    .dataframe tbody tr th {\n",
       "        vertical-align: top;\n",
       "    }\n",
       "\n",
       "    .dataframe thead th {\n",
       "        text-align: right;\n",
       "    }\n",
       "</style>\n",
       "<table border=\"1\" class=\"dataframe\">\n",
       "  <thead>\n",
       "    <tr style=\"text-align: right;\">\n",
       "      <th></th>\n",
       "      <th>AHU: Supply Air Temperature</th>\n",
       "      <th>AHU: Supply Air Temperature Set Point</th>\n",
       "      <th>AHU: Outdoor Air Temperature</th>\n",
       "      <th>AHU: Mixed Air Temperature</th>\n",
       "      <th>AHU: Return Air Temperature</th>\n",
       "      <th>AHU: Supply Air Fan Speed Control Signal</th>\n",
       "      <th>AHU: Return Air Fan Speed Control Signal</th>\n",
       "      <th>AHU: Exhaust Air Damper Control Signal</th>\n",
       "      <th>AHU: Outdoor Air Damper Control Signal</th>\n",
       "      <th>AHU: Return Air Damper Control Signal</th>\n",
       "      <th>AHU: Cooling Coil Valve Control Signal</th>\n",
       "      <th>AHU: Heating Coil Valve Control Signal</th>\n",
       "      <th>AHU: Supply Air Duct Static Pressure Set Point</th>\n",
       "      <th>AHU: Supply Air Duct Static Pressure</th>\n",
       "      <th>Occupancy Mode Indicator</th>\n",
       "      <th>Fault Detection Ground Truth</th>\n",
       "    </tr>\n",
       "  </thead>\n",
       "  <tbody>\n",
       "    <tr>\n",
       "      <th>0</th>\n",
       "      <td>74.31</td>\n",
       "      <td>55</td>\n",
       "      <td>73.64</td>\n",
       "      <td>72.91</td>\n",
       "      <td>73.65</td>\n",
       "      <td>0.20</td>\n",
       "      <td>0.20</td>\n",
       "      <td>0.00</td>\n",
       "      <td>0.00</td>\n",
       "      <td>1.00</td>\n",
       "      <td>0.0</td>\n",
       "      <td>0.0</td>\n",
       "      <td>1.4</td>\n",
       "      <td>0.00</td>\n",
       "      <td>1</td>\n",
       "      <td>1</td>\n",
       "    </tr>\n",
       "    <tr>\n",
       "      <th>1</th>\n",
       "      <td>74.09</td>\n",
       "      <td>55</td>\n",
       "      <td>73.65</td>\n",
       "      <td>73.01</td>\n",
       "      <td>74.28</td>\n",
       "      <td>0.22</td>\n",
       "      <td>0.16</td>\n",
       "      <td>0.00</td>\n",
       "      <td>0.00</td>\n",
       "      <td>1.00</td>\n",
       "      <td>0.0</td>\n",
       "      <td>0.0</td>\n",
       "      <td>1.4</td>\n",
       "      <td>0.03</td>\n",
       "      <td>1</td>\n",
       "      <td>1</td>\n",
       "    </tr>\n",
       "    <tr>\n",
       "      <th>2</th>\n",
       "      <td>74.09</td>\n",
       "      <td>55</td>\n",
       "      <td>73.61</td>\n",
       "      <td>73.33</td>\n",
       "      <td>75.34</td>\n",
       "      <td>0.30</td>\n",
       "      <td>0.21</td>\n",
       "      <td>0.04</td>\n",
       "      <td>0.04</td>\n",
       "      <td>0.96</td>\n",
       "      <td>0.0</td>\n",
       "      <td>0.0</td>\n",
       "      <td>1.4</td>\n",
       "      <td>0.09</td>\n",
       "      <td>1</td>\n",
       "      <td>1</td>\n",
       "    </tr>\n",
       "  </tbody>\n",
       "</table>\n",
       "</div>"
      ],
      "text/plain": [
       "   AHU: Supply Air Temperature  AHU: Supply Air Temperature Set Point  \\\n",
       "0                        74.31                                     55   \n",
       "1                        74.09                                     55   \n",
       "2                        74.09                                     55   \n",
       "\n",
       "   AHU: Outdoor Air Temperature  AHU: Mixed Air Temperature  \\\n",
       "0                         73.64                       72.91   \n",
       "1                         73.65                       73.01   \n",
       "2                         73.61                       73.33   \n",
       "\n",
       "   AHU: Return Air Temperature  AHU: Supply Air Fan Speed Control Signal  \\\n",
       "0                        73.65                                      0.20   \n",
       "1                        74.28                                      0.22   \n",
       "2                        75.34                                      0.30   \n",
       "\n",
       "   AHU: Return Air Fan Speed Control Signal  \\\n",
       "0                                      0.20   \n",
       "1                                      0.16   \n",
       "2                                      0.21   \n",
       "\n",
       "   AHU: Exhaust Air Damper Control Signal  \\\n",
       "0                                    0.00   \n",
       "1                                    0.00   \n",
       "2                                    0.04   \n",
       "\n",
       "   AHU: Outdoor Air Damper Control Signal  \\\n",
       "0                                    0.00   \n",
       "1                                    0.00   \n",
       "2                                    0.04   \n",
       "\n",
       "   AHU: Return Air Damper Control Signal  \\\n",
       "0                                   1.00   \n",
       "1                                   1.00   \n",
       "2                                   0.96   \n",
       "\n",
       "   AHU: Cooling Coil Valve Control Signal  \\\n",
       "0                                     0.0   \n",
       "1                                     0.0   \n",
       "2                                     0.0   \n",
       "\n",
       "   AHU: Heating Coil Valve Control Signal  \\\n",
       "0                                     0.0   \n",
       "1                                     0.0   \n",
       "2                                     0.0   \n",
       "\n",
       "   AHU: Supply Air Duct Static Pressure Set Point  \\\n",
       "0                                             1.4   \n",
       "1                                             1.4   \n",
       "2                                             1.4   \n",
       "\n",
       "   AHU: Supply Air Duct Static Pressure  Occupancy Mode Indicator  \\\n",
       "0                                  0.00                         1   \n",
       "1                                  0.03                         1   \n",
       "2                                  0.09                         1   \n",
       "\n",
       "   Fault Detection Ground Truth  \n",
       "0                             1  \n",
       "1                             1  \n",
       "2                             1  "
      ]
     },
     "execution_count": 64,
     "metadata": {},
     "output_type": "execute_result"
    }
   ],
   "source": [
    "df2 = pd.read_csv('../data/df2.csv')\n",
    "df2 = df2.drop(columns = [\"Unnamed: 0\"])\n",
    "df2.head(3)"
   ]
  },
  {
   "cell_type": "code",
   "execution_count": 65,
   "id": "a279e9f4",
   "metadata": {},
   "outputs": [],
   "source": [
    "# Make a variable called 'features', and a list containing the strings of every column except \"Fault Detection Ground Truth\"\n",
    "features_df2 = [column for column in df2.columns if column != 'Fault Detection Ground Truth']\n",
    "\n",
    "# Make an explanatory variable called X, and assign it: NoPrediction[features]\n",
    "X_df2 = df2[features_df2] \n",
    "\n",
    "# Make a dependent variable called y, and assign it: df1['Fault Detection Ground Truth']\n",
    "y_df2 = df2['Fault Detection Ground Truth'] "
   ]
  },
  {
   "cell_type": "code",
   "execution_count": 66,
   "id": "50f0bf50",
   "metadata": {},
   "outputs": [],
   "source": [
    "# One-hot encode all features in X.\n",
    "X_df2 = pd.get_dummies(X_df2) "
   ]
  },
  {
   "cell_type": "code",
   "execution_count": 67,
   "id": "6268b0f9",
   "metadata": {},
   "outputs": [],
   "source": [
    "# Call train_test_split on X_df2, y_df2. Make the test_size = 0.25, and random_state = 246\n",
    "X_df2_train, X_df2_test, y_df2_train, y_df2_test = train_test_split(X_df2, y_df2, test_size=0.25, random_state=246) "
   ]
  },
  {
   "cell_type": "markdown",
   "id": "5bcae11f",
   "metadata": {},
   "source": [
    "### 4.1.3c MZVAV_2_2_oadamperstuck (the same as 4.1.3a)"
   ]
  },
  {
   "cell_type": "markdown",
   "id": "4b818940",
   "metadata": {},
   "source": [
    "### 4.1.3d MZVAV_2_2_ccvstuck (the same as 4.1.3a)"
   ]
  },
  {
   "cell_type": "markdown",
   "id": "a8c2ca50",
   "metadata": {},
   "source": [
    "### 4.1.3e SZCAV_ccvleak (the same as 4.1.3a)"
   ]
  },
  {
   "cell_type": "markdown",
   "id": "5097b8fd",
   "metadata": {},
   "source": [
    "### 4.1.3f SZVAV_hcvleak (the same as 4.1.3a)"
   ]
  },
  {
   "cell_type": "markdown",
   "id": "eb11e7ea",
   "metadata": {},
   "source": [
    "## 4.2 Standardize the magnitude of numeric features"
   ]
  },
  {
   "cell_type": "markdown",
   "id": "4292d87f",
   "metadata": {},
   "source": [
    "### 4.2.1a MZVAV_1_oaplus2"
   ]
  },
  {
   "cell_type": "code",
   "execution_count": 68,
   "id": "4518304d",
   "metadata": {},
   "outputs": [],
   "source": [
    "# Making a Scaler object \n",
    "scaler = preprocessing.MinMaxScaler((-1,1)) "
   ]
  },
  {
   "cell_type": "code",
   "execution_count": 69,
   "id": "32f38b75",
   "metadata": {},
   "outputs": [
    {
     "name": "stderr",
     "output_type": "stream",
     "text": [
      "C:\\Users\\weiru\\anaconda3\\lib\\site-packages\\sklearn\\base.py:443: UserWarning: X has feature names, but MinMaxScaler was fitted without feature names\n",
      "  warnings.warn(\n"
     ]
    }
   ],
   "source": [
    "# Fitting data to the scaler object\n",
    "X_df1_train = scaler.fit_transform(X_df1_train)\n",
    "X_df1_test = scaler.transform(X_df1_test)\n",
    "X_df1_train = pd.DataFrame(X_df1_train, columns=features_df1) "
   ]
  },
  {
   "cell_type": "markdown",
   "id": "226d0404",
   "metadata": {},
   "source": [
    "### 4.2.1b MZVAV_2_1_hcvleak"
   ]
  },
  {
   "cell_type": "markdown",
   "id": "585cb914",
   "metadata": {},
   "source": [
    "### 4.2.1c MZVAV_2_2_oadamperstuck"
   ]
  },
  {
   "cell_type": "markdown",
   "id": "68f6f507",
   "metadata": {},
   "source": [
    "### 4.2.1d MZVAV_2_2_ccvstuck"
   ]
  },
  {
   "cell_type": "markdown",
   "id": "f6356794",
   "metadata": {},
   "source": [
    "### 4.2.1e SZCAV_ccvleak"
   ]
  },
  {
   "cell_type": "markdown",
   "id": "a9ad8578",
   "metadata": {},
   "source": [
    "### 4.2.1f SZVAV_hcvleak"
   ]
  },
  {
   "cell_type": "markdown",
   "id": "a4165ecd",
   "metadata": {},
   "source": [
    "# 05 Machine Learning models<a id='05_Machine Learning models'></a>"
   ]
  },
  {
   "cell_type": "markdown",
   "id": "544e6b66",
   "metadata": {},
   "source": [
    "This is a classification problem, in supervised learning. Here we have used the following classification models. \n",
    "\n",
    "Evaluating the performance of a model by training and testing on the same dataset can lead to the overfitting. Hence the model evaluation is based on splitting the dataset into train and validation set. But the performance of the prediction result depends upon the random choice of the pair of (train,validation) set. Inorder to overcome that, the Cross-Validation procedure is used where under the k-fold CV approach, the training set is split into k smaller sets, where a model is trained using k-1 of the folds as training data and the model is validated on the remaining part.\n",
    "\n",
    "Classification/ Confusion Matrix: This matrix summarizes the correct and incorrect classifications that a classifier produced for a certain dataset. Rows and columns of the classification matrix correspond to the true and predicted classes respectively. The two diagonal cells (upper left, lower right) give the number of correct classifications, where the predicted class coincides with the actual class of the observation. The off diagonal cells gives the count of the misclassification. The classification matrix gives estimates of the true classification and misclassification rates."
   ]
  },
  {
   "cell_type": "markdown",
   "id": "5ebfc783",
   "metadata": {},
   "source": [
    "## 5.1 Logistic Regression\n",
    "\n",
    "\n",
    "\n",
    "\n",
    "\n",
    "\n",
    "\n"
   ]
  },
  {
   "cell_type": "code",
   "execution_count": 70,
   "id": "fe9c27f7",
   "metadata": {},
   "outputs": [
    {
     "name": "stderr",
     "output_type": "stream",
     "text": [
      "C:\\Users\\weiru\\anaconda3\\lib\\site-packages\\sklearn\\base.py:450: UserWarning: X does not have valid feature names, but LogisticRegression was fitted with feature names\n",
      "  warnings.warn(\n",
      "C:\\Users\\weiru\\anaconda3\\lib\\site-packages\\sklearn\\base.py:450: UserWarning: X does not have valid feature names, but LogisticRegression was fitted with feature names\n",
      "  warnings.warn(\n",
      "C:\\Users\\weiru\\anaconda3\\lib\\site-packages\\sklearn\\base.py:450: UserWarning: X does not have valid feature names, but LogisticRegression was fitted with feature names\n",
      "  warnings.warn(\n",
      "C:\\Users\\weiru\\anaconda3\\lib\\site-packages\\sklearn\\base.py:450: UserWarning: X does not have valid feature names, but LogisticRegression was fitted with feature names\n",
      "  warnings.warn(\n",
      "C:\\Users\\weiru\\anaconda3\\lib\\site-packages\\sklearn\\base.py:450: UserWarning: X does not have valid feature names, but LogisticRegression was fitted with feature names\n",
      "  warnings.warn(\n",
      "C:\\Users\\weiru\\anaconda3\\lib\\site-packages\\sklearn\\base.py:450: UserWarning: X does not have valid feature names, but LogisticRegression was fitted with feature names\n",
      "  warnings.warn(\n"
     ]
    },
    {
     "data": {
      "text/html": [
       "<div>\n",
       "<style scoped>\n",
       "    .dataframe tbody tr th:only-of-type {\n",
       "        vertical-align: middle;\n",
       "    }\n",
       "\n",
       "    .dataframe tbody tr th {\n",
       "        vertical-align: top;\n",
       "    }\n",
       "\n",
       "    .dataframe thead th {\n",
       "        text-align: right;\n",
       "    }\n",
       "</style>\n",
       "<table border=\"1\" class=\"dataframe\">\n",
       "  <thead>\n",
       "    <tr style=\"text-align: right;\">\n",
       "      <th></th>\n",
       "      <th>C_parameter</th>\n",
       "      <th>Accuracy</th>\n",
       "    </tr>\n",
       "  </thead>\n",
       "  <tbody>\n",
       "    <tr>\n",
       "      <th>0</th>\n",
       "      <td>0.001</td>\n",
       "      <td>0.598734</td>\n",
       "    </tr>\n",
       "    <tr>\n",
       "      <th>1</th>\n",
       "      <td>0.010</td>\n",
       "      <td>0.625738</td>\n",
       "    </tr>\n",
       "    <tr>\n",
       "      <th>2</th>\n",
       "      <td>0.100</td>\n",
       "      <td>0.67943</td>\n",
       "    </tr>\n",
       "    <tr>\n",
       "      <th>3</th>\n",
       "      <td>1.000</td>\n",
       "      <td>0.690084</td>\n",
       "    </tr>\n",
       "    <tr>\n",
       "      <th>4</th>\n",
       "      <td>10.000</td>\n",
       "      <td>0.694304</td>\n",
       "    </tr>\n",
       "    <tr>\n",
       "      <th>5</th>\n",
       "      <td>100.000</td>\n",
       "      <td>0.695148</td>\n",
       "    </tr>\n",
       "  </tbody>\n",
       "</table>\n",
       "</div>"
      ],
      "text/plain": [
       "   C_parameter  Accuracy\n",
       "0        0.001  0.598734\n",
       "1        0.010  0.625738\n",
       "2        0.100   0.67943\n",
       "3        1.000  0.690084\n",
       "4       10.000  0.694304\n",
       "5      100.000  0.695148"
      ]
     },
     "execution_count": 70,
     "metadata": {},
     "output_type": "execute_result"
    }
   ],
   "source": [
    "C_param_range = [0.001,0.01,0.1,1,10,100]\n",
    "\n",
    "table = pd.DataFrame(columns = ['C_parameter','Accuracy'])\n",
    "table['C_parameter'] = C_param_range\n",
    "\n",
    "\n",
    "j = 0\n",
    "for i in C_param_range:\n",
    "    \n",
    "    # Apply logistic regression model to training data\n",
    "    Logreg = LogisticRegression(solver = 'newton-cg', max_iter = 1000, penalty = 'l2', C = i,random_state = 40)\n",
    "    Logreg.fit(X_df1_train,y_df1_train)\n",
    "    \n",
    "    # Predict using model\n",
    "    y_pred_lr = Logreg.predict(X_df1_test)\n",
    "    \n",
    "    # Saving accuracy score in table\n",
    "    table.iloc[j,1] = accuracy_score(y_df1_test,y_pred_lr)\n",
    "    j += 1\n",
    "    \n",
    "table  "
   ]
  },
  {
   "cell_type": "code",
   "execution_count": 71,
   "id": "d50e0f70",
   "metadata": {},
   "outputs": [
    {
     "name": "stdout",
     "output_type": "stream",
     "text": [
      "[[3210 1599]\n",
      " [1291 3380]]\n",
      "0.6951476793248945\n"
     ]
    },
    {
     "name": "stderr",
     "output_type": "stream",
     "text": [
      "C:\\Users\\weiru\\anaconda3\\lib\\site-packages\\sklearn\\base.py:450: UserWarning: X does not have valid feature names, but LogisticRegression was fitted with feature names\n",
      "  warnings.warn(\n"
     ]
    }
   ],
   "source": [
    "from sklearn.metrics import confusion_matrix\n",
    "\n",
    "cnf_matrix= confusion_matrix(y_df1_test,y_pred_lr)\n",
    "print(cnf_matrix)\n",
    "Accuracy_lr=Logreg.score(X_df1_test,y_df1_test)\n",
    "\n",
    "print(Accuracy_lr)"
   ]
  },
  {
   "cell_type": "code",
   "execution_count": 72,
   "id": "dd006533",
   "metadata": {},
   "outputs": [
    {
     "name": "stdout",
     "output_type": "stream",
     "text": [
      "[0.73044122 0.7390819  0.74255321 0.71623291 0.72495403]\n",
      "Mean cross validation test score: 0.7306526548649781\n",
      "Mean cross validation train score: 0.7322597322798432\n",
      "Standard deviation in cv test scores: 0.009519699582884063\n"
     ]
    }
   ],
   "source": [
    "from sklearn.model_selection import cross_val_score\n",
    "\n",
    "cv_scores_test= cross_val_score(Logreg,X_df1_test,y_df1_test,cv=5,scoring='roc_auc')\n",
    "cv_scores_train= cross_val_score(Logreg,X_df1_train,y_df1_train,cv=5,scoring='roc_auc')\n",
    "print(cv_scores_test)\n",
    "cv_scores_lr_test= cv_scores_test.mean()\n",
    "cv_scores_lr_train= cv_scores_train.mean()\n",
    "cv_scores_std_test_lr= cv_scores_test.std()\n",
    "print ('Mean cross validation test score: ' +str(cv_scores_lr_test))\n",
    "print ('Mean cross validation train score: ' +str(cv_scores_lr_train))\n",
    "print ('Standard deviation in cv test scores: ' +str(cv_scores_std_test_lr))"
   ]
  },
  {
   "cell_type": "markdown",
   "id": "458ee481",
   "metadata": {},
   "source": [
    "## 5.2 K-Nearest Neighbor (KNN)\n",
    "\n",
    "\n",
    "\n",
    "\n",
    "\n",
    "\n",
    "\n",
    "\n",
    "\n"
   ]
  },
  {
   "cell_type": "markdown",
   "id": "00ef8b5c",
   "metadata": {},
   "source": [
    "Using a range of neighbor values of 1-10, apply the KNearestNeighbor classifier to classify the the data."
   ]
  },
  {
   "cell_type": "code",
   "execution_count": 73,
   "id": "37a6b45b",
   "metadata": {},
   "outputs": [
    {
     "name": "stderr",
     "output_type": "stream",
     "text": [
      "C:\\Users\\weiru\\anaconda3\\lib\\site-packages\\sklearn\\base.py:450: UserWarning: X does not have valid feature names, but KNeighborsClassifier was fitted with feature names\n",
      "  warnings.warn(\n"
     ]
    },
    {
     "name": "stdout",
     "output_type": "stream",
     "text": [
      "[[4760   49]\n",
      " [  37 4634]]\n"
     ]
    },
    {
     "name": "stderr",
     "output_type": "stream",
     "text": [
      "C:\\Users\\weiru\\anaconda3\\lib\\site-packages\\sklearn\\base.py:450: UserWarning: X does not have valid feature names, but KNeighborsClassifier was fitted with feature names\n",
      "  warnings.warn(\n"
     ]
    },
    {
     "name": "stdout",
     "output_type": "stream",
     "text": [
      "0.9909282700421941\n"
     ]
    }
   ],
   "source": [
    "from sklearn.neighbors import KNeighborsClassifier\n",
    "#from sklearn.metrics import plot_roc_curve\n",
    "\n",
    "# Apply KNN model to training data:\n",
    "\n",
    "knn = KNeighborsClassifier(p=2,weights='distance',n_neighbors=50)\n",
    "knn.fit(X_df1_train,y_df1_train)\n",
    "\n",
    "# Predict using model:\n",
    "\n",
    "y_predict_knn=knn.predict(X_df1_test)\n",
    "\n",
    "#Confusion matrix:\n",
    "\n",
    "cnf_matrix = confusion_matrix(y_df1_test, y_predict_knn)\n",
    "print(cnf_matrix)\n",
    "Accuracy_knn=knn.score(X_df1_test,y_df1_test)\n",
    "\n",
    "print(Accuracy_knn)\n",
    "#knn_disp= plot_roc_curve(knn,X_test,y_test)"
   ]
  },
  {
   "cell_type": "code",
   "execution_count": 74,
   "id": "4e4f42fc",
   "metadata": {},
   "outputs": [
    {
     "name": "stdout",
     "output_type": "stream",
     "text": [
      "[0.9913359  0.99570622 0.99322154 0.99273796 0.99275688]\n",
      "Mean cross validation test score: 0.9931516990234449\n",
      "Mean cross validation train score: 0.9989349226156212\n",
      "Standard deviation in cv scores: 0.0014251055061260621\n"
     ]
    }
   ],
   "source": [
    "from sklearn.model_selection import cross_val_score\n",
    "\n",
    "cv_scores_test= cross_val_score(knn,X_df1_test,y_df1_test,cv=5,scoring='roc_auc')\n",
    "cv_scores_train= cross_val_score(knn,X_df1_train,y_df1_train,cv=5,scoring='roc_auc')\n",
    "print(cv_scores_test)\n",
    "cv_scores_knn_test= cv_scores_test.mean()\n",
    "cv_scores_knn_train= cv_scores_train.mean()\n",
    "cv_scores_std_knn= cv_scores_test.std()\n",
    "print ('Mean cross validation test score: ' +str(cv_scores_knn_test))\n",
    "print ('Mean cross validation train score: ' +str(cv_scores_knn_train))\n",
    "print ('Standard deviation in cv scores: ' +str(cv_scores_std_knn))"
   ]
  },
  {
   "cell_type": "markdown",
   "id": "4b2f40fd",
   "metadata": {},
   "source": [
    "## 5.3 SVM\n",
    "\n",
    "\n",
    "\n",
    "\n",
    "\n",
    "\n",
    "\n",
    "\n",
    "\n"
   ]
  },
  {
   "cell_type": "code",
   "execution_count": 75,
   "id": "3f25cecb",
   "metadata": {},
   "outputs": [
    {
     "name": "stderr",
     "output_type": "stream",
     "text": [
      "C:\\Users\\weiru\\anaconda3\\lib\\site-packages\\sklearn\\base.py:450: UserWarning: X does not have valid feature names, but SVC was fitted with feature names\n",
      "  warnings.warn(\n"
     ]
    },
    {
     "name": "stdout",
     "output_type": "stream",
     "text": [
      "[[2778 2031]\n",
      " [1051 3620]]\n"
     ]
    },
    {
     "name": "stderr",
     "output_type": "stream",
     "text": [
      "C:\\Users\\weiru\\anaconda3\\lib\\site-packages\\sklearn\\base.py:450: UserWarning: X does not have valid feature names, but SVC was fitted with feature names\n",
      "  warnings.warn(\n"
     ]
    },
    {
     "name": "stdout",
     "output_type": "stream",
     "text": [
      "0.6748945147679325\n"
     ]
    }
   ],
   "source": [
    "from sklearn.svm import SVC\n",
    "\n",
    "svm = SVC(kernel='linear')\n",
    "svm.fit(X_df1_train, y_df1_train)\n",
    "\n",
    "# Predict using model:\n",
    "\n",
    "y_predict_svm=svm.predict(X_df1_test)\n",
    "\n",
    "#Confusion matrix:\n",
    "\n",
    "cnf_matrix = confusion_matrix(y_df1_test, y_predict_svm)\n",
    "print(cnf_matrix)\n",
    "\n",
    "Accuracy_svm=svm.score(X_df1_test,y_df1_test)\n",
    "print(Accuracy_svm)"
   ]
  },
  {
   "cell_type": "code",
   "execution_count": 76,
   "id": "4d50e3eb",
   "metadata": {},
   "outputs": [
    {
     "name": "stdout",
     "output_type": "stream",
     "text": [
      "[0.73424519 0.74383534 0.74391769 0.71562858 0.72580099]\n",
      "Mean cross validation test score: 0.7326855576978554\n",
      "Mean cross validation train score: 0.7381630136315975\n",
      "Standard deviation in cv scores: 0.010874270162149929\n"
     ]
    }
   ],
   "source": [
    "from sklearn.model_selection import cross_val_score\n",
    "\n",
    "cv_scores_test= cross_val_score(svm,X_df1_test,y_df1_test,cv=5,scoring='roc_auc')\n",
    "cv_scores_train= cross_val_score(svm,X_df1_train,y_df1_train,cv=5,scoring='roc_auc')\n",
    "print(cv_scores_test)\n",
    "cv_scores_svm_test= cv_scores_test.mean()\n",
    "cv_scores_svm_train= cv_scores_train.mean()\n",
    "cv_scores_std_svm= cv_scores_test.std()\n",
    "print ('Mean cross validation test score: ' +str(cv_scores_svm_test))\n",
    "print ('Mean cross validation train score: ' +str(cv_scores_svm_train))\n",
    "print ('Standard deviation in cv scores: ' +str(cv_scores_std_svm))"
   ]
  },
  {
   "cell_type": "markdown",
   "id": "2098387f",
   "metadata": {},
   "source": [
    "## 5.4 Random Forest\n",
    "\n",
    "\n",
    "\n",
    "\n",
    "\n",
    "\n",
    "\n",
    "\n",
    "\n"
   ]
  },
  {
   "cell_type": "code",
   "execution_count": 77,
   "id": "7fab63be",
   "metadata": {},
   "outputs": [
    {
     "name": "stderr",
     "output_type": "stream",
     "text": [
      "C:\\Users\\weiru\\anaconda3\\lib\\site-packages\\sklearn\\base.py:450: UserWarning: X does not have valid feature names, but RandomForestClassifier was fitted with feature names\n",
      "  warnings.warn(\n",
      "C:\\Users\\weiru\\anaconda3\\lib\\site-packages\\sklearn\\base.py:450: UserWarning: X does not have valid feature names, but RandomForestClassifier was fitted with feature names\n",
      "  warnings.warn(\n"
     ]
    },
    {
     "name": "stdout",
     "output_type": "stream",
     "text": [
      "[[4799   10]\n",
      " [  12 4659]]\n",
      "0.9976793248945147\n"
     ]
    }
   ],
   "source": [
    "from sklearn.ensemble import RandomForestClassifier\n",
    "\n",
    "#Apply RF to the training data:\n",
    "\n",
    "rf = RandomForestClassifier(bootstrap=True,n_estimators=100,criterion='entropy')\n",
    "rf.fit(X_df1_train, y_df1_train)\n",
    "\n",
    "#Predict using the model:\n",
    "\n",
    "y_predict_rf = rf.predict(X_df1_test)\n",
    "\n",
    "#Confusion matrix:\n",
    "\n",
    "cnf_matrix = confusion_matrix(y_df1_test, y_predict_rf)\n",
    "print(cnf_matrix)\n",
    "Accuracy_rf=rf.score(X_df1_test,y_df1_test)\n",
    "print(Accuracy_rf)"
   ]
  },
  {
   "cell_type": "code",
   "execution_count": 78,
   "id": "b39746e0",
   "metadata": {},
   "outputs": [
    {
     "name": "stdout",
     "output_type": "stream",
     "text": [
      "[0.99783091 0.99852923 0.99879856 0.99845689 0.99856095]\n",
      "Mean cross validation test score: 0.9984353079917667\n",
      "Mean cross validation train score: 0.9997943162823871\n",
      "Standard deviation in cv scores: 0.00032320870724968017\n"
     ]
    }
   ],
   "source": [
    "from sklearn.model_selection import cross_val_score\n",
    "\n",
    "cv_scores_test= cross_val_score(rf,X_df1_test,y_df1_test,cv=5,scoring='roc_auc')\n",
    "cv_scores_train= cross_val_score(rf,X_df1_train,y_df1_train,cv=5,scoring='roc_auc')\n",
    "print(cv_scores_test)\n",
    "cv_scores_rf_test= cv_scores_test.mean()\n",
    "cv_scores_rf_train= cv_scores_train.mean()\n",
    "cv_scores_std_rf= cv_scores_test.std()\n",
    "print ('Mean cross validation test score: ' +str(cv_scores_rf_test))\n",
    "print ('Mean cross validation train score: ' +str(cv_scores_rf_train))\n",
    "print ('Standard deviation in cv scores: ' +str(cv_scores_std_rf))"
   ]
  },
  {
   "cell_type": "markdown",
   "id": "d9b3f01b",
   "metadata": {},
   "source": [
    "## 5.5 Naive Bayes\n",
    "\n",
    "\n",
    "\n",
    "\n",
    "\n",
    "\n",
    "\n",
    "\n"
   ]
  },
  {
   "cell_type": "code",
   "execution_count": 79,
   "id": "ab13d41f",
   "metadata": {
    "scrolled": true
   },
   "outputs": [
    {
     "name": "stdout",
     "output_type": "stream",
     "text": [
      "[[4809    0]\n",
      " [4671    0]]\n",
      "0.5072784810126583\n"
     ]
    },
    {
     "name": "stderr",
     "output_type": "stream",
     "text": [
      "C:\\Users\\weiru\\anaconda3\\lib\\site-packages\\sklearn\\base.py:450: UserWarning: X does not have valid feature names, but GaussianNB was fitted with feature names\n",
      "  warnings.warn(\n",
      "C:\\Users\\weiru\\anaconda3\\lib\\site-packages\\sklearn\\base.py:450: UserWarning: X does not have valid feature names, but GaussianNB was fitted with feature names\n",
      "  warnings.warn(\n"
     ]
    }
   ],
   "source": [
    "from sklearn.naive_bayes import GaussianNB\n",
    "nb = GaussianNB()\n",
    "nb.fit(X_df1_train,y_df1_train)\n",
    "\n",
    "#Predict using the model:\n",
    "\n",
    "y_predict_nb=nb.predict(X_df1_test)\n",
    "\n",
    "#Confusion matrix:\n",
    "\n",
    "cnf_matrix = confusion_matrix(y_df1_test, y_predict_nb)\n",
    "print(cnf_matrix)\n",
    "Accuracy_nb=nb.score(X_df1_test,y_df1_test)\n",
    "print(Accuracy_nb)"
   ]
  },
  {
   "cell_type": "code",
   "execution_count": 80,
   "id": "2eb7f8cf",
   "metadata": {},
   "outputs": [
    {
     "name": "stdout",
     "output_type": "stream",
     "text": [
      "[0.60165603 0.59180274 0.607437   0.57348627 0.58446113]\n",
      "Mean cross validation test score: 0.591768633175713\n",
      "Mean cross validation train score: 0.5897166340923862\n",
      "Standard deviation in cv scores: 0.012090523739603442\n"
     ]
    }
   ],
   "source": [
    "from sklearn.model_selection import cross_val_score\n",
    "\n",
    "cv_scores_test= cross_val_score(nb,X_df1_test,y_df1_test,cv=5,scoring='roc_auc')\n",
    "cv_scores_train= cross_val_score(nb,X_df1_train,y_df1_train,cv=5,scoring='roc_auc')\n",
    "print(cv_scores_test)\n",
    "cv_scores_nb_test= cv_scores_test.mean()\n",
    "cv_scores_nb_train= cv_scores_train.mean()\n",
    "cv_scores_std_nb= cv_scores_test.std()\n",
    "print ('Mean cross validation test score: ' +str(cv_scores_nb_test))\n",
    "print ('Mean cross validation train score: ' +str(cv_scores_nb_train))\n",
    "print ('Standard deviation in cv scores: ' +str(cv_scores_std_nb))"
   ]
  },
  {
   "cell_type": "markdown",
   "id": "a84b25e3",
   "metadata": {},
   "source": [
    "## 5.6 Gradient Boost"
   ]
  },
  {
   "cell_type": "code",
   "execution_count": 81,
   "id": "712b7127",
   "metadata": {},
   "outputs": [
    {
     "name": "stdout",
     "output_type": "stream",
     "text": [
      "[[4791   18]\n",
      " [   7 4664]]\n",
      "0.9973628691983122\n"
     ]
    },
    {
     "name": "stderr",
     "output_type": "stream",
     "text": [
      "C:\\Users\\weiru\\anaconda3\\lib\\site-packages\\sklearn\\base.py:450: UserWarning: X does not have valid feature names, but GradientBoostingClassifier was fitted with feature names\n",
      "  warnings.warn(\n",
      "C:\\Users\\weiru\\anaconda3\\lib\\site-packages\\sklearn\\base.py:450: UserWarning: X does not have valid feature names, but GradientBoostingClassifier was fitted with feature names\n",
      "  warnings.warn(\n"
     ]
    }
   ],
   "source": [
    "from sklearn.ensemble import ExtraTreesClassifier, GradientBoostingClassifier\n",
    "gbc = GradientBoostingClassifier(subsample=0.8, learning_rate=0.05 , n_estimators=160, random_state=5, max_depth=9, max_leaf_nodes=100)\n",
    "gbc.fit(X_df1_train, y_df1_train)\n",
    "\n",
    "#Predict using the model:\n",
    "\n",
    "y_predict_gbc = gbc.predict(X_df1_test)\n",
    "\n",
    "#Confusion matrix:\n",
    "\n",
    "cnf_matrix = confusion_matrix(y_df1_test, y_predict_gbc)\n",
    "print(cnf_matrix)\n",
    "Accuracy_gbc=gbc.score(X_df1_test,y_df1_test)\n",
    "print(Accuracy_gbc)"
   ]
  },
  {
   "cell_type": "code",
   "execution_count": 82,
   "id": "a48bbd8d",
   "metadata": {},
   "outputs": [
    {
     "name": "stdout",
     "output_type": "stream",
     "text": [
      "[0.99867006 0.99885032 0.99903062 0.99869116 0.99914191]\n",
      "Mean cross validation test score: 0.9988768126512955\n",
      "Mean cross validation train score: 0.9997334863509323\n",
      "Standard deviation in cv scores: 0.00018539020505714353\n"
     ]
    }
   ],
   "source": [
    "from sklearn.model_selection import cross_val_score\n",
    "\n",
    "cv_scores_test= cross_val_score(gbc,X_df1_test,y_df1_test,cv=5,scoring='roc_auc')\n",
    "cv_scores_train= cross_val_score(gbc,X_df1_train,y_df1_train,cv=5,scoring='roc_auc')\n",
    "print(cv_scores_test)\n",
    "cv_scores_gbc_test= cv_scores_test.mean()\n",
    "cv_scores_gbc_train= cv_scores_train.mean()\n",
    "cv_scores_std_gbc= cv_scores_test.std()\n",
    "print ('Mean cross validation test score: ' +str(cv_scores_gbc_test))\n",
    "print ('Mean cross validation train score: ' +str(cv_scores_gbc_train))\n",
    "print ('Standard deviation in cv scores: ' +str(cv_scores_std_gbc))"
   ]
  },
  {
   "attachments": {},
   "cell_type": "markdown",
   "id": "60ab9c1a",
   "metadata": {},
   "source": [
    "# 06 Comparison of the models<a id='06_Comparison of the models'></a>"
   ]
  },
  {
   "cell_type": "markdown",
   "id": "f3f16640",
   "metadata": {},
   "source": [
    "We applied different ML models above and evaluated their performances in terms of ROC-AUC score for both the training and test data. Here we have tabulated the scores and plotted them.\n",
    "\n",
    "Clearly, the Gradient Boost, and the Random Forest are the two best performing models. Both of the models are ensembled, based on decision trees.\n",
    "\n",
    "So, we will perform a grid search/ hyperparameter tuning for those two ML models."
   ]
  },
  {
   "cell_type": "code",
   "execution_count": 83,
   "id": "2981f4ab",
   "metadata": {},
   "outputs": [
    {
     "name": "stdout",
     "output_type": "stream",
     "text": [
      "             Algorithm  Model accuracy score\n",
      "0  Logistic Regression              0.695148\n",
      "1                  KNN              0.990928\n",
      "2                  SVM              0.674895\n",
      "3        Random Forest              0.997679\n",
      "4          Naive Bayes              0.507278\n",
      "5       Gradient Boost              0.997363\n"
     ]
    },
    {
     "data": {
      "text/html": [
       "<div>\n",
       "<style scoped>\n",
       "    .dataframe tbody tr th:only-of-type {\n",
       "        vertical-align: middle;\n",
       "    }\n",
       "\n",
       "    .dataframe tbody tr th {\n",
       "        vertical-align: top;\n",
       "    }\n",
       "\n",
       "    .dataframe thead th {\n",
       "        text-align: right;\n",
       "    }\n",
       "</style>\n",
       "<table border=\"1\" class=\"dataframe\">\n",
       "  <thead>\n",
       "    <tr style=\"text-align: right;\">\n",
       "      <th></th>\n",
       "      <th>Algorithm</th>\n",
       "      <th>ROC-AUC train score</th>\n",
       "      <th>ROC-AUC test score</th>\n",
       "    </tr>\n",
       "  </thead>\n",
       "  <tbody>\n",
       "    <tr>\n",
       "      <th>0</th>\n",
       "      <td>Logistic Regression</td>\n",
       "      <td>0.732260</td>\n",
       "      <td>0.730653</td>\n",
       "    </tr>\n",
       "    <tr>\n",
       "      <th>1</th>\n",
       "      <td>KNN</td>\n",
       "      <td>0.998935</td>\n",
       "      <td>0.993152</td>\n",
       "    </tr>\n",
       "    <tr>\n",
       "      <th>2</th>\n",
       "      <td>SVM</td>\n",
       "      <td>0.738163</td>\n",
       "      <td>0.732686</td>\n",
       "    </tr>\n",
       "    <tr>\n",
       "      <th>3</th>\n",
       "      <td>Random Forest</td>\n",
       "      <td>0.999794</td>\n",
       "      <td>0.998435</td>\n",
       "    </tr>\n",
       "    <tr>\n",
       "      <th>4</th>\n",
       "      <td>Naive Bayes</td>\n",
       "      <td>0.589717</td>\n",
       "      <td>0.591769</td>\n",
       "    </tr>\n",
       "    <tr>\n",
       "      <th>5</th>\n",
       "      <td>Gradient Boost</td>\n",
       "      <td>0.999733</td>\n",
       "      <td>0.998877</td>\n",
       "    </tr>\n",
       "  </tbody>\n",
       "</table>\n",
       "</div>"
      ],
      "text/plain": [
       "             Algorithm  ROC-AUC train score  ROC-AUC test score\n",
       "0  Logistic Regression             0.732260            0.730653\n",
       "1                  KNN             0.998935            0.993152\n",
       "2                  SVM             0.738163            0.732686\n",
       "3        Random Forest             0.999794            0.998435\n",
       "4          Naive Bayes             0.589717            0.591769\n",
       "5       Gradient Boost             0.999733            0.998877"
      ]
     },
     "execution_count": 83,
     "metadata": {},
     "output_type": "execute_result"
    }
   ],
   "source": [
    "myLabels = [ 'Logistic Regression','KNN','SVM','Random Forest','Naive Bayes', 'Gradient Boost']\n",
    "score_test= [  cv_scores_lr_test,cv_scores_knn_test,cv_scores_svm_test,cv_scores_rf_test,cv_scores_nb_test,cv_scores_gbc_test]\n",
    "score_train= [  cv_scores_lr_train,cv_scores_knn_train,cv_scores_svm_train,cv_scores_rf_train,cv_scores_nb_train,cv_scores_gbc_train]\n",
    "Accuracy_score = [Accuracy_lr,Accuracy_knn,Accuracy_svm,Accuracy_rf,Accuracy_nb,Accuracy_gbc]\n",
    "\n",
    "score_tab_acc = pd.DataFrame(list(zip(myLabels, Accuracy_score)), \n",
    "               columns =['Algorithm', 'Model accuracy score']) \n",
    "\n",
    "score_tab = pd.DataFrame(list(zip(myLabels, score_train, score_test)), \n",
    "               columns =['Algorithm', 'ROC-AUC train score', 'ROC-AUC test score' ]) \n",
    "print(score_tab_acc)\n",
    "\n",
    "score_tab"
   ]
  },
  {
   "cell_type": "code",
   "execution_count": 84,
   "id": "f22684cc",
   "metadata": {},
   "outputs": [
    {
     "data": {
      "image/png": "[encoded data removed]",
      "text/plain": [
       "<Figure size 720x360 with 1 Axes>"
      ]
     },
     "metadata": {
      "needs_background": "light"
     },
     "output_type": "display_data"
    },
    {
     "data": {
      "image/png": "[encoded data removed]",
      "text/plain": [
       "<Figure size 720x360 with 1 Axes>"
      ]
     },
     "metadata": {
      "needs_background": "light"
     },
     "output_type": "display_data"
    }
   ],
   "source": [
    "#plotting the accuracy scores:\n",
    "\n",
    "\n",
    "index=[1,2,3,4,5,6]\n",
    "index_acc=[1.2,2.2,3.2,4.2,5.2,6.2]\n",
    "plt.figure(figsize=(10,5))\n",
    "plt.xlabel('Models',fontsize=15)\n",
    "plt.ylabel ('Model accuracy scores',fontsize=15)\n",
    "plt.title('Comparison of the algorithms',fontsize=15)\n",
    "#patterns = [ \"/\"]\n",
    "_=plt.bar(index_acc,Accuracy_score,color='coral',alpha=0.8,label='Accuracy score',edgecolor='k',width=0.3)\n",
    "plt.xticks([1, 2,3,4,5,6], myLabels)\n",
    "#plt.legend()\n",
    "plt.savefig(\"26.png\")\n",
    "plt.show()\n",
    "\n",
    "#plotting and comparing ROC-AUC train/test scores:\n",
    "\n",
    "index=[1,2,3,4,5,6]\n",
    "index_acc=[1.2,2.2,3.2,4.2,5.2,6.2]\n",
    "plt.figure(figsize=(10,5))\n",
    "plt.xlabel('Models',fontsize=15)\n",
    "plt.ylabel ('ROC-AUC scores',fontsize=15)\n",
    "plt.title('Comparison of the algorithms',fontsize=15)\n",
    "_=plt.bar(index,score_train,color='b',alpha=0.6,label='Training score',edgecolor='k',width=0.2)\n",
    "_=plt.bar(index_acc,score_test,color='cyan',alpha=0.8,label='Test score',edgecolor='k',width=0.2)\n",
    "plt.xticks([1, 2,3,4,5,6], myLabels)\n",
    "plt.legend()\n",
    "plt.savefig(\"27.png\")\n",
    "plt.show()"
   ]
  },
  {
   "attachments": {},
   "cell_type": "markdown",
   "id": "c0da1a69",
   "metadata": {},
   "source": [
    "# 07 Applying Grid Search CV for Hyperparameter Tuning<a id='07_Applying Grid Search CV for Hyperparameter Tuning'></a>"
   ]
  },
  {
   "cell_type": "markdown",
   "id": "99b18c99",
   "metadata": {},
   "source": [
    "## 7.1 Parameter Tuning for Random Forest"
   ]
  },
  {
   "cell_type": "code",
   "execution_count": 85,
   "id": "bcde2628",
   "metadata": {},
   "outputs": [
    {
     "name": "stdout",
     "output_type": "stream",
     "text": [
      "RandomForestClassifier(n_jobs=-1, random_state=1)\n",
      "0.9954641350210971\n"
     ]
    }
   ],
   "source": [
    "from sklearn.model_selection import GridSearchCV\n",
    "\n",
    "rf = RandomForestClassifier(max_features='auto',random_state=1, n_jobs=-1)\n",
    "param_grid = { \"criterion\" : [\"gini\", \"entropy\"], \"min_samples_leaf\" : [1, 5, 10], \"min_samples_split\" : [2, 4, 10,12,16], \"n_estimators\": [50, 100,400,700,1000]}\n",
    "gs = GridSearchCV(estimator=rf, param_grid=param_grid, scoring='accuracy', cv=3, n_jobs=-1)\n",
    "gs = gs.fit(X_df1_train, y_df1_train)\n",
    "\n",
    "print(gs.best_estimator_) \n",
    "print(gs.best_score_)"
   ]
  },
  {
   "cell_type": "markdown",
   "id": "512c7ccb",
   "metadata": {},
   "source": [
    "### 7.1.1 Fitting the Random forest model with the optimal hyperparameters"
   ]
  },
  {
   "cell_type": "code",
   "execution_count": 86,
   "id": "5c649476",
   "metadata": {},
   "outputs": [
    {
     "name": "stderr",
     "output_type": "stream",
     "text": [
      "C:\\Users\\weiru\\anaconda3\\lib\\site-packages\\sklearn\\base.py:450: UserWarning: X does not have valid feature names, but RandomForestClassifier was fitted with feature names\n",
      "  warnings.warn(\n"
     ]
    },
    {
     "name": "stdout",
     "output_type": "stream",
     "text": [
      "0.9976793248945147\n",
      "0.9986252874988144\n"
     ]
    }
   ],
   "source": [
    "rf = RandomForestClassifier(bootstrap=True, class_weight=None, criterion='entropy',\n",
    "            max_depth=None, max_features='auto', max_leaf_nodes=None,\n",
    "            min_impurity_decrease=0.0, \n",
    "            min_samples_leaf=1, min_samples_split=2,\n",
    "            min_weight_fraction_leaf=0.0, n_estimators=1000, n_jobs=-1,\n",
    "            oob_score=False, random_state=1, verbose=0, warm_start=False)\n",
    "rf.fit(X_df1_train, y_df1_train)\n",
    "y_predictions_rf = rf.predict(X_df1_test)\n",
    "acc = accuracy_score(y_df1_test, y_predictions_rf)\n",
    "cv = cross_val_score(rf, X_df1_test, y_df1_test,scoring='roc_auc').mean()\n",
    "print(acc)\n",
    "print(cv)"
   ]
  },
  {
   "cell_type": "code",
   "execution_count": 87,
   "id": "62682f52",
   "metadata": {},
   "outputs": [
    {
     "name": "stdout",
     "output_type": "stream",
     "text": [
      "                                          Features  Importance scores\n",
      "0                      AHU: Supply Air Temperature           0.000000\n",
      "1            AHU: Supply Air Temperature Set Point           0.000000\n",
      "2                     AHU: Outdoor Air Temperature           0.000000\n",
      "3                       AHU: Mixed Air Temperature           0.000000\n",
      "4                      AHU: Return Air Temperature           0.000021\n",
      "5         AHU: Supply Air Fan Speed Control Signal           0.000027\n",
      "6         AHU: Return Air Fan Speed Control Signal           0.013858\n",
      "7           AHU: Outdoor Air Damper Control Signal           0.013879\n",
      "8            AHU: Return Air Damper Control Signal           0.046969\n",
      "9           AHU: Cooling Coil Valve Control Signal           0.083886\n",
      "10          AHU: Heating Coil Valve Control Signal           0.094009\n",
      "11  AHU: Supply Air Duct Static Pressure Set Point           0.095469\n",
      "12            AHU: Supply Air Duct Static Pressure           0.154233\n",
      "13                        Occupancy Mode Indicator           0.497648\n"
     ]
    },
    {
     "data": {
      "image/png": "[encoded data removed]",
      "text/plain": [
       "<Figure size 720x360 with 1 Axes>"
      ]
     },
     "metadata": {
      "needs_background": "light"
     },
     "output_type": "display_data"
    }
   ],
   "source": [
    "#Feature importances:\n",
    "\n",
    "features = X_df1\n",
    "importances = list(rf.feature_importances_)\n",
    "imp=np.sort(importances)\n",
    "tab=pd.DataFrame(list(zip(X_df1,imp)),columns =['Features', 'Importance scores']) \n",
    "print(tab)\n",
    "\n",
    "#Visual comparison:\n",
    "plt.figure(figsize=(10,5))\n",
    "#indices = np.argsort(importances)\n",
    "index = [0,1,2,3,4,5,6,7,8,9,10,11,12,13]\n",
    "_=plt.barh(index,imp, align='center',color='b')\n",
    "plt.xlabel('Relative Importance',fontsize=15)\n",
    "plt.ylabel('Features',fontsize=15)\n",
    "plt.yticks(index, features)\n",
    "plt.title('Feature Importances for Random Forest classifier model',fontsize=15)\n",
    "plt.savefig(\"OAPlus2.png\")\n",
    "plt.show()\n",
    "#len(importances)"
   ]
  },
  {
   "cell_type": "markdown",
   "id": "15ee1147",
   "metadata": {},
   "source": [
    "### 7.1.2 ROC-AUC Score and the ROC curve"
   ]
  },
  {
   "cell_type": "code",
   "execution_count": 88,
   "id": "d2f736ff",
   "metadata": {},
   "outputs": [
    {
     "name": "stderr",
     "output_type": "stream",
     "text": [
      "C:\\Users\\weiru\\anaconda3\\lib\\site-packages\\sklearn\\base.py:450: UserWarning: X does not have valid feature names, but RandomForestClassifier was fitted with feature names\n",
      "  warnings.warn(\n"
     ]
    },
    {
     "name": "stdout",
     "output_type": "stream",
     "text": [
      "ROC-AUC Score: 0.9999626494228981\n"
     ]
    }
   ],
   "source": [
    "from sklearn.metrics import auc, roc_curve, roc_auc_score\n",
    "y_scores_rf = rf.predict_proba(X_df1_test)\n",
    "y_scores_rf = y_scores_rf[:,1]\n",
    "auroc = roc_auc_score(y_df1_test, y_scores_rf)\n",
    "print(\"ROC-AUC Score:\", auroc)"
   ]
  },
  {
   "cell_type": "code",
   "execution_count": 89,
   "id": "626be8ea",
   "metadata": {},
   "outputs": [
    {
     "data": {
      "image/png": "[encoded data removed]",
      "text/plain": [
       "<Figure size 720x360 with 1 Axes>"
      ]
     },
     "metadata": {
      "needs_background": "light"
     },
     "output_type": "display_data"
    }
   ],
   "source": [
    "false_positive_rate, true_positive_rate, thresholds = roc_curve(y_df1_test, y_scores_rf)\n",
    "def plot_roc_curve(false_positive_rate, true_positive_rate, label=None):\n",
    "    plt.plot(false_positive_rate, true_positive_rate, linewidth=2, label=label)\n",
    "    plt.plot([0, 1], [0, 1], 'r', linewidth=4)\n",
    "    plt.axis([0, 1, 0, 1])\n",
    "    plt.xlabel('False Positive Rate (FPR)', fontsize=15)\n",
    "    plt.ylabel('True Positive Rate (TPR)', fontsize=15)\n",
    "    plt.title('ROC curve (RF)',fontsize=15)\n",
    "\n",
    "plt.figure(figsize=(10, 5))\n",
    "plot_roc_curve(false_positive_rate, true_positive_rate)\n",
    "plt.savefig(\"30.png\")\n",
    "plt.show()"
   ]
  },
  {
   "cell_type": "markdown",
   "id": "554b8f73",
   "metadata": {},
   "source": [
    "## 7.2 Parameter Tuning for Gradient Boost"
   ]
  },
  {
   "cell_type": "code",
   "execution_count": 90,
   "id": "8625c1e8",
   "metadata": {},
   "outputs": [
    {
     "name": "stdout",
     "output_type": "stream",
     "text": [
      "Fitting 3 folds for each of 72 candidates, totalling 216 fits\n",
      "GradientBoostingClassifier(max_depth=8, max_features=0.3, min_samples_leaf=100,\n",
      "                           n_estimators=300)\n",
      "0.9975386779184247\n"
     ]
    }
   ],
   "source": [
    "GB = GradientBoostingClassifier()\n",
    "gb_param = {\n",
    "        'loss' : [\"deviance\"],\n",
    "        'n_estimators' : [100,200,300],\n",
    "        'learning_rate': [0.1, 0.05, 0.01],\n",
    "        'max_depth': [4, 8],\n",
    "        'min_samples_leaf': [100,150],\n",
    "        'max_features': [0.3, 0.1] \n",
    "        }\n",
    "\n",
    "gsGB = GridSearchCV(GB, param_grid = gb_param, cv=3, scoring=\"accuracy\", n_jobs= -1, verbose = 1)\n",
    "gsGB.fit(X_df1_train,y_df1_train)\n",
    "print(gsGB.best_estimator_)\n",
    "print(gsGB.best_score_)"
   ]
  },
  {
   "cell_type": "markdown",
   "id": "d7277a67",
   "metadata": {},
   "source": [
    "### 7.2.1 Fitting the Gradient Boost model with the optimal hyperparameters"
   ]
  },
  {
   "cell_type": "code",
   "execution_count": 91,
   "id": "cdb05f78",
   "metadata": {},
   "outputs": [
    {
     "name": "stderr",
     "output_type": "stream",
     "text": [
      "C:\\Users\\weiru\\anaconda3\\lib\\site-packages\\sklearn\\base.py:450: UserWarning: X does not have valid feature names, but GradientBoostingClassifier was fitted with feature names\n",
      "  warnings.warn(\n"
     ]
    },
    {
     "name": "stdout",
     "output_type": "stream",
     "text": [
      "0.9989451476793249\n",
      "0.9984319666652619\n"
     ]
    }
   ],
   "source": [
    "GB= GradientBoostingClassifier(criterion='friedman_mse', init=None,\n",
    "              learning_rate=0.1, loss='deviance', max_depth=8,\n",
    "              max_features=0.3, max_leaf_nodes=None,\n",
    "              min_impurity_decrease=0.0, \n",
    "              min_samples_leaf=100, min_samples_split=2,\n",
    "              min_weight_fraction_leaf=0.0, n_estimators=300,\n",
    "              random_state=None, subsample=1.0, verbose=0,\n",
    "              warm_start=False)\n",
    "GB.fit(X_df1_train, y_df1_train)\n",
    "y_predictions_GB = GB.predict(X_df1_test)\n",
    "acc_GB = accuracy_score(y_df1_test, y_predictions_GB)\n",
    "cv_GB = cross_val_score(GB, X_df1_test, y_df1_test,scoring='roc_auc').mean()\n",
    "print(acc_GB)\n",
    "print(cv_GB)"
   ]
  },
  {
   "cell_type": "code",
   "execution_count": 92,
   "id": "6d8dbe02",
   "metadata": {},
   "outputs": [
    {
     "name": "stdout",
     "output_type": "stream",
     "text": [
      "                                          Features  Importance scores\n",
      "0                      AHU: Supply Air Temperature           0.000000\n",
      "1            AHU: Supply Air Temperature Set Point           0.000000\n",
      "2                     AHU: Outdoor Air Temperature           0.000000\n",
      "3                       AHU: Mixed Air Temperature           0.000000\n",
      "4                      AHU: Return Air Temperature           0.000000\n",
      "5         AHU: Supply Air Fan Speed Control Signal           0.000000\n",
      "6         AHU: Return Air Fan Speed Control Signal           0.009767\n",
      "7           AHU: Outdoor Air Damper Control Signal           0.014707\n",
      "8            AHU: Return Air Damper Control Signal           0.047039\n",
      "9           AHU: Cooling Coil Valve Control Signal           0.059309\n",
      "10          AHU: Heating Coil Valve Control Signal           0.068465\n",
      "11  AHU: Supply Air Duct Static Pressure Set Point           0.126908\n",
      "12            AHU: Supply Air Duct Static Pressure           0.189540\n",
      "13                        Occupancy Mode Indicator           0.484264\n"
     ]
    },
    {
     "data": {
      "image/png": "[encoded data removed]",
      "text/plain": [
       "<Figure size 720x360 with 1 Axes>"
      ]
     },
     "metadata": {
      "needs_background": "light"
     },
     "output_type": "display_data"
    }
   ],
   "source": [
    "features = X_df1\n",
    "importances = list(GB.feature_importances_)\n",
    "imp=np.sort(importances)\n",
    "tab=pd.DataFrame(list(zip(X_df1,imp)),columns =['Features', 'Importance scores']) \n",
    "print(tab)\n",
    "\n",
    "#visually:\n",
    "plt.figure(figsize=(10,5))\n",
    "#indices = np.argsort(importances)\n",
    "index = [0,1,2,3,4,5,6,7,8,9,10,11,12,13]\n",
    "_=plt.barh(index,imp, align='center',color='gold',edgecolor='k')\n",
    "plt.xlabel('Relative Importance',fontsize=15)\n",
    "plt.ylabel('Features',fontsize=15)\n",
    "plt.yticks(index, features)\n",
    "plt.title('Feature Importances for Gradient boost Classifier model',fontsize=15)\n",
    "plt.savefig(\"29.png\")\n",
    "plt.show()\n",
    "#len(importances)"
   ]
  },
  {
   "cell_type": "markdown",
   "id": "4c699d3d",
   "metadata": {},
   "source": [
    "### 7.2.2 ROC-AUC Score and the ROC curve"
   ]
  },
  {
   "cell_type": "code",
   "execution_count": 93,
   "id": "b97fab17",
   "metadata": {},
   "outputs": [
    {
     "name": "stdout",
     "output_type": "stream",
     "text": [
      "ROC-AUC Score: 0.9999010365519693\n"
     ]
    },
    {
     "name": "stderr",
     "output_type": "stream",
     "text": [
      "C:\\Users\\weiru\\anaconda3\\lib\\site-packages\\sklearn\\base.py:450: UserWarning: X does not have valid feature names, but GradientBoostingClassifier was fitted with feature names\n",
      "  warnings.warn(\n"
     ]
    }
   ],
   "source": [
    "from sklearn.metrics import auc, roc_curve, roc_auc_score\n",
    "y_scores_gb = GB.predict_proba(X_df1_test)\n",
    "y_scores_gb = y_scores_gb[:,1]\n",
    "auroc = roc_auc_score(y_df1_test, y_scores_gb)\n",
    "print(\"ROC-AUC Score:\", auroc)"
   ]
  },
  {
   "cell_type": "code",
   "execution_count": 94,
   "id": "d3517f7e",
   "metadata": {},
   "outputs": [
    {
     "data": {
      "image/png": "[encoded data removed]",
      "text/plain": [
       "<Figure size 720x360 with 1 Axes>"
      ]
     },
     "metadata": {
      "needs_background": "light"
     },
     "output_type": "display_data"
    }
   ],
   "source": [
    "false_positive_rate, true_positive_rate, thresholds = roc_curve(y_df1_test, y_scores_gb)\n",
    "def plot_roc_curve(false_positive_rate, true_positive_rate, label=None):\n",
    "    plt.plot(false_positive_rate, true_positive_rate, linewidth=2, label=label)\n",
    "    plt.plot([0, 1], [0, 1], 'r', linewidth=4)\n",
    "    plt.axis([0, 1, 0, 1])\n",
    "    plt.xlabel('False Positive Rate (FPR)', fontsize=15)\n",
    "    plt.ylabel('True Positive Rate (TPR)', fontsize=15)\n",
    "    plt.title('ROC curve (GB)',fontsize=15)\n",
    "\n",
    "plt.figure(figsize=(10, 5))\n",
    "plot_roc_curve(false_positive_rate, true_positive_rate)\n",
    "plt.savefig(\"31.png\")\n",
    "plt.show()"
   ]
  },
  {
   "cell_type": "markdown",
   "id": "552f1763",
   "metadata": {},
   "source": [
    "# 08 Conclusion"
   ]
  },
  {
   "cell_type": "markdown",
   "id": "cd7f5889",
   "metadata": {},
   "source": [
    "In order to predict the cab booking cancellations, here we have considered a bunch of (17) features, either directly from the dataset or engineered/derived from the data. Interestingly, the engineeered features are the most important ones in terms of relative importances.\n",
    "\n",
    "This is a classification problem. Here we have used the following classification models:\n",
    "\n",
    "- Logistic Regression\n",
    "- K-Nearest Neighbor (KNN)\n",
    "- Support vector machine (SVM)\n",
    "- Random Forest\n",
    "- Gradient Boost\n",
    "- Naive Bayes\n",
    "\n",
    "Evaluating the performance of a model by training and testing on the same dataset can lead to the overfitting. Hence the model evaluation is based on splitting the dataset into train and validation set. But the performance of the prediction result depends upon the random choice of the pair of (train,validation) set. Inorder to overcome that, the Cross-Validation procedure is used where under the k-fold CV approach, the training set is split into k smaller sets, where a model is trained using k-1 of the folds as training data and the model is validated on the remaining part.\n",
    "\n",
    "We have evaluated each models in terms of model accuracy score, and 'ROC-AUC' score for both the training and test data, and plotted them. The two best performing models are the Random forest and the Gradient boost. Both are the ensemble model, based on decision trees.\n",
    "\n",
    "Next, we have carried out the grid search CV for the hyperparameter tuning for both the models seperately. This step was the most time consuming one in terms of computation. (The RF model took much longer time). With the result of the optimized hyperparameters, we have again fitted the two models, and got the predictions seperately.\n",
    "\n",
    "We have evaluated the ROC-AUC scores with the optimized hyperparameters. Clearly, the model performance improved with the optimized parameters. The final ROC-AUC scores fro both RF and the GB are 0.99996 and 0.99990."
   ]
  }
 ],
 "metadata": {
  "kernelspec": {
   "display_name": "Python 3 (ipykernel)",
   "language": "python",
   "name": "python3"
  },
  "language_info": {
   "codemirror_mode": {
    "name": "ipython",
    "version": 3
   },
   "file_extension": ".py",
   "mimetype": "text/x-python",
   "name": "python",
   "nbconvert_exporter": "python",
   "pygments_lexer": "ipython3",
   "version": "3.9.12"
  }
 },
 "nbformat": 4,
 "nbformat_minor": 5
}
