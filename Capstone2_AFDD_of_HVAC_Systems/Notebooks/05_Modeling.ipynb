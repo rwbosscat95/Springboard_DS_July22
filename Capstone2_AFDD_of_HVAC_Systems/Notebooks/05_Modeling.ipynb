{
 "cells": [
  {
   "cell_type": "markdown",
   "id": "d8b1e8f8",
   "metadata": {},
   "source": [
    "# 04 Pre-processing and Training Data<a id='04_Pre-processing and Training Data'></a>"
   ]
  },
  {
   "cell_type": "markdown",
   "id": "6597e299",
   "metadata": {},
   "source": [
    "\n",
    "\n",
    "\n",
    "## 4.1 Dummy or Indicator Features for Categorical Variables\n"
   ]
  },
  {
   "cell_type": "markdown",
   "id": "ebb42af4",
   "metadata": {},
   "source": [
    "### 4.1 Load the libraries"
   ]
  },
  {
   "cell_type": "code",
   "execution_count": 1,
   "id": "95d9c839",
   "metadata": {},
   "outputs": [],
   "source": [
    "import numpy as np\n",
    "import pandas as pd\n",
    "import matplotlib.pyplot as plt\n",
    "import seaborn as sns\n",
    "\n",
    "from statsmodels.graphics.api import abline_plot \n",
    "from sklearn.metrics import mean_squared_error, r2_score \n",
    "from sklearn.model_selection import train_test_split \n",
    "from sklearn import linear_model, preprocessing\n",
    "from sklearn.linear_model import LogisticRegression\n",
    "from mlinsights.mlmodel import PiecewiseRegressor\n",
    "from sklearn.tree import DecisionTreeRegressor\n",
    "import statsmodels.api as sm \n",
    "\n",
    "from sklearn.metrics import accuracy_score, f1_score\n",
    "from sklearn.metrics import classification_report\n",
    "from sklearn.metrics import confusion_matrix\n",
    "from sklearn.metrics import ConfusionMatrixDisplay\n",
    "\n",
    "# scipi is a library for statistical tests and visualizations \n",
    "from scipy import stats\n",
    "# random enables us to generate random numbers\n",
    "import random\n",
    "\n",
    "import warnings # For handling error messages.\n",
    "# Don't worry about the following two instructions: they just suppress warnings that could occur later. \n",
    "warnings.simplefilter(action=\"ignore\", category=FutureWarning)\n",
    "warnings.filterwarnings(action=\"ignore\", module=\"scipy\", message=\"^internal gelsd\")"
   ]
  },
  {
   "cell_type": "markdown",
   "id": "2d17dcf0",
   "metadata": {},
   "source": [
    "### 4.1.2 Load and Split the data"
   ]
  },
  {
   "cell_type": "markdown",
   "id": "af6154bd",
   "metadata": {},
   "source": [
    "### 4.1.2a MZVAV_1_oaplus2"
   ]
  },
  {
   "cell_type": "code",
   "execution_count": 2,
   "id": "c05fb3c5",
   "metadata": {},
   "outputs": [
    {
     "data": {
      "text/html": [
       "<div>\n",
       "<style scoped>\n",
       "    .dataframe tbody tr th:only-of-type {\n",
       "        vertical-align: middle;\n",
       "    }\n",
       "\n",
       "    .dataframe tbody tr th {\n",
       "        vertical-align: top;\n",
       "    }\n",
       "\n",
       "    .dataframe thead th {\n",
       "        text-align: right;\n",
       "    }\n",
       "</style>\n",
       "<table border=\"1\" class=\"dataframe\">\n",
       "  <thead>\n",
       "    <tr style=\"text-align: right;\">\n",
       "      <th></th>\n",
       "      <th>AHU: Supply Air Temperature</th>\n",
       "      <th>AHU: Supply Air Temperature Set Point</th>\n",
       "      <th>AHU: Outdoor Air Temperature</th>\n",
       "      <th>AHU: Mixed Air Temperature</th>\n",
       "      <th>AHU: Return Air Temperature</th>\n",
       "      <th>AHU: Supply Air Fan Speed Control Signal</th>\n",
       "      <th>AHU: Return Air Fan Speed Control Signal</th>\n",
       "      <th>AHU: Outdoor Air Damper Control Signal</th>\n",
       "      <th>AHU: Return Air Damper Control Signal</th>\n",
       "      <th>AHU: Cooling Coil Valve Control Signal</th>\n",
       "      <th>AHU: Heating Coil Valve Control Signal</th>\n",
       "      <th>AHU: Supply Air Duct Static Pressure Set Point</th>\n",
       "      <th>AHU: Supply Air Duct Static Pressure</th>\n",
       "      <th>Occupancy Mode Indicator</th>\n",
       "      <th>Fault Detection Ground Truth</th>\n",
       "    </tr>\n",
       "  </thead>\n",
       "  <tbody>\n",
       "    <tr>\n",
       "      <th>0</th>\n",
       "      <td>68.00</td>\n",
       "      <td>55.04</td>\n",
       "      <td>35.60</td>\n",
       "      <td>68.00</td>\n",
       "      <td>75.20</td>\n",
       "      <td>0.0</td>\n",
       "      <td>0.0</td>\n",
       "      <td>0.0</td>\n",
       "      <td>0.0</td>\n",
       "      <td>0.0</td>\n",
       "      <td>0</td>\n",
       "      <td>0.04</td>\n",
       "      <td>0.0</td>\n",
       "      <td>0</td>\n",
       "      <td>1</td>\n",
       "    </tr>\n",
       "    <tr>\n",
       "      <th>1</th>\n",
       "      <td>67.99</td>\n",
       "      <td>55.04</td>\n",
       "      <td>35.60</td>\n",
       "      <td>66.71</td>\n",
       "      <td>75.20</td>\n",
       "      <td>0.0</td>\n",
       "      <td>0.0</td>\n",
       "      <td>0.0</td>\n",
       "      <td>0.0</td>\n",
       "      <td>0.0</td>\n",
       "      <td>0</td>\n",
       "      <td>0.04</td>\n",
       "      <td>0.0</td>\n",
       "      <td>0</td>\n",
       "      <td>1</td>\n",
       "    </tr>\n",
       "    <tr>\n",
       "      <th>2</th>\n",
       "      <td>67.99</td>\n",
       "      <td>55.04</td>\n",
       "      <td>-2.33</td>\n",
       "      <td>66.71</td>\n",
       "      <td>74.45</td>\n",
       "      <td>0.0</td>\n",
       "      <td>0.0</td>\n",
       "      <td>0.0</td>\n",
       "      <td>0.0</td>\n",
       "      <td>0.0</td>\n",
       "      <td>0</td>\n",
       "      <td>0.04</td>\n",
       "      <td>0.0</td>\n",
       "      <td>0</td>\n",
       "      <td>1</td>\n",
       "    </tr>\n",
       "  </tbody>\n",
       "</table>\n",
       "</div>"
      ],
      "text/plain": [
       "   AHU: Supply Air Temperature  AHU: Supply Air Temperature Set Point  \\\n",
       "0                        68.00                                  55.04   \n",
       "1                        67.99                                  55.04   \n",
       "2                        67.99                                  55.04   \n",
       "\n",
       "   AHU: Outdoor Air Temperature  AHU: Mixed Air Temperature  \\\n",
       "0                         35.60                       68.00   \n",
       "1                         35.60                       66.71   \n",
       "2                         -2.33                       66.71   \n",
       "\n",
       "   AHU: Return Air Temperature  AHU: Supply Air Fan Speed Control Signal  \\\n",
       "0                        75.20                                       0.0   \n",
       "1                        75.20                                       0.0   \n",
       "2                        74.45                                       0.0   \n",
       "\n",
       "   AHU: Return Air Fan Speed Control Signal  \\\n",
       "0                                       0.0   \n",
       "1                                       0.0   \n",
       "2                                       0.0   \n",
       "\n",
       "   AHU: Outdoor Air Damper Control Signal  \\\n",
       "0                                     0.0   \n",
       "1                                     0.0   \n",
       "2                                     0.0   \n",
       "\n",
       "   AHU: Return Air Damper Control Signal  \\\n",
       "0                                    0.0   \n",
       "1                                    0.0   \n",
       "2                                    0.0   \n",
       "\n",
       "   AHU: Cooling Coil Valve Control Signal  \\\n",
       "0                                     0.0   \n",
       "1                                     0.0   \n",
       "2                                     0.0   \n",
       "\n",
       "   AHU: Heating Coil Valve Control Signal  \\\n",
       "0                                       0   \n",
       "1                                       0   \n",
       "2                                       0   \n",
       "\n",
       "   AHU: Supply Air Duct Static Pressure Set Point  \\\n",
       "0                                            0.04   \n",
       "1                                            0.04   \n",
       "2                                            0.04   \n",
       "\n",
       "   AHU: Supply Air Duct Static Pressure  Occupancy Mode Indicator  \\\n",
       "0                                   0.0                         0   \n",
       "1                                   0.0                         0   \n",
       "2                                   0.0                         0   \n",
       "\n",
       "   Fault Detection Ground Truth  \n",
       "0                             1  \n",
       "1                             1  \n",
       "2                             1  "
      ]
     },
     "execution_count": 2,
     "metadata": {},
     "output_type": "execute_result"
    }
   ],
   "source": [
    "df1 = pd.read_csv('../data/df1.csv', index_col = False)\n",
    "df1 = df1.drop(columns = [\"Unnamed: 0\"])\n",
    "df1.head(3)"
   ]
  },
  {
   "cell_type": "code",
   "execution_count": 3,
   "id": "7c238ef3",
   "metadata": {},
   "outputs": [],
   "source": [
    "# Make a variable called 'features', and a list containing the strings of every column except \"Fault Detection Ground Truth\"\n",
    "features_df1 = [column for column in df1.columns if column != 'Fault Detection Ground Truth']\n",
    "\n",
    "# Make an explanatory variable called X, and assign it: NoPrediction[features]\n",
    "X_df1 = df1[features_df1] \n",
    "\n",
    "# Make a dependent variable called y, and assign it: df1['Fault Detection Ground Truth']\n",
    "y_df1 = df1['Fault Detection Ground Truth'] "
   ]
  },
  {
   "cell_type": "code",
   "execution_count": 39,
   "id": "da95efa3",
   "metadata": {
    "scrolled": true
   },
   "outputs": [
    {
     "name": "stderr",
     "output_type": "stream",
     "text": [
      "C:\\Users\\weiru\\anaconda3\\lib\\site-packages\\pandas\\io\\formats\\style.py:3554: RuntimeWarning: All-NaN slice encountered\n",
      "  smin = np.nanmin(gmap) if vmin is None else vmin\n",
      "C:\\Users\\weiru\\anaconda3\\lib\\site-packages\\pandas\\io\\formats\\style.py:3555: RuntimeWarning: All-NaN slice encountered\n",
      "  smax = np.nanmax(gmap) if vmax is None else vmax\n"
     ]
    },
    {
     "data": {
      "text/html": [
       "<style type=\"text/css\">\n",
       "#T_45f19_row0_col0, #T_45f19_row2_col2, #T_45f19_row3_col3, #T_45f19_row4_col4, #T_45f19_row5_col5, #T_45f19_row5_col6, #T_45f19_row6_col5, #T_45f19_row6_col6, #T_45f19_row7_col7, #T_45f19_row8_col8, #T_45f19_row9_col9, #T_45f19_row10_col10, #T_45f19_row12_col12, #T_45f19_row13_col13, #T_45f19_row14_col14 {\n",
       "  background-color: #b40426;\n",
       "  color: #f1f1f1;\n",
       "}\n",
       "#T_45f19_row0_col1, #T_45f19_row0_col11, #T_45f19_row1_col0, #T_45f19_row1_col1, #T_45f19_row1_col2, #T_45f19_row1_col3, #T_45f19_row1_col4, #T_45f19_row1_col5, #T_45f19_row1_col6, #T_45f19_row1_col7, #T_45f19_row1_col8, #T_45f19_row1_col9, #T_45f19_row1_col10, #T_45f19_row1_col11, #T_45f19_row1_col12, #T_45f19_row1_col13, #T_45f19_row1_col14, #T_45f19_row2_col1, #T_45f19_row2_col11, #T_45f19_row3_col1, #T_45f19_row3_col11, #T_45f19_row4_col1, #T_45f19_row4_col11, #T_45f19_row5_col1, #T_45f19_row5_col11, #T_45f19_row6_col1, #T_45f19_row6_col11, #T_45f19_row7_col1, #T_45f19_row7_col11, #T_45f19_row8_col1, #T_45f19_row8_col11, #T_45f19_row9_col1, #T_45f19_row9_col11, #T_45f19_row10_col1, #T_45f19_row10_col11, #T_45f19_row11_col0, #T_45f19_row11_col1, #T_45f19_row11_col2, #T_45f19_row11_col3, #T_45f19_row11_col4, #T_45f19_row11_col5, #T_45f19_row11_col6, #T_45f19_row11_col7, #T_45f19_row11_col8, #T_45f19_row11_col9, #T_45f19_row11_col10, #T_45f19_row11_col11, #T_45f19_row11_col12, #T_45f19_row11_col13, #T_45f19_row11_col14, #T_45f19_row12_col1, #T_45f19_row12_col11, #T_45f19_row13_col1, #T_45f19_row13_col11, #T_45f19_row14_col1, #T_45f19_row14_col11 {\n",
       "  background-color: #000000;\n",
       "  color: #f1f1f1;\n",
       "}\n",
       "#T_45f19_row0_col2 {\n",
       "  background-color: #b9d0f9;\n",
       "  color: #000000;\n",
       "}\n",
       "#T_45f19_row0_col3 {\n",
       "  background-color: #f5c0a7;\n",
       "  color: #000000;\n",
       "}\n",
       "#T_45f19_row0_col4, #T_45f19_row2_col7 {\n",
       "  background-color: #bad0f8;\n",
       "  color: #000000;\n",
       "}\n",
       "#T_45f19_row0_col5, #T_45f19_row0_col6 {\n",
       "  background-color: #bbd1f8;\n",
       "  color: #000000;\n",
       "}\n",
       "#T_45f19_row0_col7 {\n",
       "  background-color: #92b4fe;\n",
       "  color: #000000;\n",
       "}\n",
       "#T_45f19_row0_col8, #T_45f19_row2_col8, #T_45f19_row3_col7, #T_45f19_row3_col8, #T_45f19_row3_col10, #T_45f19_row3_col13, #T_45f19_row4_col5, #T_45f19_row4_col6, #T_45f19_row4_col12, #T_45f19_row7_col0, #T_45f19_row7_col3, #T_45f19_row7_col14, #T_45f19_row9_col8, #T_45f19_row12_col2, #T_45f19_row12_col4, #T_45f19_row14_col9 {\n",
       "  background-color: #3b4cc0;\n",
       "  color: #f1f1f1;\n",
       "}\n",
       "#T_45f19_row0_col9 {\n",
       "  background-color: #536edd;\n",
       "  color: #f1f1f1;\n",
       "}\n",
       "#T_45f19_row0_col10, #T_45f19_row4_col10, #T_45f19_row10_col9 {\n",
       "  background-color: #4358cb;\n",
       "  color: #f1f1f1;\n",
       "}\n",
       "#T_45f19_row0_col12 {\n",
       "  background-color: #d3dbe7;\n",
       "  color: #000000;\n",
       "}\n",
       "#T_45f19_row0_col13 {\n",
       "  background-color: #688aef;\n",
       "  color: #f1f1f1;\n",
       "}\n",
       "#T_45f19_row0_col14, #T_45f19_row13_col0 {\n",
       "  background-color: #5977e3;\n",
       "  color: #f1f1f1;\n",
       "}\n",
       "#T_45f19_row2_col0, #T_45f19_row2_col9 {\n",
       "  background-color: #a7c5fe;\n",
       "  color: #000000;\n",
       "}\n",
       "#T_45f19_row2_col3, #T_45f19_row13_col7 {\n",
       "  background-color: #f18d6f;\n",
       "  color: #f1f1f1;\n",
       "}\n",
       "#T_45f19_row2_col4 {\n",
       "  background-color: #f08a6c;\n",
       "  color: #f1f1f1;\n",
       "}\n",
       "#T_45f19_row2_col5, #T_45f19_row2_col6, #T_45f19_row8_col14 {\n",
       "  background-color: #506bda;\n",
       "  color: #f1f1f1;\n",
       "}\n",
       "#T_45f19_row2_col10 {\n",
       "  background-color: #4257c9;\n",
       "  color: #f1f1f1;\n",
       "}\n",
       "#T_45f19_row2_col12, #T_45f19_row3_col14 {\n",
       "  background-color: #5d7ce6;\n",
       "  color: #f1f1f1;\n",
       "}\n",
       "#T_45f19_row2_col13, #T_45f19_row14_col4 {\n",
       "  background-color: #9fbfff;\n",
       "  color: #000000;\n",
       "}\n",
       "#T_45f19_row2_col14 {\n",
       "  background-color: #6b8df0;\n",
       "  color: #f1f1f1;\n",
       "}\n",
       "#T_45f19_row3_col0 {\n",
       "  background-color: #dfdbd9;\n",
       "  color: #000000;\n",
       "}\n",
       "#T_45f19_row3_col2 {\n",
       "  background-color: #f6a385;\n",
       "  color: #000000;\n",
       "}\n",
       "#T_45f19_row3_col4 {\n",
       "  background-color: #f7bca1;\n",
       "  color: #000000;\n",
       "}\n",
       "#T_45f19_row3_col5, #T_45f19_row3_col6, #T_45f19_row8_col0 {\n",
       "  background-color: #6687ed;\n",
       "  color: #f1f1f1;\n",
       "}\n",
       "#T_45f19_row3_col9 {\n",
       "  background-color: #89acfd;\n",
       "  color: #000000;\n",
       "}\n",
       "#T_45f19_row3_col12 {\n",
       "  background-color: #8fb1fe;\n",
       "  color: #000000;\n",
       "}\n",
       "#T_45f19_row4_col0, #T_45f19_row4_col9 {\n",
       "  background-color: #8caffe;\n",
       "  color: #000000;\n",
       "}\n",
       "#T_45f19_row4_col2 {\n",
       "  background-color: #f39577;\n",
       "  color: #000000;\n",
       "}\n",
       "#T_45f19_row4_col3 {\n",
       "  background-color: #f7b093;\n",
       "  color: #000000;\n",
       "}\n",
       "#T_45f19_row4_col7 {\n",
       "  background-color: #c1d4f4;\n",
       "  color: #000000;\n",
       "}\n",
       "#T_45f19_row4_col8, #T_45f19_row5_col8, #T_45f19_row6_col8, #T_45f19_row10_col8, #T_45f19_row12_col8 {\n",
       "  background-color: #3c4ec2;\n",
       "  color: #f1f1f1;\n",
       "}\n",
       "#T_45f19_row4_col13 {\n",
       "  background-color: #c6d6f1;\n",
       "  color: #000000;\n",
       "}\n",
       "#T_45f19_row4_col14, #T_45f19_row5_col2, #T_45f19_row6_col2 {\n",
       "  background-color: #5470de;\n",
       "  color: #f1f1f1;\n",
       "}\n",
       "#T_45f19_row5_col0, #T_45f19_row6_col0 {\n",
       "  background-color: #adc9fd;\n",
       "  color: #000000;\n",
       "}\n",
       "#T_45f19_row5_col3, #T_45f19_row6_col3, #T_45f19_row12_col13, #T_45f19_row13_col2 {\n",
       "  background-color: #a6c4fe;\n",
       "  color: #000000;\n",
       "}\n",
       "#T_45f19_row5_col4, #T_45f19_row6_col4 {\n",
       "  background-color: #6180e9;\n",
       "  color: #f1f1f1;\n",
       "}\n",
       "#T_45f19_row5_col7, #T_45f19_row6_col7 {\n",
       "  background-color: #ecd3c5;\n",
       "  color: #000000;\n",
       "}\n",
       "#T_45f19_row5_col9, #T_45f19_row6_col9 {\n",
       "  background-color: #96b7ff;\n",
       "  color: #000000;\n",
       "}\n",
       "#T_45f19_row5_col10, #T_45f19_row6_col10 {\n",
       "  background-color: #4961d2;\n",
       "  color: #f1f1f1;\n",
       "}\n",
       "#T_45f19_row5_col12, #T_45f19_row6_col12 {\n",
       "  background-color: #cb3e38;\n",
       "  color: #f1f1f1;\n",
       "}\n",
       "#T_45f19_row5_col13, #T_45f19_row6_col13 {\n",
       "  background-color: #f1cdba;\n",
       "  color: #000000;\n",
       "}\n",
       "#T_45f19_row5_col14, #T_45f19_row6_col14, #T_45f19_row10_col14, #T_45f19_row12_col14, #T_45f19_row13_col14 {\n",
       "  background-color: #4f69d9;\n",
       "  color: #f1f1f1;\n",
       "}\n",
       "#T_45f19_row7_col2, #T_45f19_row13_col3 {\n",
       "  background-color: #84a7fc;\n",
       "  color: #f1f1f1;\n",
       "}\n",
       "#T_45f19_row7_col4, #T_45f19_row10_col3 {\n",
       "  background-color: #abc8fd;\n",
       "  color: #000000;\n",
       "}\n",
       "#T_45f19_row7_col5, #T_45f19_row7_col6 {\n",
       "  background-color: #cdd9ec;\n",
       "  color: #000000;\n",
       "}\n",
       "#T_45f19_row7_col8, #T_45f19_row13_col8, #T_45f19_row14_col8 {\n",
       "  background-color: #3d50c3;\n",
       "  color: #f1f1f1;\n",
       "}\n",
       "#T_45f19_row7_col9 {\n",
       "  background-color: #85a8fc;\n",
       "  color: #f1f1f1;\n",
       "}\n",
       "#T_45f19_row7_col10 {\n",
       "  background-color: #4b64d5;\n",
       "  color: #f1f1f1;\n",
       "}\n",
       "#T_45f19_row7_col12, #T_45f19_row9_col12, #T_45f19_row10_col7 {\n",
       "  background-color: #b7cff9;\n",
       "  color: #000000;\n",
       "}\n",
       "#T_45f19_row7_col13 {\n",
       "  background-color: #f7a688;\n",
       "  color: #000000;\n",
       "}\n",
       "#T_45f19_row8_col2 {\n",
       "  background-color: #7da0f9;\n",
       "  color: #f1f1f1;\n",
       "}\n",
       "#T_45f19_row8_col3 {\n",
       "  background-color: #b3cdfb;\n",
       "  color: #000000;\n",
       "}\n",
       "#T_45f19_row8_col4, #T_45f19_row8_col12, #T_45f19_row10_col12, #T_45f19_row14_col12 {\n",
       "  background-color: #9dbdff;\n",
       "  color: #000000;\n",
       "}\n",
       "#T_45f19_row8_col5, #T_45f19_row8_col6, #T_45f19_row14_col5, #T_45f19_row14_col6 {\n",
       "  background-color: #799cf8;\n",
       "  color: #f1f1f1;\n",
       "}\n",
       "#T_45f19_row8_col7 {\n",
       "  background-color: #b6cefa;\n",
       "  color: #000000;\n",
       "}\n",
       "#T_45f19_row8_col9 {\n",
       "  background-color: #445acc;\n",
       "  color: #f1f1f1;\n",
       "}\n",
       "#T_45f19_row8_col10, #T_45f19_row12_col10, #T_45f19_row14_col10 {\n",
       "  background-color: #485fd1;\n",
       "  color: #f1f1f1;\n",
       "}\n",
       "#T_45f19_row8_col13 {\n",
       "  background-color: #7699f6;\n",
       "  color: #f1f1f1;\n",
       "}\n",
       "#T_45f19_row9_col0, #T_45f19_row14_col13 {\n",
       "  background-color: #7597f6;\n",
       "  color: #f1f1f1;\n",
       "}\n",
       "#T_45f19_row9_col2 {\n",
       "  background-color: #cedaeb;\n",
       "  color: #000000;\n",
       "}\n",
       "#T_45f19_row9_col3 {\n",
       "  background-color: #dddcdc;\n",
       "  color: #000000;\n",
       "}\n",
       "#T_45f19_row9_col4 {\n",
       "  background-color: #cfdaea;\n",
       "  color: #000000;\n",
       "}\n",
       "#T_45f19_row9_col5, #T_45f19_row9_col6 {\n",
       "  background-color: #bfd3f6;\n",
       "  color: #000000;\n",
       "}\n",
       "#T_45f19_row9_col7 {\n",
       "  background-color: #dbdcde;\n",
       "  color: #000000;\n",
       "}\n",
       "#T_45f19_row9_col10 {\n",
       "  background-color: #465ecf;\n",
       "  color: #f1f1f1;\n",
       "}\n",
       "#T_45f19_row9_col13, #T_45f19_row13_col12 {\n",
       "  background-color: #c4d5f3;\n",
       "  color: #000000;\n",
       "}\n",
       "#T_45f19_row9_col14 {\n",
       "  background-color: #455cce;\n",
       "  color: #f1f1f1;\n",
       "}\n",
       "#T_45f19_row10_col0 {\n",
       "  background-color: #6282ea;\n",
       "  color: #f1f1f1;\n",
       "}\n",
       "#T_45f19_row10_col2, #T_45f19_row10_col13 {\n",
       "  background-color: #779af7;\n",
       "  color: #f1f1f1;\n",
       "}\n",
       "#T_45f19_row10_col4 {\n",
       "  background-color: #98b9ff;\n",
       "  color: #000000;\n",
       "}\n",
       "#T_45f19_row10_col5, #T_45f19_row10_col6 {\n",
       "  background-color: #7a9df8;\n",
       "  color: #f1f1f1;\n",
       "}\n",
       "#T_45f19_row12_col0 {\n",
       "  background-color: #aec9fc;\n",
       "  color: #000000;\n",
       "}\n",
       "#T_45f19_row12_col3 {\n",
       "  background-color: #aac7fd;\n",
       "  color: #000000;\n",
       "}\n",
       "#T_45f19_row12_col5, #T_45f19_row12_col6 {\n",
       "  background-color: #cd423b;\n",
       "  color: #f1f1f1;\n",
       "}\n",
       "#T_45f19_row12_col7 {\n",
       "  background-color: #cbd8ee;\n",
       "  color: #000000;\n",
       "}\n",
       "#T_45f19_row12_col9 {\n",
       "  background-color: #6788ee;\n",
       "  color: #f1f1f1;\n",
       "}\n",
       "#T_45f19_row13_col4 {\n",
       "  background-color: #dcdddd;\n",
       "  color: #000000;\n",
       "}\n",
       "#T_45f19_row13_col5, #T_45f19_row13_col6 {\n",
       "  background-color: #f1ccb8;\n",
       "  color: #000000;\n",
       "}\n",
       "#T_45f19_row13_col9 {\n",
       "  background-color: #a1c0ff;\n",
       "  color: #000000;\n",
       "}\n",
       "#T_45f19_row13_col10 {\n",
       "  background-color: #4a63d3;\n",
       "  color: #f1f1f1;\n",
       "}\n",
       "#T_45f19_row14_col0 {\n",
       "  background-color: #6f92f3;\n",
       "  color: #f1f1f1;\n",
       "}\n",
       "#T_45f19_row14_col2 {\n",
       "  background-color: #97b8ff;\n",
       "  color: #000000;\n",
       "}\n",
       "#T_45f19_row14_col3 {\n",
       "  background-color: #bed2f6;\n",
       "  color: #000000;\n",
       "}\n",
       "#T_45f19_row14_col7 {\n",
       "  background-color: #a5c3fe;\n",
       "  color: #000000;\n",
       "}\n",
       "</style>\n",
       "<table id=\"T_45f19\">\n",
       "  <thead>\n",
       "    <tr>\n",
       "      <th class=\"blank level0\" >&nbsp;</th>\n",
       "      <th id=\"T_45f19_level0_col0\" class=\"col_heading level0 col0\" >AHU: Supply Air Temperature</th>\n",
       "      <th id=\"T_45f19_level0_col1\" class=\"col_heading level0 col1\" >AHU: Supply Air Temperature Set Point</th>\n",
       "      <th id=\"T_45f19_level0_col2\" class=\"col_heading level0 col2\" >AHU: Outdoor Air Temperature</th>\n",
       "      <th id=\"T_45f19_level0_col3\" class=\"col_heading level0 col3\" >AHU: Mixed Air Temperature</th>\n",
       "      <th id=\"T_45f19_level0_col4\" class=\"col_heading level0 col4\" >AHU: Return Air Temperature</th>\n",
       "      <th id=\"T_45f19_level0_col5\" class=\"col_heading level0 col5\" >AHU: Supply Air Fan Speed Control Signal</th>\n",
       "      <th id=\"T_45f19_level0_col6\" class=\"col_heading level0 col6\" >AHU: Return Air Fan Speed Control Signal</th>\n",
       "      <th id=\"T_45f19_level0_col7\" class=\"col_heading level0 col7\" >AHU: Outdoor Air Damper Control Signal</th>\n",
       "      <th id=\"T_45f19_level0_col8\" class=\"col_heading level0 col8\" >AHU: Return Air Damper Control Signal</th>\n",
       "      <th id=\"T_45f19_level0_col9\" class=\"col_heading level0 col9\" >AHU: Cooling Coil Valve Control Signal</th>\n",
       "      <th id=\"T_45f19_level0_col10\" class=\"col_heading level0 col10\" >AHU: Heating Coil Valve Control Signal</th>\n",
       "      <th id=\"T_45f19_level0_col11\" class=\"col_heading level0 col11\" >AHU: Supply Air Duct Static Pressure Set Point</th>\n",
       "      <th id=\"T_45f19_level0_col12\" class=\"col_heading level0 col12\" >AHU: Supply Air Duct Static Pressure</th>\n",
       "      <th id=\"T_45f19_level0_col13\" class=\"col_heading level0 col13\" >Occupancy Mode Indicator</th>\n",
       "      <th id=\"T_45f19_level0_col14\" class=\"col_heading level0 col14\" >Fault Detection Ground Truth</th>\n",
       "    </tr>\n",
       "  </thead>\n",
       "  <tbody>\n",
       "    <tr>\n",
       "      <th id=\"T_45f19_level0_row0\" class=\"row_heading level0 row0\" >AHU: Supply Air Temperature</th>\n",
       "      <td id=\"T_45f19_row0_col0\" class=\"data row0 col0\" >1.000000</td>\n",
       "      <td id=\"T_45f19_row0_col1\" class=\"data row0 col1\" >nan</td>\n",
       "      <td id=\"T_45f19_row0_col2\" class=\"data row0 col2\" >0.216567</td>\n",
       "      <td id=\"T_45f19_row0_col3\" class=\"data row0 col3\" >0.430233</td>\n",
       "      <td id=\"T_45f19_row0_col4\" class=\"data row0 col4\" >0.125461</td>\n",
       "      <td id=\"T_45f19_row0_col5\" class=\"data row0 col5\" >0.236617</td>\n",
       "      <td id=\"T_45f19_row0_col6\" class=\"data row0 col6\" >0.236617</td>\n",
       "      <td id=\"T_45f19_row0_col7\" class=\"data row0 col7\" >-0.161726</td>\n",
       "      <td id=\"T_45f19_row0_col8\" class=\"data row0 col8\" >-0.001124</td>\n",
       "      <td id=\"T_45f19_row0_col9\" class=\"data row0 col9\" >0.048553</td>\n",
       "      <td id=\"T_45f19_row0_col10\" class=\"data row0 col10\" >-0.015610</td>\n",
       "      <td id=\"T_45f19_row0_col11\" class=\"data row0 col11\" >nan</td>\n",
       "      <td id=\"T_45f19_row0_col12\" class=\"data row0 col12\" >0.241884</td>\n",
       "      <td id=\"T_45f19_row0_col13\" class=\"data row0 col13\" >-0.044955</td>\n",
       "      <td id=\"T_45f19_row0_col14\" class=\"data row0 col14\" >0.031571</td>\n",
       "    </tr>\n",
       "    <tr>\n",
       "      <th id=\"T_45f19_level0_row1\" class=\"row_heading level0 row1\" >AHU: Supply Air Temperature Set Point</th>\n",
       "      <td id=\"T_45f19_row1_col0\" class=\"data row1 col0\" >nan</td>\n",
       "      <td id=\"T_45f19_row1_col1\" class=\"data row1 col1\" >nan</td>\n",
       "      <td id=\"T_45f19_row1_col2\" class=\"data row1 col2\" >nan</td>\n",
       "      <td id=\"T_45f19_row1_col3\" class=\"data row1 col3\" >nan</td>\n",
       "      <td id=\"T_45f19_row1_col4\" class=\"data row1 col4\" >nan</td>\n",
       "      <td id=\"T_45f19_row1_col5\" class=\"data row1 col5\" >nan</td>\n",
       "      <td id=\"T_45f19_row1_col6\" class=\"data row1 col6\" >nan</td>\n",
       "      <td id=\"T_45f19_row1_col7\" class=\"data row1 col7\" >nan</td>\n",
       "      <td id=\"T_45f19_row1_col8\" class=\"data row1 col8\" >nan</td>\n",
       "      <td id=\"T_45f19_row1_col9\" class=\"data row1 col9\" >nan</td>\n",
       "      <td id=\"T_45f19_row1_col10\" class=\"data row1 col10\" >nan</td>\n",
       "      <td id=\"T_45f19_row1_col11\" class=\"data row1 col11\" >nan</td>\n",
       "      <td id=\"T_45f19_row1_col12\" class=\"data row1 col12\" >nan</td>\n",
       "      <td id=\"T_45f19_row1_col13\" class=\"data row1 col13\" >nan</td>\n",
       "      <td id=\"T_45f19_row1_col14\" class=\"data row1 col14\" >nan</td>\n",
       "    </tr>\n",
       "    <tr>\n",
       "      <th id=\"T_45f19_level0_row2\" class=\"row_heading level0 row2\" >AHU: Outdoor Air Temperature</th>\n",
       "      <td id=\"T_45f19_row2_col0\" class=\"data row2 col0\" >0.216567</td>\n",
       "      <td id=\"T_45f19_row2_col1\" class=\"data row2 col1\" >nan</td>\n",
       "      <td id=\"T_45f19_row2_col2\" class=\"data row2 col2\" >1.000000</td>\n",
       "      <td id=\"T_45f19_row2_col3\" class=\"data row2 col3\" >0.651269</td>\n",
       "      <td id=\"T_45f19_row2_col4\" class=\"data row2 col4\" >0.697441</td>\n",
       "      <td id=\"T_45f19_row2_col5\" class=\"data row2 col5\" >-0.151451</td>\n",
       "      <td id=\"T_45f19_row2_col6\" class=\"data row2 col6\" >-0.151451</td>\n",
       "      <td id=\"T_45f19_row2_col7\" class=\"data row2 col7\" >0.022777</td>\n",
       "      <td id=\"T_45f19_row2_col8\" class=\"data row2 col8\" >-0.001009</td>\n",
       "      <td id=\"T_45f19_row2_col9\" class=\"data row2 col9\" >0.301683</td>\n",
       "      <td id=\"T_45f19_row2_col10\" class=\"data row2 col10\" >-0.020914</td>\n",
       "      <td id=\"T_45f19_row2_col11\" class=\"data row2 col11\" >nan</td>\n",
       "      <td id=\"T_45f19_row2_col12\" class=\"data row2 col12\" >-0.259524</td>\n",
       "      <td id=\"T_45f19_row2_col13\" class=\"data row2 col13\" >0.147097</td>\n",
       "      <td id=\"T_45f19_row2_col14\" class=\"data row2 col14\" >0.091147</td>\n",
       "    </tr>\n",
       "    <tr>\n",
       "      <th id=\"T_45f19_level0_row3\" class=\"row_heading level0 row3\" >AHU: Mixed Air Temperature</th>\n",
       "      <td id=\"T_45f19_row3_col0\" class=\"data row3 col0\" >0.430233</td>\n",
       "      <td id=\"T_45f19_row3_col1\" class=\"data row3 col1\" >nan</td>\n",
       "      <td id=\"T_45f19_row3_col2\" class=\"data row3 col2\" >0.651269</td>\n",
       "      <td id=\"T_45f19_row3_col3\" class=\"data row3 col3\" >1.000000</td>\n",
       "      <td id=\"T_45f19_row3_col4\" class=\"data row3 col4\" >0.510412</td>\n",
       "      <td id=\"T_45f19_row3_col5\" class=\"data row3 col5\" >-0.067028</td>\n",
       "      <td id=\"T_45f19_row3_col6\" class=\"data row3 col6\" >-0.067028</td>\n",
       "      <td id=\"T_45f19_row3_col7\" class=\"data row3 col7\" >-0.577908</td>\n",
       "      <td id=\"T_45f19_row3_col8\" class=\"data row3 col8\" >-0.004905</td>\n",
       "      <td id=\"T_45f19_row3_col9\" class=\"data row3 col9\" >0.215018</td>\n",
       "      <td id=\"T_45f19_row3_col10\" class=\"data row3 col10\" >-0.046288</td>\n",
       "      <td id=\"T_45f19_row3_col11\" class=\"data row3 col11\" >nan</td>\n",
       "      <td id=\"T_45f19_row3_col12\" class=\"data row3 col12\" >-0.053148</td>\n",
       "      <td id=\"T_45f19_row3_col13\" class=\"data row3 col13\" >-0.222230</td>\n",
       "      <td id=\"T_45f19_row3_col14\" class=\"data row3 col14\" >0.044586</td>\n",
       "    </tr>\n",
       "    <tr>\n",
       "      <th id=\"T_45f19_level0_row4\" class=\"row_heading level0 row4\" >AHU: Return Air Temperature</th>\n",
       "      <td id=\"T_45f19_row4_col0\" class=\"data row4 col0\" >0.125461</td>\n",
       "      <td id=\"T_45f19_row4_col1\" class=\"data row4 col1\" >nan</td>\n",
       "      <td id=\"T_45f19_row4_col2\" class=\"data row4 col2\" >0.697441</td>\n",
       "      <td id=\"T_45f19_row4_col3\" class=\"data row4 col3\" >0.510412</td>\n",
       "      <td id=\"T_45f19_row4_col4\" class=\"data row4 col4\" >1.000000</td>\n",
       "      <td id=\"T_45f19_row4_col5\" class=\"data row4 col5\" >-0.240479</td>\n",
       "      <td id=\"T_45f19_row4_col6\" class=\"data row4 col6\" >-0.240479</td>\n",
       "      <td id=\"T_45f19_row4_col7\" class=\"data row4 col7\" >0.061260</td>\n",
       "      <td id=\"T_45f19_row4_col8\" class=\"data row4 col8\" >-0.000512</td>\n",
       "      <td id=\"T_45f19_row4_col9\" class=\"data row4 col9\" >0.223071</td>\n",
       "      <td id=\"T_45f19_row4_col10\" class=\"data row4 col10\" >-0.014214</td>\n",
       "      <td id=\"T_45f19_row4_col11\" class=\"data row4 col11\" >nan</td>\n",
       "      <td id=\"T_45f19_row4_col12\" class=\"data row4 col12\" >-0.415269</td>\n",
       "      <td id=\"T_45f19_row4_col13\" class=\"data row4 col13\" >0.290516</td>\n",
       "      <td id=\"T_45f19_row4_col14\" class=\"data row4 col14\" >0.014281</td>\n",
       "    </tr>\n",
       "    <tr>\n",
       "      <th id=\"T_45f19_level0_row5\" class=\"row_heading level0 row5\" >AHU: Supply Air Fan Speed Control Signal</th>\n",
       "      <td id=\"T_45f19_row5_col0\" class=\"data row5 col0\" >0.236617</td>\n",
       "      <td id=\"T_45f19_row5_col1\" class=\"data row5 col1\" >nan</td>\n",
       "      <td id=\"T_45f19_row5_col2\" class=\"data row5 col2\" >-0.151451</td>\n",
       "      <td id=\"T_45f19_row5_col3\" class=\"data row5 col3\" >-0.067028</td>\n",
       "      <td id=\"T_45f19_row5_col4\" class=\"data row5 col4\" >-0.240479</td>\n",
       "      <td id=\"T_45f19_row5_col5\" class=\"data row5 col5\" >1.000000</td>\n",
       "      <td id=\"T_45f19_row5_col6\" class=\"data row5 col6\" >1.000000</td>\n",
       "      <td id=\"T_45f19_row5_col7\" class=\"data row5 col7\" >0.311472</td>\n",
       "      <td id=\"T_45f19_row5_col8\" class=\"data row5 col8\" >0.001626</td>\n",
       "      <td id=\"T_45f19_row5_col9\" class=\"data row5 col9\" >0.249552</td>\n",
       "      <td id=\"T_45f19_row5_col10\" class=\"data row5 col10\" >0.003982</td>\n",
       "      <td id=\"T_45f19_row5_col11\" class=\"data row5 col11\" >nan</td>\n",
       "      <td id=\"T_45f19_row5_col12\" class=\"data row5 col12\" >0.909507</td>\n",
       "      <td id=\"T_45f19_row5_col13\" class=\"data row5 col13\" >0.498778</td>\n",
       "      <td id=\"T_45f19_row5_col14\" class=\"data row5 col14\" >-0.000689</td>\n",
       "    </tr>\n",
       "    <tr>\n",
       "      <th id=\"T_45f19_level0_row6\" class=\"row_heading level0 row6\" >AHU: Return Air Fan Speed Control Signal</th>\n",
       "      <td id=\"T_45f19_row6_col0\" class=\"data row6 col0\" >0.236617</td>\n",
       "      <td id=\"T_45f19_row6_col1\" class=\"data row6 col1\" >nan</td>\n",
       "      <td id=\"T_45f19_row6_col2\" class=\"data row6 col2\" >-0.151451</td>\n",
       "      <td id=\"T_45f19_row6_col3\" class=\"data row6 col3\" >-0.067028</td>\n",
       "      <td id=\"T_45f19_row6_col4\" class=\"data row6 col4\" >-0.240479</td>\n",
       "      <td id=\"T_45f19_row6_col5\" class=\"data row6 col5\" >1.000000</td>\n",
       "      <td id=\"T_45f19_row6_col6\" class=\"data row6 col6\" >1.000000</td>\n",
       "      <td id=\"T_45f19_row6_col7\" class=\"data row6 col7\" >0.311472</td>\n",
       "      <td id=\"T_45f19_row6_col8\" class=\"data row6 col8\" >0.001626</td>\n",
       "      <td id=\"T_45f19_row6_col9\" class=\"data row6 col9\" >0.249552</td>\n",
       "      <td id=\"T_45f19_row6_col10\" class=\"data row6 col10\" >0.003982</td>\n",
       "      <td id=\"T_45f19_row6_col11\" class=\"data row6 col11\" >nan</td>\n",
       "      <td id=\"T_45f19_row6_col12\" class=\"data row6 col12\" >0.909507</td>\n",
       "      <td id=\"T_45f19_row6_col13\" class=\"data row6 col13\" >0.498778</td>\n",
       "      <td id=\"T_45f19_row6_col14\" class=\"data row6 col14\" >-0.000689</td>\n",
       "    </tr>\n",
       "    <tr>\n",
       "      <th id=\"T_45f19_level0_row7\" class=\"row_heading level0 row7\" >AHU: Outdoor Air Damper Control Signal</th>\n",
       "      <td id=\"T_45f19_row7_col0\" class=\"data row7 col0\" >-0.161726</td>\n",
       "      <td id=\"T_45f19_row7_col1\" class=\"data row7 col1\" >nan</td>\n",
       "      <td id=\"T_45f19_row7_col2\" class=\"data row7 col2\" >0.022777</td>\n",
       "      <td id=\"T_45f19_row7_col3\" class=\"data row7 col3\" >-0.577908</td>\n",
       "      <td id=\"T_45f19_row7_col4\" class=\"data row7 col4\" >0.061260</td>\n",
       "      <td id=\"T_45f19_row7_col5\" class=\"data row7 col5\" >0.311472</td>\n",
       "      <td id=\"T_45f19_row7_col6\" class=\"data row7 col6\" >0.311472</td>\n",
       "      <td id=\"T_45f19_row7_col7\" class=\"data row7 col7\" >1.000000</td>\n",
       "      <td id=\"T_45f19_row7_col8\" class=\"data row7 col8\" >0.004973</td>\n",
       "      <td id=\"T_45f19_row7_col9\" class=\"data row7 col9\" >0.200078</td>\n",
       "      <td id=\"T_45f19_row7_col10\" class=\"data row7 col10\" >0.013665</td>\n",
       "      <td id=\"T_45f19_row7_col11\" class=\"data row7 col11\" >nan</td>\n",
       "      <td id=\"T_45f19_row7_col12\" class=\"data row7 col12\" >0.111382</td>\n",
       "      <td id=\"T_45f19_row7_col13\" class=\"data row7 col13\" >0.654414</td>\n",
       "      <td id=\"T_45f19_row7_col14\" class=\"data row7 col14\" >-0.075463</td>\n",
       "    </tr>\n",
       "    <tr>\n",
       "      <th id=\"T_45f19_level0_row8\" class=\"row_heading level0 row8\" >AHU: Return Air Damper Control Signal</th>\n",
       "      <td id=\"T_45f19_row8_col0\" class=\"data row8 col0\" >-0.001124</td>\n",
       "      <td id=\"T_45f19_row8_col1\" class=\"data row8 col1\" >nan</td>\n",
       "      <td id=\"T_45f19_row8_col2\" class=\"data row8 col2\" >-0.001009</td>\n",
       "      <td id=\"T_45f19_row8_col3\" class=\"data row8 col3\" >-0.004905</td>\n",
       "      <td id=\"T_45f19_row8_col4\" class=\"data row8 col4\" >-0.000512</td>\n",
       "      <td id=\"T_45f19_row8_col5\" class=\"data row8 col5\" >0.001626</td>\n",
       "      <td id=\"T_45f19_row8_col6\" class=\"data row8 col6\" >0.001626</td>\n",
       "      <td id=\"T_45f19_row8_col7\" class=\"data row8 col7\" >0.004973</td>\n",
       "      <td id=\"T_45f19_row8_col8\" class=\"data row8 col8\" >1.000000</td>\n",
       "      <td id=\"T_45f19_row8_col9\" class=\"data row8 col9\" >-0.001432</td>\n",
       "      <td id=\"T_45f19_row8_col10\" class=\"data row8 col10\" >-0.000032</td>\n",
       "      <td id=\"T_45f19_row8_col11\" class=\"data row8 col11\" >nan</td>\n",
       "      <td id=\"T_45f19_row8_col12\" class=\"data row8 col12\" >0.000626</td>\n",
       "      <td id=\"T_45f19_row8_col13\" class=\"data row8 col13\" >0.003676</td>\n",
       "      <td id=\"T_45f19_row8_col14\" class=\"data row8 col14\" >0.003586</td>\n",
       "    </tr>\n",
       "    <tr>\n",
       "      <th id=\"T_45f19_level0_row9\" class=\"row_heading level0 row9\" >AHU: Cooling Coil Valve Control Signal</th>\n",
       "      <td id=\"T_45f19_row9_col0\" class=\"data row9 col0\" >0.048553</td>\n",
       "      <td id=\"T_45f19_row9_col1\" class=\"data row9 col1\" >nan</td>\n",
       "      <td id=\"T_45f19_row9_col2\" class=\"data row9 col2\" >0.301683</td>\n",
       "      <td id=\"T_45f19_row9_col3\" class=\"data row9 col3\" >0.215018</td>\n",
       "      <td id=\"T_45f19_row9_col4\" class=\"data row9 col4\" >0.223071</td>\n",
       "      <td id=\"T_45f19_row9_col5\" class=\"data row9 col5\" >0.249552</td>\n",
       "      <td id=\"T_45f19_row9_col6\" class=\"data row9 col6\" >0.249552</td>\n",
       "      <td id=\"T_45f19_row9_col7\" class=\"data row9 col7\" >0.200078</td>\n",
       "      <td id=\"T_45f19_row9_col8\" class=\"data row9 col8\" >-0.001432</td>\n",
       "      <td id=\"T_45f19_row9_col9\" class=\"data row9 col9\" >1.000000</td>\n",
       "      <td id=\"T_45f19_row9_col10\" class=\"data row9 col10\" >-0.003507</td>\n",
       "      <td id=\"T_45f19_row9_col11\" class=\"data row9 col11\" >nan</td>\n",
       "      <td id=\"T_45f19_row9_col12\" class=\"data row9 col12\" >0.113591</td>\n",
       "      <td id=\"T_45f19_row9_col13\" class=\"data row9 col13\" >0.282206</td>\n",
       "      <td id=\"T_45f19_row9_col14\" class=\"data row9 col14\" >-0.034513</td>\n",
       "    </tr>\n",
       "    <tr>\n",
       "      <th id=\"T_45f19_level0_row10\" class=\"row_heading level0 row10\" >AHU: Heating Coil Valve Control Signal</th>\n",
       "      <td id=\"T_45f19_row10_col0\" class=\"data row10 col0\" >-0.015610</td>\n",
       "      <td id=\"T_45f19_row10_col1\" class=\"data row10 col1\" >nan</td>\n",
       "      <td id=\"T_45f19_row10_col2\" class=\"data row10 col2\" >-0.020914</td>\n",
       "      <td id=\"T_45f19_row10_col3\" class=\"data row10 col3\" >-0.046288</td>\n",
       "      <td id=\"T_45f19_row10_col4\" class=\"data row10 col4\" >-0.014214</td>\n",
       "      <td id=\"T_45f19_row10_col5\" class=\"data row10 col5\" >0.003982</td>\n",
       "      <td id=\"T_45f19_row10_col6\" class=\"data row10 col6\" >0.003982</td>\n",
       "      <td id=\"T_45f19_row10_col7\" class=\"data row10 col7\" >0.013665</td>\n",
       "      <td id=\"T_45f19_row10_col8\" class=\"data row10 col8\" >-0.000032</td>\n",
       "      <td id=\"T_45f19_row10_col9\" class=\"data row10 col9\" >-0.003507</td>\n",
       "      <td id=\"T_45f19_row10_col10\" class=\"data row10 col10\" >1.000000</td>\n",
       "      <td id=\"T_45f19_row10_col11\" class=\"data row10 col11\" >nan</td>\n",
       "      <td id=\"T_45f19_row10_col12\" class=\"data row10 col12\" >0.001533</td>\n",
       "      <td id=\"T_45f19_row10_col13\" class=\"data row10 col13\" >0.009004</td>\n",
       "      <td id=\"T_45f19_row10_col14\" class=\"data row10 col14\" >0.000000</td>\n",
       "    </tr>\n",
       "    <tr>\n",
       "      <th id=\"T_45f19_level0_row11\" class=\"row_heading level0 row11\" >AHU: Supply Air Duct Static Pressure Set Point</th>\n",
       "      <td id=\"T_45f19_row11_col0\" class=\"data row11 col0\" >nan</td>\n",
       "      <td id=\"T_45f19_row11_col1\" class=\"data row11 col1\" >nan</td>\n",
       "      <td id=\"T_45f19_row11_col2\" class=\"data row11 col2\" >nan</td>\n",
       "      <td id=\"T_45f19_row11_col3\" class=\"data row11 col3\" >nan</td>\n",
       "      <td id=\"T_45f19_row11_col4\" class=\"data row11 col4\" >nan</td>\n",
       "      <td id=\"T_45f19_row11_col5\" class=\"data row11 col5\" >nan</td>\n",
       "      <td id=\"T_45f19_row11_col6\" class=\"data row11 col6\" >nan</td>\n",
       "      <td id=\"T_45f19_row11_col7\" class=\"data row11 col7\" >nan</td>\n",
       "      <td id=\"T_45f19_row11_col8\" class=\"data row11 col8\" >nan</td>\n",
       "      <td id=\"T_45f19_row11_col9\" class=\"data row11 col9\" >nan</td>\n",
       "      <td id=\"T_45f19_row11_col10\" class=\"data row11 col10\" >nan</td>\n",
       "      <td id=\"T_45f19_row11_col11\" class=\"data row11 col11\" >nan</td>\n",
       "      <td id=\"T_45f19_row11_col12\" class=\"data row11 col12\" >nan</td>\n",
       "      <td id=\"T_45f19_row11_col13\" class=\"data row11 col13\" >nan</td>\n",
       "      <td id=\"T_45f19_row11_col14\" class=\"data row11 col14\" >nan</td>\n",
       "    </tr>\n",
       "    <tr>\n",
       "      <th id=\"T_45f19_level0_row12\" class=\"row_heading level0 row12\" >AHU: Supply Air Duct Static Pressure</th>\n",
       "      <td id=\"T_45f19_row12_col0\" class=\"data row12 col0\" >0.241884</td>\n",
       "      <td id=\"T_45f19_row12_col1\" class=\"data row12 col1\" >nan</td>\n",
       "      <td id=\"T_45f19_row12_col2\" class=\"data row12 col2\" >-0.259524</td>\n",
       "      <td id=\"T_45f19_row12_col3\" class=\"data row12 col3\" >-0.053148</td>\n",
       "      <td id=\"T_45f19_row12_col4\" class=\"data row12 col4\" >-0.415269</td>\n",
       "      <td id=\"T_45f19_row12_col5\" class=\"data row12 col5\" >0.909507</td>\n",
       "      <td id=\"T_45f19_row12_col6\" class=\"data row12 col6\" >0.909507</td>\n",
       "      <td id=\"T_45f19_row12_col7\" class=\"data row12 col7\" >0.111382</td>\n",
       "      <td id=\"T_45f19_row12_col8\" class=\"data row12 col8\" >0.000626</td>\n",
       "      <td id=\"T_45f19_row12_col9\" class=\"data row12 col9\" >0.113591</td>\n",
       "      <td id=\"T_45f19_row12_col10\" class=\"data row12 col10\" >0.001533</td>\n",
       "      <td id=\"T_45f19_row12_col11\" class=\"data row12 col11\" >nan</td>\n",
       "      <td id=\"T_45f19_row12_col12\" class=\"data row12 col12\" >1.000000</td>\n",
       "      <td id=\"T_45f19_row12_col13\" class=\"data row12 col13\" >0.170202</td>\n",
       "      <td id=\"T_45f19_row12_col14\" class=\"data row12 col14\" >-0.000239</td>\n",
       "    </tr>\n",
       "    <tr>\n",
       "      <th id=\"T_45f19_level0_row13\" class=\"row_heading level0 row13\" >Occupancy Mode Indicator</th>\n",
       "      <td id=\"T_45f19_row13_col0\" class=\"data row13 col0\" >-0.044955</td>\n",
       "      <td id=\"T_45f19_row13_col1\" class=\"data row13 col1\" >nan</td>\n",
       "      <td id=\"T_45f19_row13_col2\" class=\"data row13 col2\" >0.147097</td>\n",
       "      <td id=\"T_45f19_row13_col3\" class=\"data row13 col3\" >-0.222230</td>\n",
       "      <td id=\"T_45f19_row13_col4\" class=\"data row13 col4\" >0.290516</td>\n",
       "      <td id=\"T_45f19_row13_col5\" class=\"data row13 col5\" >0.498778</td>\n",
       "      <td id=\"T_45f19_row13_col6\" class=\"data row13 col6\" >0.498778</td>\n",
       "      <td id=\"T_45f19_row13_col7\" class=\"data row13 col7\" >0.654414</td>\n",
       "      <td id=\"T_45f19_row13_col8\" class=\"data row13 col8\" >0.003676</td>\n",
       "      <td id=\"T_45f19_row13_col9\" class=\"data row13 col9\" >0.282206</td>\n",
       "      <td id=\"T_45f19_row13_col10\" class=\"data row13 col10\" >0.009004</td>\n",
       "      <td id=\"T_45f19_row13_col11\" class=\"data row13 col11\" >nan</td>\n",
       "      <td id=\"T_45f19_row13_col12\" class=\"data row13 col12\" >0.170202</td>\n",
       "      <td id=\"T_45f19_row13_col13\" class=\"data row13 col13\" >1.000000</td>\n",
       "      <td id=\"T_45f19_row13_col14\" class=\"data row13 col14\" >0.000000</td>\n",
       "    </tr>\n",
       "    <tr>\n",
       "      <th id=\"T_45f19_level0_row14\" class=\"row_heading level0 row14\" >Fault Detection Ground Truth</th>\n",
       "      <td id=\"T_45f19_row14_col0\" class=\"data row14 col0\" >0.031571</td>\n",
       "      <td id=\"T_45f19_row14_col1\" class=\"data row14 col1\" >nan</td>\n",
       "      <td id=\"T_45f19_row14_col2\" class=\"data row14 col2\" >0.091147</td>\n",
       "      <td id=\"T_45f19_row14_col3\" class=\"data row14 col3\" >0.044586</td>\n",
       "      <td id=\"T_45f19_row14_col4\" class=\"data row14 col4\" >0.014281</td>\n",
       "      <td id=\"T_45f19_row14_col5\" class=\"data row14 col5\" >-0.000689</td>\n",
       "      <td id=\"T_45f19_row14_col6\" class=\"data row14 col6\" >-0.000689</td>\n",
       "      <td id=\"T_45f19_row14_col7\" class=\"data row14 col7\" >-0.075463</td>\n",
       "      <td id=\"T_45f19_row14_col8\" class=\"data row14 col8\" >0.003586</td>\n",
       "      <td id=\"T_45f19_row14_col9\" class=\"data row14 col9\" >-0.034513</td>\n",
       "      <td id=\"T_45f19_row14_col10\" class=\"data row14 col10\" >0.000000</td>\n",
       "      <td id=\"T_45f19_row14_col11\" class=\"data row14 col11\" >nan</td>\n",
       "      <td id=\"T_45f19_row14_col12\" class=\"data row14 col12\" >-0.000239</td>\n",
       "      <td id=\"T_45f19_row14_col13\" class=\"data row14 col13\" >0.000000</td>\n",
       "      <td id=\"T_45f19_row14_col14\" class=\"data row14 col14\" >1.000000</td>\n",
       "    </tr>\n",
       "  </tbody>\n",
       "</table>\n"
      ],
      "text/plain": [
       "<pandas.io.formats.style.Styler at 0x156c1ef97c0>"
      ]
     },
     "execution_count": 39,
     "metadata": {},
     "output_type": "execute_result"
    }
   ],
   "source": [
    "corr = df1.corr()\n",
    "corr.style.background_gradient(cmap=\"coolwarm\")"
   ]
  },
  {
   "cell_type": "code",
   "execution_count": 5,
   "id": "ec2ccb0b",
   "metadata": {},
   "outputs": [],
   "source": [
    "# One-hot encode all features in X.\n",
    "X_df1 = pd.get_dummies(X_df1) "
   ]
  },
  {
   "cell_type": "code",
   "execution_count": 6,
   "id": "5eef3374",
   "metadata": {},
   "outputs": [],
   "source": [
    "# Call train_test_split on X_df1, y_df1. Make the test_size = 0.25, and random_state = 246\n",
    "X_df1_train, X_df1_test, y_df1_train, y_df1_test = train_test_split(X_df1, y_df1, test_size=0.25, random_state=246) "
   ]
  },
  {
   "cell_type": "code",
   "execution_count": 7,
   "id": "4baa4a8c",
   "metadata": {},
   "outputs": [],
   "source": [
    "X_df1_train = X_df1_train.to_numpy()\n",
    "y_df1_train = y_df1_train.to_numpy()"
   ]
  },
  {
   "cell_type": "markdown",
   "id": "e7458b83",
   "metadata": {},
   "source": [
    "### 4.1.3b MZVAV_2_1_hcvleak"
   ]
  },
  {
   "cell_type": "code",
   "execution_count": 8,
   "id": "a5d303a7",
   "metadata": {},
   "outputs": [
    {
     "data": {
      "text/html": [
       "<div>\n",
       "<style scoped>\n",
       "    .dataframe tbody tr th:only-of-type {\n",
       "        vertical-align: middle;\n",
       "    }\n",
       "\n",
       "    .dataframe tbody tr th {\n",
       "        vertical-align: top;\n",
       "    }\n",
       "\n",
       "    .dataframe thead th {\n",
       "        text-align: right;\n",
       "    }\n",
       "</style>\n",
       "<table border=\"1\" class=\"dataframe\">\n",
       "  <thead>\n",
       "    <tr style=\"text-align: right;\">\n",
       "      <th></th>\n",
       "      <th>AHU: Supply Air Temperature</th>\n",
       "      <th>AHU: Supply Air Temperature Set Point</th>\n",
       "      <th>AHU: Outdoor Air Temperature</th>\n",
       "      <th>AHU: Mixed Air Temperature</th>\n",
       "      <th>AHU: Return Air Temperature</th>\n",
       "      <th>AHU: Supply Air Fan Speed Control Signal</th>\n",
       "      <th>AHU: Return Air Fan Speed Control Signal</th>\n",
       "      <th>AHU: Exhaust Air Damper Control Signal</th>\n",
       "      <th>AHU: Outdoor Air Damper Control Signal</th>\n",
       "      <th>AHU: Return Air Damper Control Signal</th>\n",
       "      <th>AHU: Cooling Coil Valve Control Signal</th>\n",
       "      <th>AHU: Heating Coil Valve Control Signal</th>\n",
       "      <th>AHU: Supply Air Duct Static Pressure Set Point</th>\n",
       "      <th>AHU: Supply Air Duct Static Pressure</th>\n",
       "      <th>Occupancy Mode Indicator</th>\n",
       "      <th>Fault Detection Ground Truth</th>\n",
       "    </tr>\n",
       "  </thead>\n",
       "  <tbody>\n",
       "    <tr>\n",
       "      <th>0</th>\n",
       "      <td>75.92</td>\n",
       "      <td>55</td>\n",
       "      <td>80.61</td>\n",
       "      <td>73.54</td>\n",
       "      <td>73.86</td>\n",
       "      <td>0.2</td>\n",
       "      <td>0.2</td>\n",
       "      <td>0.0</td>\n",
       "      <td>0.0</td>\n",
       "      <td>1.0</td>\n",
       "      <td>0.0</td>\n",
       "      <td>0.0</td>\n",
       "      <td>1.4</td>\n",
       "      <td>0.0</td>\n",
       "      <td>0</td>\n",
       "      <td>1</td>\n",
       "    </tr>\n",
       "    <tr>\n",
       "      <th>1</th>\n",
       "      <td>75.71</td>\n",
       "      <td>55</td>\n",
       "      <td>80.68</td>\n",
       "      <td>73.54</td>\n",
       "      <td>73.86</td>\n",
       "      <td>0.2</td>\n",
       "      <td>0.2</td>\n",
       "      <td>0.0</td>\n",
       "      <td>0.0</td>\n",
       "      <td>1.0</td>\n",
       "      <td>0.0</td>\n",
       "      <td>0.0</td>\n",
       "      <td>1.4</td>\n",
       "      <td>0.0</td>\n",
       "      <td>0</td>\n",
       "      <td>1</td>\n",
       "    </tr>\n",
       "    <tr>\n",
       "      <th>2</th>\n",
       "      <td>75.71</td>\n",
       "      <td>55</td>\n",
       "      <td>80.66</td>\n",
       "      <td>73.54</td>\n",
       "      <td>73.86</td>\n",
       "      <td>0.2</td>\n",
       "      <td>0.2</td>\n",
       "      <td>0.0</td>\n",
       "      <td>0.0</td>\n",
       "      <td>1.0</td>\n",
       "      <td>0.0</td>\n",
       "      <td>0.0</td>\n",
       "      <td>1.4</td>\n",
       "      <td>0.0</td>\n",
       "      <td>0</td>\n",
       "      <td>1</td>\n",
       "    </tr>\n",
       "  </tbody>\n",
       "</table>\n",
       "</div>"
      ],
      "text/plain": [
       "   AHU: Supply Air Temperature  AHU: Supply Air Temperature Set Point  \\\n",
       "0                        75.92                                     55   \n",
       "1                        75.71                                     55   \n",
       "2                        75.71                                     55   \n",
       "\n",
       "   AHU: Outdoor Air Temperature  AHU: Mixed Air Temperature  \\\n",
       "0                         80.61                       73.54   \n",
       "1                         80.68                       73.54   \n",
       "2                         80.66                       73.54   \n",
       "\n",
       "   AHU: Return Air Temperature  AHU: Supply Air Fan Speed Control Signal  \\\n",
       "0                        73.86                                       0.2   \n",
       "1                        73.86                                       0.2   \n",
       "2                        73.86                                       0.2   \n",
       "\n",
       "   AHU: Return Air Fan Speed Control Signal  \\\n",
       "0                                       0.2   \n",
       "1                                       0.2   \n",
       "2                                       0.2   \n",
       "\n",
       "   AHU: Exhaust Air Damper Control Signal  \\\n",
       "0                                     0.0   \n",
       "1                                     0.0   \n",
       "2                                     0.0   \n",
       "\n",
       "   AHU: Outdoor Air Damper Control Signal  \\\n",
       "0                                     0.0   \n",
       "1                                     0.0   \n",
       "2                                     0.0   \n",
       "\n",
       "   AHU: Return Air Damper Control Signal  \\\n",
       "0                                    1.0   \n",
       "1                                    1.0   \n",
       "2                                    1.0   \n",
       "\n",
       "   AHU: Cooling Coil Valve Control Signal  \\\n",
       "0                                     0.0   \n",
       "1                                     0.0   \n",
       "2                                     0.0   \n",
       "\n",
       "   AHU: Heating Coil Valve Control Signal  \\\n",
       "0                                     0.0   \n",
       "1                                     0.0   \n",
       "2                                     0.0   \n",
       "\n",
       "   AHU: Supply Air Duct Static Pressure Set Point  \\\n",
       "0                                             1.4   \n",
       "1                                             1.4   \n",
       "2                                             1.4   \n",
       "\n",
       "   AHU: Supply Air Duct Static Pressure  Occupancy Mode Indicator  \\\n",
       "0                                   0.0                         0   \n",
       "1                                   0.0                         0   \n",
       "2                                   0.0                         0   \n",
       "\n",
       "   Fault Detection Ground Truth  \n",
       "0                             1  \n",
       "1                             1  \n",
       "2                             1  "
      ]
     },
     "execution_count": 8,
     "metadata": {},
     "output_type": "execute_result"
    }
   ],
   "source": [
    "df2 = pd.read_csv('../data/df2.csv')\n",
    "df2 = df2.drop(columns = [\"Unnamed: 0\"])\n",
    "df2.head(3)"
   ]
  },
  {
   "cell_type": "code",
   "execution_count": 9,
   "id": "a279e9f4",
   "metadata": {},
   "outputs": [],
   "source": [
    "# Make a variable called 'features', and a list containing the strings of every column except \"Fault Detection Ground Truth\"\n",
    "features_df2 = [column for column in df2.columns if column != 'Fault Detection Ground Truth']\n",
    "\n",
    "# Make an explanatory variable called X, and assign it: NoPrediction[features]\n",
    "X_df2 = df2[features_df2] \n",
    "\n",
    "# Make a dependent variable called y, and assign it: df1['Fault Detection Ground Truth']\n",
    "y_df2 = df2['Fault Detection Ground Truth'] "
   ]
  },
  {
   "cell_type": "code",
   "execution_count": 10,
   "id": "50f0bf50",
   "metadata": {},
   "outputs": [],
   "source": [
    "# One-hot encode all features in X.\n",
    "X_df2 = pd.get_dummies(X_df2) "
   ]
  },
  {
   "cell_type": "code",
   "execution_count": 11,
   "id": "6268b0f9",
   "metadata": {},
   "outputs": [],
   "source": [
    "# Call train_test_split on X_df2, y_df2. Make the test_size = 0.25, and random_state = 246\n",
    "X_df2_train, X_df2_test, y_df2_train, y_df2_test = train_test_split(X_df2, y_df2, test_size=0.25, random_state=246) "
   ]
  },
  {
   "cell_type": "markdown",
   "id": "5bcae11f",
   "metadata": {},
   "source": [
    "### 4.1.3c MZVAV_2_2_oadamperstuck (the same as 4.1.3a)"
   ]
  },
  {
   "cell_type": "markdown",
   "id": "4b818940",
   "metadata": {},
   "source": [
    "### 4.1.3d MZVAV_2_2_ccvstuck (the same as 4.1.3a)"
   ]
  },
  {
   "cell_type": "markdown",
   "id": "a8c2ca50",
   "metadata": {},
   "source": [
    "### 4.1.3e SZCAV_ccvleak (the same as 4.1.3a)"
   ]
  },
  {
   "cell_type": "markdown",
   "id": "5097b8fd",
   "metadata": {},
   "source": [
    "### 4.1.3f SZVAV_hcvleak (the same as 4.1.3a)"
   ]
  },
  {
   "cell_type": "markdown",
   "id": "eb11e7ea",
   "metadata": {},
   "source": [
    "## 4.2 Standardize the magnitude of numeric features"
   ]
  },
  {
   "cell_type": "markdown",
   "id": "4292d87f",
   "metadata": {},
   "source": [
    "### 4.2.1a MZVAV_1_oaplus2"
   ]
  },
  {
   "cell_type": "code",
   "execution_count": 12,
   "id": "4518304d",
   "metadata": {},
   "outputs": [],
   "source": [
    "# Making a Scaler object \n",
    "scaler = preprocessing.MinMaxScaler((-1,1)) "
   ]
  },
  {
   "cell_type": "code",
   "execution_count": 13,
   "id": "32f38b75",
   "metadata": {},
   "outputs": [
    {
     "name": "stderr",
     "output_type": "stream",
     "text": [
      "C:\\Users\\weiru\\anaconda3\\lib\\site-packages\\sklearn\\base.py:443: UserWarning: X has feature names, but MinMaxScaler was fitted without feature names\n",
      "  warnings.warn(\n"
     ]
    }
   ],
   "source": [
    "# Fitting data to the scaler object\n",
    "X_df1_train = scaler.fit_transform(X_df1_train)\n",
    "X_df1_test = scaler.transform(X_df1_test)\n",
    "X_df1_train = pd.DataFrame(X_df1_train, columns=features_df1) "
   ]
  },
  {
   "cell_type": "markdown",
   "id": "226d0404",
   "metadata": {},
   "source": [
    "### 4.2.1b MZVAV_2_1_hcvleak"
   ]
  },
  {
   "cell_type": "markdown",
   "id": "585cb914",
   "metadata": {},
   "source": [
    "### 4.2.1c MZVAV_2_2_oadamperstuck"
   ]
  },
  {
   "cell_type": "markdown",
   "id": "68f6f507",
   "metadata": {},
   "source": [
    "### 4.2.1d MZVAV_2_2_ccvstuck"
   ]
  },
  {
   "cell_type": "markdown",
   "id": "f6356794",
   "metadata": {},
   "source": [
    "### 4.2.1e SZCAV_ccvleak"
   ]
  },
  {
   "cell_type": "markdown",
   "id": "a9ad8578",
   "metadata": {},
   "source": [
    "### 4.2.1f SZVAV_hcvleak"
   ]
  },
  {
   "cell_type": "markdown",
   "id": "a4165ecd",
   "metadata": {},
   "source": [
    "# 05 Machine Learning models<a id='05_Machine Learning models'></a>"
   ]
  },
  {
   "cell_type": "markdown",
   "id": "544e6b66",
   "metadata": {},
   "source": [
    "This is a classification problem, in supervised learning. Here we have used the following classification models. \n",
    "\n",
    "Evaluating the performance of a model by training and testing on the same dataset can lead to the overfitting. Hence the model evaluation is based on splitting the dataset into train and validation set. But the performance of the prediction result depends upon the random choice of the pair of (train,validation) set. Inorder to overcome that, the Cross-Validation procedure is used where under the k-fold CV approach, the training set is split into k smaller sets, where a model is trained using k-1 of the folds as training data and the model is validated on the remaining part.\n",
    "\n",
    "Classification/ Confusion Matrix: This matrix summarizes the correct and incorrect classifications that a classifier produced for a certain dataset. Rows and columns of the classification matrix correspond to the true and predicted classes respectively. The two diagonal cells (upper left, lower right) give the number of correct classifications, where the predicted class coincides with the actual class of the observation. The off diagonal cells gives the count of the misclassification. The classification matrix gives estimates of the true classification and misclassification rates."
   ]
  },
  {
   "cell_type": "markdown",
   "id": "5ebfc783",
   "metadata": {},
   "source": [
    "## 5.1 Logistic Regression\n",
    "\n",
    "\n",
    "\n",
    "\n",
    "\n",
    "\n",
    "\n"
   ]
  },
  {
   "cell_type": "code",
   "execution_count": 14,
   "id": "fe9c27f7",
   "metadata": {},
   "outputs": [
    {
     "name": "stderr",
     "output_type": "stream",
     "text": [
      "C:\\Users\\weiru\\anaconda3\\lib\\site-packages\\sklearn\\base.py:450: UserWarning: X does not have valid feature names, but LogisticRegression was fitted with feature names\n",
      "  warnings.warn(\n",
      "C:\\Users\\weiru\\anaconda3\\lib\\site-packages\\sklearn\\base.py:450: UserWarning: X does not have valid feature names, but LogisticRegression was fitted with feature names\n",
      "  warnings.warn(\n",
      "C:\\Users\\weiru\\anaconda3\\lib\\site-packages\\sklearn\\base.py:450: UserWarning: X does not have valid feature names, but LogisticRegression was fitted with feature names\n",
      "  warnings.warn(\n",
      "C:\\Users\\weiru\\anaconda3\\lib\\site-packages\\sklearn\\base.py:450: UserWarning: X does not have valid feature names, but LogisticRegression was fitted with feature names\n",
      "  warnings.warn(\n",
      "C:\\Users\\weiru\\anaconda3\\lib\\site-packages\\sklearn\\base.py:450: UserWarning: X does not have valid feature names, but LogisticRegression was fitted with feature names\n",
      "  warnings.warn(\n",
      "C:\\Users\\weiru\\anaconda3\\lib\\site-packages\\sklearn\\base.py:450: UserWarning: X does not have valid feature names, but LogisticRegression was fitted with feature names\n",
      "  warnings.warn(\n"
     ]
    },
    {
     "data": {
      "text/html": [
       "<div>\n",
       "<style scoped>\n",
       "    .dataframe tbody tr th:only-of-type {\n",
       "        vertical-align: middle;\n",
       "    }\n",
       "\n",
       "    .dataframe tbody tr th {\n",
       "        vertical-align: top;\n",
       "    }\n",
       "\n",
       "    .dataframe thead th {\n",
       "        text-align: right;\n",
       "    }\n",
       "</style>\n",
       "<table border=\"1\" class=\"dataframe\">\n",
       "  <thead>\n",
       "    <tr style=\"text-align: right;\">\n",
       "      <th></th>\n",
       "      <th>C_parameter</th>\n",
       "      <th>Accuracy</th>\n",
       "    </tr>\n",
       "  </thead>\n",
       "  <tbody>\n",
       "    <tr>\n",
       "      <th>0</th>\n",
       "      <td>0.001</td>\n",
       "      <td>0.553858</td>\n",
       "    </tr>\n",
       "    <tr>\n",
       "      <th>1</th>\n",
       "      <td>0.010</td>\n",
       "      <td>0.570525</td>\n",
       "    </tr>\n",
       "    <tr>\n",
       "      <th>2</th>\n",
       "      <td>0.100</td>\n",
       "      <td>0.580247</td>\n",
       "    </tr>\n",
       "    <tr>\n",
       "      <th>3</th>\n",
       "      <td>1.000</td>\n",
       "      <td>0.573405</td>\n",
       "    </tr>\n",
       "    <tr>\n",
       "      <th>4</th>\n",
       "      <td>10.000</td>\n",
       "      <td>0.573714</td>\n",
       "    </tr>\n",
       "    <tr>\n",
       "      <th>5</th>\n",
       "      <td>100.000</td>\n",
       "      <td>0.573663</td>\n",
       "    </tr>\n",
       "  </tbody>\n",
       "</table>\n",
       "</div>"
      ],
      "text/plain": [
       "   C_parameter  Accuracy\n",
       "0        0.001  0.553858\n",
       "1        0.010  0.570525\n",
       "2        0.100  0.580247\n",
       "3        1.000  0.573405\n",
       "4       10.000  0.573714\n",
       "5      100.000  0.573663"
      ]
     },
     "execution_count": 14,
     "metadata": {},
     "output_type": "execute_result"
    }
   ],
   "source": [
    "C_param_range = [0.001,0.01,0.1,1,10,100]\n",
    "\n",
    "table = pd.DataFrame(columns = ['C_parameter','Accuracy'])\n",
    "table['C_parameter'] = C_param_range\n",
    "\n",
    "\n",
    "j = 0\n",
    "for i in C_param_range:\n",
    "    \n",
    "    # Apply logistic regression model to training data\n",
    "    Logreg = LogisticRegression(solver = 'newton-cg', max_iter = 1000, penalty = 'l2', C = i,random_state = 40)\n",
    "    Logreg.fit(X_df1_train,y_df1_train)\n",
    "    \n",
    "    # Predict using model\n",
    "    y_pred_lr = Logreg.predict(X_df1_test)\n",
    "    \n",
    "    # Saving accuracy score in table\n",
    "    table.iloc[j,1] = accuracy_score(y_df1_test,y_pred_lr)\n",
    "    j += 1\n",
    "    \n",
    "table  "
   ]
  },
  {
   "cell_type": "code",
   "execution_count": 15,
   "id": "d50e0f70",
   "metadata": {},
   "outputs": [
    {
     "name": "stdout",
     "output_type": "stream",
     "text": [
      "[[4717 4920]\n",
      " [3368 6435]]\n",
      "0.5736625514403292\n"
     ]
    },
    {
     "name": "stderr",
     "output_type": "stream",
     "text": [
      "C:\\Users\\weiru\\anaconda3\\lib\\site-packages\\sklearn\\base.py:450: UserWarning: X does not have valid feature names, but LogisticRegression was fitted with feature names\n",
      "  warnings.warn(\n"
     ]
    }
   ],
   "source": [
    "from sklearn.metrics import confusion_matrix\n",
    "\n",
    "cnf_matrix= confusion_matrix(y_df1_test,y_pred_lr)\n",
    "print(cnf_matrix)\n",
    "Accuracy_lr=Logreg.score(X_df1_test,y_df1_test)\n",
    "\n",
    "print(Accuracy_lr)"
   ]
  },
  {
   "cell_type": "code",
   "execution_count": 16,
   "id": "dd006533",
   "metadata": {},
   "outputs": [
    {
     "name": "stdout",
     "output_type": "stream",
     "text": [
      "[0.64931938 0.65114531 0.64892334 0.62956161 0.64227448]\n",
      "Mean cross validation test score: 0.6442448230725032\n",
      "Mean cross validation train score: 0.652652576426016\n",
      "Standard deviation in cv test scores: 0.00793391853421793\n"
     ]
    }
   ],
   "source": [
    "from sklearn.model_selection import cross_val_score\n",
    "\n",
    "cv_scores_test= cross_val_score(Logreg,X_df1_test,y_df1_test,cv=5,scoring='roc_auc')\n",
    "cv_scores_train= cross_val_score(Logreg,X_df1_train,y_df1_train,cv=5,scoring='roc_auc')\n",
    "print(cv_scores_test)\n",
    "cv_scores_lr_test= cv_scores_test.mean()\n",
    "cv_scores_lr_train= cv_scores_train.mean()\n",
    "cv_scores_std_test_lr= cv_scores_test.std()\n",
    "print ('Mean cross validation test score: ' +str(cv_scores_lr_test))\n",
    "print ('Mean cross validation train score: ' +str(cv_scores_lr_train))\n",
    "print ('Standard deviation in cv test scores: ' +str(cv_scores_std_test_lr))"
   ]
  },
  {
   "cell_type": "markdown",
   "id": "458ee481",
   "metadata": {},
   "source": [
    "## 5.2 K-Nearest Neighbor (KNN)\n",
    "\n",
    "\n",
    "\n",
    "\n",
    "\n",
    "\n",
    "\n",
    "\n",
    "\n"
   ]
  },
  {
   "cell_type": "markdown",
   "id": "00ef8b5c",
   "metadata": {},
   "source": [
    "Using a range of neighbor values of 1-10, apply the KNearestNeighbor classifier to classify the the data."
   ]
  },
  {
   "cell_type": "code",
   "execution_count": 17,
   "id": "37a6b45b",
   "metadata": {},
   "outputs": [
    {
     "name": "stderr",
     "output_type": "stream",
     "text": [
      "C:\\Users\\weiru\\anaconda3\\lib\\site-packages\\sklearn\\base.py:450: UserWarning: X does not have valid feature names, but KNeighborsClassifier was fitted with feature names\n",
      "  warnings.warn(\n"
     ]
    },
    {
     "name": "stdout",
     "output_type": "stream",
     "text": [
      "[[9503  134]\n",
      " [ 160 9643]]\n"
     ]
    },
    {
     "name": "stderr",
     "output_type": "stream",
     "text": [
      "C:\\Users\\weiru\\anaconda3\\lib\\site-packages\\sklearn\\base.py:450: UserWarning: X does not have valid feature names, but KNeighborsClassifier was fitted with feature names\n",
      "  warnings.warn(\n"
     ]
    },
    {
     "name": "stdout",
     "output_type": "stream",
     "text": [
      "0.9848765432098765\n"
     ]
    }
   ],
   "source": [
    "from sklearn.neighbors import KNeighborsClassifier\n",
    "#from sklearn.metrics import plot_roc_curve\n",
    "\n",
    "# Apply KNN model to training data:\n",
    "\n",
    "knn = KNeighborsClassifier(p=2,weights='distance',n_neighbors=50)\n",
    "knn.fit(X_df1_train,y_df1_train)\n",
    "\n",
    "# Predict using model:\n",
    "\n",
    "y_predict_knn=knn.predict(X_df1_test)\n",
    "\n",
    "#Confusion matrix:\n",
    "\n",
    "cnf_matrix = confusion_matrix(y_df1_test, y_predict_knn)\n",
    "print(cnf_matrix)\n",
    "Accuracy_knn=knn.score(X_df1_test,y_df1_test)\n",
    "\n",
    "print(Accuracy_knn)\n",
    "#knn_disp= plot_roc_curve(knn,X_test,y_test)"
   ]
  },
  {
   "cell_type": "code",
   "execution_count": 18,
   "id": "4e4f42fc",
   "metadata": {},
   "outputs": [
    {
     "name": "stdout",
     "output_type": "stream",
     "text": [
      "[0.99260416 0.99167769 0.99292297 0.993041   0.99086944]\n",
      "Mean cross validation test score: 0.992223052094934\n",
      "Mean cross validation train score: 0.9982373870702104\n",
      "Standard deviation in cv scores: 0.000828716954052753\n"
     ]
    }
   ],
   "source": [
    "from sklearn.model_selection import cross_val_score\n",
    "\n",
    "cv_scores_test= cross_val_score(knn,X_df1_test,y_df1_test,cv=5,scoring='roc_auc')\n",
    "cv_scores_train= cross_val_score(knn,X_df1_train,y_df1_train,cv=5,scoring='roc_auc')\n",
    "print(cv_scores_test)\n",
    "cv_scores_knn_test= cv_scores_test.mean()\n",
    "cv_scores_knn_train= cv_scores_train.mean()\n",
    "cv_scores_std_knn= cv_scores_test.std()\n",
    "print ('Mean cross validation test score: ' +str(cv_scores_knn_test))\n",
    "print ('Mean cross validation train score: ' +str(cv_scores_knn_train))\n",
    "print ('Standard deviation in cv scores: ' +str(cv_scores_std_knn))"
   ]
  },
  {
   "cell_type": "markdown",
   "id": "4b2f40fd",
   "metadata": {},
   "source": [
    "## 5.3 SVM\n",
    "\n",
    "\n",
    "\n",
    "\n",
    "\n",
    "\n",
    "\n",
    "\n",
    "\n"
   ]
  },
  {
   "cell_type": "code",
   "execution_count": 19,
   "id": "3f25cecb",
   "metadata": {},
   "outputs": [
    {
     "name": "stderr",
     "output_type": "stream",
     "text": [
      "C:\\Users\\weiru\\anaconda3\\lib\\site-packages\\sklearn\\base.py:450: UserWarning: X does not have valid feature names, but SVC was fitted with feature names\n",
      "  warnings.warn(\n"
     ]
    },
    {
     "name": "stdout",
     "output_type": "stream",
     "text": [
      "[[4724 4913]\n",
      " [3322 6481]]\n"
     ]
    },
    {
     "name": "stderr",
     "output_type": "stream",
     "text": [
      "C:\\Users\\weiru\\anaconda3\\lib\\site-packages\\sklearn\\base.py:450: UserWarning: X does not have valid feature names, but SVC was fitted with feature names\n",
      "  warnings.warn(\n"
     ]
    },
    {
     "name": "stdout",
     "output_type": "stream",
     "text": [
      "0.5763888888888888\n"
     ]
    }
   ],
   "source": [
    "from sklearn.svm import SVC\n",
    "\n",
    "svm = SVC(kernel='linear')\n",
    "svm.fit(X_df1_train, y_df1_train)\n",
    "\n",
    "# Predict using model:\n",
    "\n",
    "y_predict_svm=svm.predict(X_df1_test)\n",
    "\n",
    "#Confusion matrix:\n",
    "\n",
    "cnf_matrix = confusion_matrix(y_df1_test, y_predict_svm)\n",
    "print(cnf_matrix)\n",
    "\n",
    "Accuracy_svm=svm.score(X_df1_test,y_df1_test)\n",
    "print(Accuracy_svm)"
   ]
  },
  {
   "cell_type": "code",
   "execution_count": 20,
   "id": "4d50e3eb",
   "metadata": {},
   "outputs": [
    {
     "name": "stdout",
     "output_type": "stream",
     "text": [
      "[0.63767545 0.64047204 0.6426529  0.62268703 0.63301928]\n",
      "Mean cross validation test score: 0.6353013403894212\n",
      "Mean cross validation train score: 0.6464524255435664\n",
      "Standard deviation in cv scores: 0.007081621338098255\n"
     ]
    }
   ],
   "source": [
    "from sklearn.model_selection import cross_val_score\n",
    "\n",
    "cv_scores_test= cross_val_score(svm,X_df1_test,y_df1_test,cv=5,scoring='roc_auc')\n",
    "cv_scores_train= cross_val_score(svm,X_df1_train,y_df1_train,cv=5,scoring='roc_auc')\n",
    "print(cv_scores_test)\n",
    "cv_scores_svm_test= cv_scores_test.mean()\n",
    "cv_scores_svm_train= cv_scores_train.mean()\n",
    "cv_scores_std_svm= cv_scores_test.std()\n",
    "print ('Mean cross validation test score: ' +str(cv_scores_svm_test))\n",
    "print ('Mean cross validation train score: ' +str(cv_scores_svm_train))\n",
    "print ('Standard deviation in cv scores: ' +str(cv_scores_std_svm))"
   ]
  },
  {
   "cell_type": "markdown",
   "id": "2098387f",
   "metadata": {},
   "source": [
    "## 5.4 Random Forest\n",
    "\n",
    "\n",
    "\n",
    "\n",
    "\n",
    "\n",
    "\n",
    "\n",
    "\n"
   ]
  },
  {
   "cell_type": "code",
   "execution_count": 21,
   "id": "7fab63be",
   "metadata": {},
   "outputs": [
    {
     "name": "stderr",
     "output_type": "stream",
     "text": [
      "C:\\Users\\weiru\\anaconda3\\lib\\site-packages\\sklearn\\base.py:450: UserWarning: X does not have valid feature names, but RandomForestClassifier was fitted with feature names\n",
      "  warnings.warn(\n"
     ]
    },
    {
     "name": "stdout",
     "output_type": "stream",
     "text": [
      "[[9547   90]\n",
      " [ 128 9675]]\n"
     ]
    },
    {
     "name": "stderr",
     "output_type": "stream",
     "text": [
      "C:\\Users\\weiru\\anaconda3\\lib\\site-packages\\sklearn\\base.py:450: UserWarning: X does not have valid feature names, but RandomForestClassifier was fitted with feature names\n",
      "  warnings.warn(\n"
     ]
    },
    {
     "name": "stdout",
     "output_type": "stream",
     "text": [
      "0.9887860082304527\n"
     ]
    }
   ],
   "source": [
    "from sklearn.ensemble import RandomForestClassifier\n",
    "\n",
    "#Apply RF to the training data:\n",
    "\n",
    "rf = RandomForestClassifier(bootstrap=True,n_estimators=100,criterion='entropy')\n",
    "rf.fit(X_df1_train, y_df1_train)\n",
    "\n",
    "#Predict using the model:\n",
    "\n",
    "y_predict_rf = rf.predict(X_df1_test)\n",
    "\n",
    "#Confusion matrix:\n",
    "\n",
    "cnf_matrix = confusion_matrix(y_df1_test, y_predict_rf)\n",
    "print(cnf_matrix)\n",
    "Accuracy_rf=rf.score(X_df1_test,y_df1_test)\n",
    "print(Accuracy_rf)"
   ]
  },
  {
   "cell_type": "code",
   "execution_count": 22,
   "id": "b39746e0",
   "metadata": {},
   "outputs": [
    {
     "name": "stdout",
     "output_type": "stream",
     "text": [
      "[0.99629176 0.99502035 0.9967977  0.99564153 0.99574936]\n",
      "Mean cross validation test score: 0.9959001402650293\n",
      "Mean cross validation train score: 0.9990629616608299\n",
      "Standard deviation in cv scores: 0.0006037588558253187\n"
     ]
    }
   ],
   "source": [
    "from sklearn.model_selection import cross_val_score\n",
    "\n",
    "cv_scores_test= cross_val_score(rf,X_df1_test,y_df1_test,cv=5,scoring='roc_auc')\n",
    "cv_scores_train= cross_val_score(rf,X_df1_train,y_df1_train,cv=5,scoring='roc_auc')\n",
    "print(cv_scores_test)\n",
    "cv_scores_rf_test= cv_scores_test.mean()\n",
    "cv_scores_rf_train= cv_scores_train.mean()\n",
    "cv_scores_std_rf= cv_scores_test.std()\n",
    "print ('Mean cross validation test score: ' +str(cv_scores_rf_test))\n",
    "print ('Mean cross validation train score: ' +str(cv_scores_rf_train))\n",
    "print ('Standard deviation in cv scores: ' +str(cv_scores_std_rf))"
   ]
  },
  {
   "cell_type": "markdown",
   "id": "d9b3f01b",
   "metadata": {},
   "source": [
    "## 5.5 Naive Bayes\n",
    "\n",
    "\n",
    "\n",
    "\n",
    "\n",
    "\n",
    "\n",
    "\n"
   ]
  },
  {
   "cell_type": "code",
   "execution_count": 23,
   "id": "ab13d41f",
   "metadata": {
    "scrolled": true
   },
   "outputs": [
    {
     "name": "stdout",
     "output_type": "stream",
     "text": [
      "[[9636    1]\n",
      " [9803    0]]\n",
      "0.495679012345679\n"
     ]
    },
    {
     "name": "stderr",
     "output_type": "stream",
     "text": [
      "C:\\Users\\weiru\\anaconda3\\lib\\site-packages\\sklearn\\base.py:450: UserWarning: X does not have valid feature names, but GaussianNB was fitted with feature names\n",
      "  warnings.warn(\n",
      "C:\\Users\\weiru\\anaconda3\\lib\\site-packages\\sklearn\\base.py:450: UserWarning: X does not have valid feature names, but GaussianNB was fitted with feature names\n",
      "  warnings.warn(\n"
     ]
    }
   ],
   "source": [
    "from sklearn.naive_bayes import GaussianNB\n",
    "nb = GaussianNB()\n",
    "nb.fit(X_df1_train,y_df1_train)\n",
    "\n",
    "#Predict using the model:\n",
    "\n",
    "y_predict_nb=nb.predict(X_df1_test)\n",
    "\n",
    "#Confusion matrix:\n",
    "\n",
    "cnf_matrix = confusion_matrix(y_df1_test, y_predict_nb)\n",
    "print(cnf_matrix)\n",
    "Accuracy_nb=nb.score(X_df1_test,y_df1_test)\n",
    "print(Accuracy_nb)"
   ]
  },
  {
   "cell_type": "code",
   "execution_count": 24,
   "id": "2eb7f8cf",
   "metadata": {},
   "outputs": [
    {
     "name": "stdout",
     "output_type": "stream",
     "text": [
      "[0.57683996 0.56281861 0.57924415 0.56066467 0.56503637]\n",
      "Mean cross validation test score: 0.5689207523494331\n",
      "Mean cross validation train score: 0.5677033234677669\n",
      "Standard deviation in cv scores: 0.007612802054648473\n"
     ]
    }
   ],
   "source": [
    "from sklearn.model_selection import cross_val_score\n",
    "\n",
    "cv_scores_test= cross_val_score(nb,X_df1_test,y_df1_test,cv=5,scoring='roc_auc')\n",
    "cv_scores_train= cross_val_score(nb,X_df1_train,y_df1_train,cv=5,scoring='roc_auc')\n",
    "print(cv_scores_test)\n",
    "cv_scores_nb_test= cv_scores_test.mean()\n",
    "cv_scores_nb_train= cv_scores_train.mean()\n",
    "cv_scores_std_nb= cv_scores_test.std()\n",
    "print ('Mean cross validation test score: ' +str(cv_scores_nb_test))\n",
    "print ('Mean cross validation train score: ' +str(cv_scores_nb_train))\n",
    "print ('Standard deviation in cv scores: ' +str(cv_scores_std_nb))"
   ]
  },
  {
   "cell_type": "markdown",
   "id": "a84b25e3",
   "metadata": {},
   "source": [
    "## 5.6 Gradient Boost"
   ]
  },
  {
   "cell_type": "code",
   "execution_count": 25,
   "id": "712b7127",
   "metadata": {},
   "outputs": [
    {
     "name": "stdout",
     "output_type": "stream",
     "text": [
      "[[9449  188]\n",
      " [ 126 9677]]\n",
      "0.9838477366255144\n"
     ]
    },
    {
     "name": "stderr",
     "output_type": "stream",
     "text": [
      "C:\\Users\\weiru\\anaconda3\\lib\\site-packages\\sklearn\\base.py:450: UserWarning: X does not have valid feature names, but GradientBoostingClassifier was fitted with feature names\n",
      "  warnings.warn(\n",
      "C:\\Users\\weiru\\anaconda3\\lib\\site-packages\\sklearn\\base.py:450: UserWarning: X does not have valid feature names, but GradientBoostingClassifier was fitted with feature names\n",
      "  warnings.warn(\n"
     ]
    }
   ],
   "source": [
    "from sklearn.ensemble import ExtraTreesClassifier, GradientBoostingClassifier\n",
    "gbc = GradientBoostingClassifier(subsample=0.8, learning_rate=0.05 , n_estimators=160, random_state=5, max_depth=9, max_leaf_nodes=100)\n",
    "gbc.fit(X_df1_train, y_df1_train)\n",
    "\n",
    "#Predict using the model:\n",
    "\n",
    "y_predict_gbc = gbc.predict(X_df1_test)\n",
    "\n",
    "#Confusion matrix:\n",
    "\n",
    "cnf_matrix = confusion_matrix(y_df1_test, y_predict_gbc)\n",
    "print(cnf_matrix)\n",
    "Accuracy_gbc=gbc.score(X_df1_test,y_df1_test)\n",
    "print(Accuracy_gbc)"
   ]
  },
  {
   "cell_type": "code",
   "execution_count": 26,
   "id": "a48bbd8d",
   "metadata": {},
   "outputs": [
    {
     "name": "stdout",
     "output_type": "stream",
     "text": [
      "[0.99684827 0.99693639 0.99608624 0.99588287 0.99603794]\n",
      "Mean cross validation test score: 0.9963583444953453\n",
      "Mean cross validation train score: 0.9985555870601521\n",
      "Standard deviation in cv scores: 0.0004420276308800845\n"
     ]
    }
   ],
   "source": [
    "from sklearn.model_selection import cross_val_score\n",
    "\n",
    "cv_scores_test= cross_val_score(gbc,X_df1_test,y_df1_test,cv=5,scoring='roc_auc')\n",
    "cv_scores_train= cross_val_score(gbc,X_df1_train,y_df1_train,cv=5,scoring='roc_auc')\n",
    "print(cv_scores_test)\n",
    "cv_scores_gbc_test= cv_scores_test.mean()\n",
    "cv_scores_gbc_train= cv_scores_train.mean()\n",
    "cv_scores_std_gbc= cv_scores_test.std()\n",
    "print ('Mean cross validation test score: ' +str(cv_scores_gbc_test))\n",
    "print ('Mean cross validation train score: ' +str(cv_scores_gbc_train))\n",
    "print ('Standard deviation in cv scores: ' +str(cv_scores_std_gbc))"
   ]
  },
  {
   "cell_type": "markdown",
   "id": "60ab9c1a",
   "metadata": {},
   "source": [
    "# 06 Comparison of the models<a id='06_Comparison of the models'></a>"
   ]
  },
  {
   "cell_type": "markdown",
   "id": "f3f16640",
   "metadata": {},
   "source": [
    "We applied different ML models above and evaluated their performances in terms of ROC-AUC score for both the training and test data. Here we have tabulated the scores and plotted them.\n",
    "\n",
    "Clearly, the Gradient Boost, and the Random Forest are the two best performing models. Both of the models are ensembled, based on decision trees.\n",
    "\n",
    "So, we will perform a grid search/ hyperparameter tuning for those two ML models."
   ]
  },
  {
   "cell_type": "code",
   "execution_count": 27,
   "id": "2981f4ab",
   "metadata": {},
   "outputs": [
    {
     "name": "stdout",
     "output_type": "stream",
     "text": [
      "             Algorithm  Model accuracy score\n",
      "0  Logistic Regression              0.573663\n",
      "1                  KNN              0.984877\n",
      "2                  SVM              0.576389\n",
      "3        Random Forest              0.988786\n",
      "4          Naive Bayes              0.495679\n",
      "5       Gradient Boost              0.983848\n"
     ]
    },
    {
     "data": {
      "text/html": [
       "<div>\n",
       "<style scoped>\n",
       "    .dataframe tbody tr th:only-of-type {\n",
       "        vertical-align: middle;\n",
       "    }\n",
       "\n",
       "    .dataframe tbody tr th {\n",
       "        vertical-align: top;\n",
       "    }\n",
       "\n",
       "    .dataframe thead th {\n",
       "        text-align: right;\n",
       "    }\n",
       "</style>\n",
       "<table border=\"1\" class=\"dataframe\">\n",
       "  <thead>\n",
       "    <tr style=\"text-align: right;\">\n",
       "      <th></th>\n",
       "      <th>Algorithm</th>\n",
       "      <th>ROC-AUC train score</th>\n",
       "      <th>ROC-AUC test score</th>\n",
       "    </tr>\n",
       "  </thead>\n",
       "  <tbody>\n",
       "    <tr>\n",
       "      <th>0</th>\n",
       "      <td>Logistic Regression</td>\n",
       "      <td>0.652653</td>\n",
       "      <td>0.644245</td>\n",
       "    </tr>\n",
       "    <tr>\n",
       "      <th>1</th>\n",
       "      <td>KNN</td>\n",
       "      <td>0.998237</td>\n",
       "      <td>0.992223</td>\n",
       "    </tr>\n",
       "    <tr>\n",
       "      <th>2</th>\n",
       "      <td>SVM</td>\n",
       "      <td>0.646452</td>\n",
       "      <td>0.635301</td>\n",
       "    </tr>\n",
       "    <tr>\n",
       "      <th>3</th>\n",
       "      <td>Random Forest</td>\n",
       "      <td>0.999063</td>\n",
       "      <td>0.995900</td>\n",
       "    </tr>\n",
       "    <tr>\n",
       "      <th>4</th>\n",
       "      <td>Naive Bayes</td>\n",
       "      <td>0.567703</td>\n",
       "      <td>0.568921</td>\n",
       "    </tr>\n",
       "    <tr>\n",
       "      <th>5</th>\n",
       "      <td>Gradient Boost</td>\n",
       "      <td>0.998556</td>\n",
       "      <td>0.996358</td>\n",
       "    </tr>\n",
       "  </tbody>\n",
       "</table>\n",
       "</div>"
      ],
      "text/plain": [
       "             Algorithm  ROC-AUC train score  ROC-AUC test score\n",
       "0  Logistic Regression             0.652653            0.644245\n",
       "1                  KNN             0.998237            0.992223\n",
       "2                  SVM             0.646452            0.635301\n",
       "3        Random Forest             0.999063            0.995900\n",
       "4          Naive Bayes             0.567703            0.568921\n",
       "5       Gradient Boost             0.998556            0.996358"
      ]
     },
     "execution_count": 27,
     "metadata": {},
     "output_type": "execute_result"
    }
   ],
   "source": [
    "myLabels = [ 'Logistic Regression','KNN','SVM','Random Forest','Naive Bayes', 'Gradient Boost']\n",
    "score_test= [  cv_scores_lr_test,cv_scores_knn_test,cv_scores_svm_test,cv_scores_rf_test,cv_scores_nb_test,cv_scores_gbc_test]\n",
    "score_train= [  cv_scores_lr_train,cv_scores_knn_train,cv_scores_svm_train,cv_scores_rf_train,cv_scores_nb_train,cv_scores_gbc_train]\n",
    "Accuracy_score = [Accuracy_lr,Accuracy_knn,Accuracy_svm,Accuracy_rf,Accuracy_nb,Accuracy_gbc]\n",
    "\n",
    "score_tab_acc = pd.DataFrame(list(zip(myLabels, Accuracy_score)), \n",
    "               columns =['Algorithm', 'Model accuracy score']) \n",
    "\n",
    "score_tab = pd.DataFrame(list(zip(myLabels, score_train, score_test)), \n",
    "               columns =['Algorithm', 'ROC-AUC train score', 'ROC-AUC test score' ]) \n",
    "print(score_tab_acc)\n",
    "\n",
    "score_tab"
   ]
  },
  {
   "cell_type": "code",
   "execution_count": 28,
   "id": "f22684cc",
   "metadata": {},
   "outputs": [
    {
     "data": {
      "image/png": "[encoded data removed]",
      "text/plain": [
       "<Figure size 720x360 with 1 Axes>"
      ]
     },
     "metadata": {
      "needs_background": "light"
     },
     "output_type": "display_data"
    },
    {
     "data": {
      "image/png": "[encoded data removed]",
      "text/plain": [
       "<Figure size 720x360 with 1 Axes>"
      ]
     },
     "metadata": {
      "needs_background": "light"
     },
     "output_type": "display_data"
    }
   ],
   "source": [
    "#plotting the accuracy scores:\n",
    "\n",
    "\n",
    "index=[1,2,3,4,5,6]\n",
    "index_acc=[1.2,2.2,3.2,4.2,5.2,6.2]\n",
    "plt.figure(figsize=(10,5))\n",
    "plt.xlabel('Models',fontsize=15)\n",
    "plt.ylabel ('Model accuracy scores',fontsize=15)\n",
    "plt.title('Comparison of the algorithms',fontsize=15)\n",
    "#patterns = [ \"/\"]\n",
    "_=plt.bar(index_acc,Accuracy_score,color='coral',alpha=0.8,label='Accuracy score',edgecolor='k',width=0.3)\n",
    "plt.xticks([1, 2,3,4,5,6], myLabels)\n",
    "#plt.legend()\n",
    "plt.savefig(\"26.png\")\n",
    "plt.show()\n",
    "\n",
    "#plotting and comparing ROC-AUC train/test scores:\n",
    "\n",
    "index=[1,2,3,4,5,6]\n",
    "index_acc=[1.2,2.2,3.2,4.2,5.2,6.2]\n",
    "plt.figure(figsize=(10,5))\n",
    "plt.xlabel('Models',fontsize=15)\n",
    "plt.ylabel ('ROC-AUC scores',fontsize=15)\n",
    "plt.title('Comparison of the algorithms',fontsize=15)\n",
    "_=plt.bar(index,score_train,color='b',alpha=0.6,label='Training score',edgecolor='k',width=0.2)\n",
    "_=plt.bar(index_acc,score_test,color='cyan',alpha=0.8,label='Test score',edgecolor='k',width=0.2)\n",
    "plt.xticks([1, 2,3,4,5,6], myLabels)\n",
    "plt.legend()\n",
    "plt.savefig(\"27.png\")\n",
    "plt.show()"
   ]
  },
  {
   "cell_type": "markdown",
   "id": "c0da1a69",
   "metadata": {},
   "source": [
    "# 07 Applying Grid Search CV for Hyperparameter Tuning<a id='07_Applying Grid Search CV for Hyperparameter Tuning'></a>"
   ]
  },
  {
   "cell_type": "markdown",
   "id": "99b18c99",
   "metadata": {},
   "source": [
    "## 7.1 Parameter Tuning for Random Forest"
   ]
  },
  {
   "cell_type": "code",
   "execution_count": 29,
   "id": "bcde2628",
   "metadata": {},
   "outputs": [
    {
     "name": "stdout",
     "output_type": "stream",
     "text": [
      "RandomForestClassifier(n_estimators=1000, n_jobs=-1, random_state=1)\n",
      "0.9858882030178328\n"
     ]
    }
   ],
   "source": [
    "from sklearn.model_selection import GridSearchCV\n",
    "\n",
    "rf = RandomForestClassifier(max_features='auto',random_state=1, n_jobs=-1)\n",
    "param_grid = { \"criterion\" : [\"gini\", \"entropy\"], \"min_samples_leaf\" : [1, 5, 10], \"min_samples_split\" : [2, 4, 10,12,16], \"n_estimators\": [50, 100,400,700,1000]}\n",
    "gs = GridSearchCV(estimator=rf, param_grid=param_grid, scoring='accuracy', cv=3, n_jobs=-1)\n",
    "gs = gs.fit(X_df1_train, y_df1_train)\n",
    "\n",
    "print(gs.best_estimator_) \n",
    "print(gs.best_score_)"
   ]
  },
  {
   "cell_type": "markdown",
   "id": "512c7ccb",
   "metadata": {},
   "source": [
    "### 7.1.1 Fitting the Random forest model with the optimal hyperparameters"
   ]
  },
  {
   "cell_type": "code",
   "execution_count": 30,
   "id": "5c649476",
   "metadata": {},
   "outputs": [
    {
     "name": "stderr",
     "output_type": "stream",
     "text": [
      "C:\\Users\\weiru\\anaconda3\\lib\\site-packages\\sklearn\\base.py:450: UserWarning: X does not have valid feature names, but RandomForestClassifier was fitted with feature names\n",
      "  warnings.warn(\n"
     ]
    },
    {
     "name": "stdout",
     "output_type": "stream",
     "text": [
      "0.9898662551440329\n",
      "0.9962971647019249\n"
     ]
    }
   ],
   "source": [
    "rf = RandomForestClassifier(bootstrap=True, class_weight=None, criterion='entropy',\n",
    "            max_depth=None, max_features='auto', max_leaf_nodes=None,\n",
    "            min_impurity_decrease=0.0, \n",
    "            min_samples_leaf=1, min_samples_split=2,\n",
    "            min_weight_fraction_leaf=0.0, n_estimators=1000, n_jobs=-1,\n",
    "            oob_score=False, random_state=1, verbose=0, warm_start=False)\n",
    "rf.fit(X_df1_train, y_df1_train)\n",
    "y_predictions_rf = rf.predict(X_df1_test)\n",
    "acc = accuracy_score(y_df1_test, y_predictions_rf)\n",
    "cv = cross_val_score(rf, X_df1_test, y_df1_test,scoring='roc_auc').mean()\n",
    "print(acc)\n",
    "print(cv)"
   ]
  },
  {
   "cell_type": "code",
   "execution_count": 31,
   "id": "62682f52",
   "metadata": {},
   "outputs": [
    {
     "name": "stdout",
     "output_type": "stream",
     "text": [
      "                                          Features  Importance scores\n",
      "0                      AHU: Supply Air Temperature           0.000000\n",
      "1            AHU: Supply Air Temperature Set Point           0.000000\n",
      "2                     AHU: Outdoor Air Temperature           0.000011\n",
      "3                       AHU: Mixed Air Temperature           0.000018\n",
      "4                      AHU: Return Air Temperature           0.003160\n",
      "5         AHU: Supply Air Fan Speed Control Signal           0.007706\n",
      "6         AHU: Return Air Fan Speed Control Signal           0.011943\n",
      "7           AHU: Outdoor Air Damper Control Signal           0.011974\n",
      "8            AHU: Return Air Damper Control Signal           0.033014\n",
      "9           AHU: Cooling Coil Valve Control Signal           0.049624\n",
      "10          AHU: Heating Coil Valve Control Signal           0.109897\n",
      "11  AHU: Supply Air Duct Static Pressure Set Point           0.127973\n",
      "12            AHU: Supply Air Duct Static Pressure           0.166783\n",
      "13                        Occupancy Mode Indicator           0.477897\n"
     ]
    },
    {
     "data": {
      "image/png": "[encoded data removed]",
      "text/plain": [
       "<Figure size 720x360 with 1 Axes>"
      ]
     },
     "metadata": {
      "needs_background": "light"
     },
     "output_type": "display_data"
    }
   ],
   "source": [
    "#Feature importances:\n",
    "\n",
    "features = X_df1\n",
    "importances = list(rf.feature_importances_)\n",
    "imp=np.sort(importances)\n",
    "tab=pd.DataFrame(list(zip(X_df1,imp)),columns =['Features', 'Importance scores']) \n",
    "print(tab)\n",
    "\n",
    "#Visual comparison:\n",
    "plt.figure(figsize=(10,5))\n",
    "#indices = np.argsort(importances)\n",
    "index = [0,1,2,3,4,5,6,7,8,9,10,11,12,13]\n",
    "_=plt.barh(index,imp, align='center',color='b')\n",
    "plt.xlabel('Relative Importance',fontsize=15)\n",
    "plt.ylabel('Features',fontsize=15)\n",
    "plt.yticks(index, features)\n",
    "plt.title('Feature Importances for Random Forest classifier model',fontsize=15)\n",
    "plt.savefig(\"OAPlus2.png\")\n",
    "plt.show()\n",
    "#len(importances)"
   ]
  },
  {
   "cell_type": "markdown",
   "id": "15ee1147",
   "metadata": {},
   "source": [
    "### 7.1.2 ROC-AUC Score and the ROC curve"
   ]
  },
  {
   "cell_type": "code",
   "execution_count": 32,
   "id": "d2f736ff",
   "metadata": {},
   "outputs": [
    {
     "name": "stderr",
     "output_type": "stream",
     "text": [
      "C:\\Users\\weiru\\anaconda3\\lib\\site-packages\\sklearn\\base.py:450: UserWarning: X does not have valid feature names, but RandomForestClassifier was fitted with feature names\n",
      "  warnings.warn(\n"
     ]
    },
    {
     "name": "stdout",
     "output_type": "stream",
     "text": [
      "ROC-AUC Score: 0.9994147389047265\n"
     ]
    }
   ],
   "source": [
    "from sklearn.metrics import auc, roc_curve, roc_auc_score\n",
    "y_scores_rf = rf.predict_proba(X_df1_test)\n",
    "y_scores_rf = y_scores_rf[:,1]\n",
    "auroc = roc_auc_score(y_df1_test, y_scores_rf)\n",
    "print(\"ROC-AUC Score:\", auroc)"
   ]
  },
  {
   "cell_type": "code",
   "execution_count": 33,
   "id": "626be8ea",
   "metadata": {},
   "outputs": [
    {
     "data": {
      "image/png": "[encoded data removed]",
      "text/plain": [
       "<Figure size 720x360 with 1 Axes>"
      ]
     },
     "metadata": {
      "needs_background": "light"
     },
     "output_type": "display_data"
    }
   ],
   "source": [
    "false_positive_rate, true_positive_rate, thresholds = roc_curve(y_df1_test, y_scores_rf)\n",
    "def plot_roc_curve(false_positive_rate, true_positive_rate, label=None):\n",
    "    plt.plot(false_positive_rate, true_positive_rate, linewidth=2, label=label)\n",
    "    plt.plot([0, 1], [0, 1], 'r', linewidth=4)\n",
    "    plt.axis([0, 1, 0, 1])\n",
    "    plt.xlabel('False Positive Rate (FPR)', fontsize=15)\n",
    "    plt.ylabel('True Positive Rate (TPR)', fontsize=15)\n",
    "    plt.title('ROC curve (RF)',fontsize=15)\n",
    "\n",
    "plt.figure(figsize=(10, 5))\n",
    "plot_roc_curve(false_positive_rate, true_positive_rate)\n",
    "plt.savefig(\"30.png\")\n",
    "plt.show()"
   ]
  },
  {
   "cell_type": "markdown",
   "id": "554b8f73",
   "metadata": {},
   "source": [
    "## 7.2 Parameter Tuning for Gradient Boost"
   ]
  },
  {
   "cell_type": "code",
   "execution_count": 34,
   "id": "8625c1e8",
   "metadata": {},
   "outputs": [
    {
     "name": "stdout",
     "output_type": "stream",
     "text": [
      "Fitting 3 folds for each of 72 candidates, totalling 216 fits\n",
      "GradientBoostingClassifier(max_depth=8, max_features=0.3, min_samples_leaf=100,\n",
      "                           n_estimators=300)\n",
      "0.9799897119341564\n"
     ]
    }
   ],
   "source": [
    "GB = GradientBoostingClassifier()\n",
    "gb_param = {\n",
    "        'loss' : [\"deviance\"],\n",
    "        'n_estimators' : [100,200,300],\n",
    "        'learning_rate': [0.1, 0.05, 0.01],\n",
    "        'max_depth': [4, 8],\n",
    "        'min_samples_leaf': [100,150],\n",
    "        'max_features': [0.3, 0.1] \n",
    "        }\n",
    "\n",
    "gsGB = GridSearchCV(GB, param_grid = gb_param, cv=3, scoring=\"accuracy\", n_jobs= -1, verbose = 1)\n",
    "gsGB.fit(X_df1_train,y_df1_train)\n",
    "print(gsGB.best_estimator_)\n",
    "print(gsGB.best_score_)"
   ]
  },
  {
   "cell_type": "markdown",
   "id": "d7277a67",
   "metadata": {},
   "source": [
    "### 7.2.1 Fitting the Gradient Boost model with the optimal hyperparameters"
   ]
  },
  {
   "cell_type": "code",
   "execution_count": 35,
   "id": "cdb05f78",
   "metadata": {},
   "outputs": [
    {
     "name": "stderr",
     "output_type": "stream",
     "text": [
      "C:\\Users\\weiru\\anaconda3\\lib\\site-packages\\sklearn\\base.py:450: UserWarning: X does not have valid feature names, but GradientBoostingClassifier was fitted with feature names\n",
      "  warnings.warn(\n"
     ]
    },
    {
     "name": "stdout",
     "output_type": "stream",
     "text": [
      "0.9872427983539095\n",
      "0.9939101999143695\n"
     ]
    }
   ],
   "source": [
    "GB= GradientBoostingClassifier(criterion='friedman_mse', init=None,\n",
    "              learning_rate=0.1, loss='deviance', max_depth=8,\n",
    "              max_features=0.3, max_leaf_nodes=None,\n",
    "              min_impurity_decrease=0.0, \n",
    "              min_samples_leaf=100, min_samples_split=2,\n",
    "              min_weight_fraction_leaf=0.0, n_estimators=300,\n",
    "              random_state=None, subsample=1.0, verbose=0,\n",
    "              warm_start=False)\n",
    "GB.fit(X_df1_train, y_df1_train)\n",
    "y_predictions_GB = GB.predict(X_df1_test)\n",
    "acc_GB = accuracy_score(y_df1_test, y_predictions_GB)\n",
    "cv_GB = cross_val_score(GB, X_df1_test, y_df1_test,scoring='roc_auc').mean()\n",
    "print(acc_GB)\n",
    "print(cv_GB)"
   ]
  },
  {
   "cell_type": "code",
   "execution_count": 36,
   "id": "6d8dbe02",
   "metadata": {},
   "outputs": [
    {
     "name": "stdout",
     "output_type": "stream",
     "text": [
      "                                          Features  Importance scores\n",
      "0                      AHU: Supply Air Temperature           0.000000\n",
      "1            AHU: Supply Air Temperature Set Point           0.000000\n",
      "2                     AHU: Outdoor Air Temperature           0.000000\n",
      "3                       AHU: Mixed Air Temperature           0.000000\n",
      "4                      AHU: Return Air Temperature           0.007761\n",
      "5         AHU: Supply Air Fan Speed Control Signal           0.009443\n",
      "6         AHU: Return Air Fan Speed Control Signal           0.014453\n",
      "7           AHU: Outdoor Air Damper Control Signal           0.019082\n",
      "8            AHU: Return Air Damper Control Signal           0.034041\n",
      "9           AHU: Cooling Coil Valve Control Signal           0.079935\n",
      "10          AHU: Heating Coil Valve Control Signal           0.082543\n",
      "11  AHU: Supply Air Duct Static Pressure Set Point           0.117467\n",
      "12            AHU: Supply Air Duct Static Pressure           0.188852\n",
      "13                        Occupancy Mode Indicator           0.446423\n"
     ]
    },
    {
     "data": {
      "image/png": "[encoded data removed]",
      "text/plain": [
       "<Figure size 720x360 with 1 Axes>"
      ]
     },
     "metadata": {
      "needs_background": "light"
     },
     "output_type": "display_data"
    }
   ],
   "source": [
    "features = X_df1\n",
    "importances = list(GB.feature_importances_)\n",
    "imp=np.sort(importances)\n",
    "tab=pd.DataFrame(list(zip(X_df1,imp)),columns =['Features', 'Importance scores']) \n",
    "print(tab)\n",
    "\n",
    "#visually:\n",
    "plt.figure(figsize=(10,5))\n",
    "#indices = np.argsort(importances)\n",
    "index = [0,1,2,3,4,5,6,7,8,9,10,11,12,13]\n",
    "_=plt.barh(index,imp, align='center',color='gold',edgecolor='k')\n",
    "plt.xlabel('Relative Importance',fontsize=15)\n",
    "plt.ylabel('Features',fontsize=15)\n",
    "plt.yticks(index, features)\n",
    "plt.title('Feature Importances for Gradient boost Classifier model',fontsize=15)\n",
    "plt.savefig(\"29.png\")\n",
    "plt.show()\n",
    "#len(importances)"
   ]
  },
  {
   "cell_type": "markdown",
   "id": "4c699d3d",
   "metadata": {},
   "source": [
    "### 7.2.2 ROC-AUC Score and the ROC curve"
   ]
  },
  {
   "cell_type": "code",
   "execution_count": 37,
   "id": "b97fab17",
   "metadata": {},
   "outputs": [
    {
     "name": "stdout",
     "output_type": "stream",
     "text": [
      "ROC-AUC Score: 0.9991624882553218\n"
     ]
    },
    {
     "name": "stderr",
     "output_type": "stream",
     "text": [
      "C:\\Users\\weiru\\anaconda3\\lib\\site-packages\\sklearn\\base.py:450: UserWarning: X does not have valid feature names, but GradientBoostingClassifier was fitted with feature names\n",
      "  warnings.warn(\n"
     ]
    }
   ],
   "source": [
    "from sklearn.metrics import auc, roc_curve, roc_auc_score\n",
    "y_scores_gb = GB.predict_proba(X_df1_test)\n",
    "y_scores_gb = y_scores_gb[:,1]\n",
    "auroc = roc_auc_score(y_df1_test, y_scores_gb)\n",
    "print(\"ROC-AUC Score:\", auroc)"
   ]
  },
  {
   "cell_type": "code",
   "execution_count": 38,
   "id": "d3517f7e",
   "metadata": {},
   "outputs": [
    {
     "data": {
      "image/png": "[encoded data removed]",
      "text/plain": [
       "<Figure size 720x360 with 1 Axes>"
      ]
     },
     "metadata": {
      "needs_background": "light"
     },
     "output_type": "display_data"
    }
   ],
   "source": [
    "false_positive_rate, true_positive_rate, thresholds = roc_curve(y_df1_test, y_scores_gb)\n",
    "def plot_roc_curve(false_positive_rate, true_positive_rate, label=None):\n",
    "    plt.plot(false_positive_rate, true_positive_rate, linewidth=2, label=label)\n",
    "    plt.plot([0, 1], [0, 1], 'r', linewidth=4)\n",
    "    plt.axis([0, 1, 0, 1])\n",
    "    plt.xlabel('False Positive Rate (FPR)', fontsize=15)\n",
    "    plt.ylabel('True Positive Rate (TPR)', fontsize=15)\n",
    "    plt.title('ROC curve (GB)',fontsize=15)\n",
    "\n",
    "plt.figure(figsize=(10, 5))\n",
    "plot_roc_curve(false_positive_rate, true_positive_rate)\n",
    "plt.savefig(\"31.png\")\n",
    "plt.show()"
   ]
  },
  {
   "cell_type": "markdown",
   "id": "552f1763",
   "metadata": {},
   "source": [
    "# 08 Conclusion"
   ]
  },
  {
   "cell_type": "markdown",
   "id": "cd7f5889",
   "metadata": {},
   "source": [
    "In order to predict the fault detect, here we have considered a bunch of (13) features, either directly from the dataset or engineered/derived from the data. Interestingly, the engineeered features are the most important ones in terms of relative importances.\n",
    "\n",
    "This is a classification problem. Here we have used the following classification models:\n",
    "\n",
    "- Logistic Regression\n",
    "- K-Nearest Neighbor (KNN)\n",
    "- Support vector machine (SVM)\n",
    "- Random Forest\n",
    "- Naive Bayes\n",
    "- Gradient Boost\n",
    "\n",
    "Evaluating the performance of a model by training and testing on the same dataset can lead to the overfitting. Hence the model evaluation is based on splitting the dataset into train and validation set. But the performance of the prediction result depends upon the random choice of the pair of (train,validation) set. Inorder to overcome that, the Cross-Validation procedure is used where under the k-fold CV approach, the training set is split into k smaller sets, where a model is trained using k-1 of the folds as training data and the model is validated on the remaining part.\n",
    "\n",
    "We have evaluated each model in terms of model accuracy score, and 'ROC-AUC' score for both the training and test data, and plotted them. The two best performing models are the Random forest and the Gradient boost. Both are the ensemble model, based on decision trees.\n",
    "\n",
    "Next, we have carried out the grid search CV for the hyperparameter tuning for both the models separately. This step was the most time consuming one in terms of computation. (The RF model took much longer time). With the result of the optimized hyperparameters, we have again fitted the two models, and got the predictions separately.\n",
    "\n",
    "We have evaluated the ROC-AUC scores with the optimized hyperparameters. Clearly, the model performance improved with the optimized parameters. The final ROC-AUC scores fro both RF and the GB are 0.99941 and 0.99916."
   ]
  },
  {
   "cell_type": "code",
   "execution_count": null,
   "id": "c100df29",
   "metadata": {},
   "outputs": [],
   "source": []
  }
 ],
 "metadata": {
  "kernelspec": {
   "display_name": "Python 3 (ipykernel)",
   "language": "python",
   "name": "python3"
  },
  "language_info": {
   "codemirror_mode": {
    "name": "ipython",
    "version": 3
   },
   "file_extension": ".py",
   "mimetype": "text/x-python",
   "name": "python",
   "nbconvert_exporter": "python",
   "pygments_lexer": "ipython3",
   "version": "3.9.12"
  }
 },
 "nbformat": 4,
 "nbformat_minor": 5
}
