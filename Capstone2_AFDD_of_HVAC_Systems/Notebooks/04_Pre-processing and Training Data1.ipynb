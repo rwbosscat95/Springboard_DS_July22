{
 "cells": [
  {
   "cell_type": "markdown",
   "id": "d8b1e8f8",
   "metadata": {},
   "source": [
    "# 04 Pre-processing and Training Data<a id='04_Pre-processing and Training Data'></a>"
   ]
  },
  {
   "cell_type": "markdown",
   "id": "37f23321",
   "metadata": {},
   "source": [
    "## 4.1 Dummy or Indicator Features for Categorical Variables<a id='4.1_Dummy or Indicator Features for Categorical Variables'></a>\n",
    "\n",
    "\n",
    "## 4.2 Standardize the magnitude of numeric features <a id='4.2_Standardize the magnitude of numeric features'></a>\n",
    "\n",
    "\n",
    "\n",
    "\n",
    "\n",
    "\n",
    "\n",
    "\n",
    "\n"
   ]
  },
  {
   "cell_type": "markdown",
   "id": "6597e299",
   "metadata": {},
   "source": [
    "\n",
    "\n",
    "\n",
    "## 4.1 Dummy or Indicator Features for Categorical Variables\n"
   ]
  },
  {
   "cell_type": "markdown",
   "id": "ebb42af4",
   "metadata": {},
   "source": [
    "### 4.1 Load the libraries"
   ]
  },
  {
   "cell_type": "code",
   "execution_count": 1,
   "id": "95d9c839",
   "metadata": {},
   "outputs": [],
   "source": [
    "import numpy as np\n",
    "import pandas as pd\n",
    "import matplotlib.pyplot as plt\n",
    "import seaborn as sns\n",
    "\n",
    "from statsmodels.graphics.api import abline_plot \n",
    "from sklearn.metrics import mean_squared_error, r2_score \n",
    "from sklearn.model_selection import train_test_split \n",
    "from sklearn import linear_model, preprocessing\n",
    "\n",
    "from mlinsights.mlmodel import PiecewiseRegressor\n",
    "from sklearn.tree import DecisionTreeRegressor\n",
    "\n",
    "# scipi is a library for statistical tests and visualizations \n",
    "from scipy import stats\n",
    "# random enables us to generate random numbers\n",
    "import random\n",
    "\n",
    "import warnings # For handling error messages.\n",
    "# Don't worry about the following two instructions: they just suppress warnings that could occur later. \n",
    "warnings.simplefilter(action=\"ignore\", category=FutureWarning)\n",
    "warnings.filterwarnings(action=\"ignore\", module=\"scipy\", message=\"^internal gelsd\")"
   ]
  },
  {
   "cell_type": "markdown",
   "id": "2d17dcf0",
   "metadata": {},
   "source": [
    "### 4.1.2 Load the data"
   ]
  },
  {
   "cell_type": "code",
   "execution_count": 3,
   "id": "c05fb3c5",
   "metadata": {},
   "outputs": [],
   "source": [
    "df1 = pd.read_csv('../data/df1.csv')"
   ]
  },
  {
   "cell_type": "code",
   "execution_count": 4,
   "id": "7c238ef3",
   "metadata": {},
   "outputs": [],
   "source": [
    "# Make a variable called 'features', and a list containing the strings of every column except \"Fault Detection Ground Truth\"\n",
    "features_df1 = [column for column in df1.columns if column != 'Fault Detection Ground Truth']\n",
    "\n",
    "# Make an explanatory variable called X, and assign it: NoPrediction[features]\n",
    "X_df1 = df1[features_df1] \n",
    "\n",
    "# Make a dependent variable called y, and assign it: df1['Fault Detection Ground Truth']\n",
    "y_df1 = df1['Fault Detection Ground Truth'] "
   ]
  },
  {
   "cell_type": "code",
   "execution_count": 5,
   "id": "ec2ccb0b",
   "metadata": {},
   "outputs": [],
   "source": [
    "# One-hot encode all features in X.\n",
    "X_df1 = pd.get_dummies(X_df1) "
   ]
  },
  {
   "cell_type": "code",
   "execution_count": 6,
   "id": "5eef3374",
   "metadata": {},
   "outputs": [],
   "source": [
    "# Call train_test_split on X_df1, y_df1. Make the test_size = 0.25, and random_state = 246\n",
    "X_df1_train, X_df1_test, y_df1_train, y_df1_test = train_test_split(X_df1, y_df1, test_size=0.25, random_state=246) "
   ]
  },
  {
   "cell_type": "markdown",
   "id": "e7458b83",
   "metadata": {},
   "source": [
    "### 4.1.3b MZVAV_2_1_hcvleak (the same as 4.1.3a)"
   ]
  },
  {
   "cell_type": "markdown",
   "id": "5bcae11f",
   "metadata": {},
   "source": [
    "### 4.1.3c MZVAV_2_2_oadamperstuck (the same as 4.1.3a)"
   ]
  },
  {
   "cell_type": "markdown",
   "id": "4b818940",
   "metadata": {},
   "source": [
    "### 4.1.3d MZVAV_2_2_ccvstuck (the same as 4.1.3a)"
   ]
  },
  {
   "cell_type": "markdown",
   "id": "a8c2ca50",
   "metadata": {},
   "source": [
    "### 4.1.3e SZCAV_ccvleak (the same as 4.1.3a)"
   ]
  },
  {
   "cell_type": "markdown",
   "id": "5097b8fd",
   "metadata": {},
   "source": [
    "### 4.1.3f SZVAV_hcvleak (the same as 4.1.3a)"
   ]
  },
  {
   "cell_type": "markdown",
   "id": "eb11e7ea",
   "metadata": {},
   "source": [
    "## 4.2 Standardize the magnitude of numeric features"
   ]
  },
  {
   "cell_type": "markdown",
   "id": "4292d87f",
   "metadata": {},
   "source": [
    "### 4.2.1a MZVAV_1_oaplus2"
   ]
  },
  {
   "cell_type": "code",
   "execution_count": 7,
   "id": "4518304d",
   "metadata": {},
   "outputs": [],
   "source": [
    "# Making a Scaler object \n",
    "scaler = preprocessing.StandardScaler() "
   ]
  },
  {
   "cell_type": "code",
   "execution_count": 8,
   "id": "32f38b75",
   "metadata": {},
   "outputs": [],
   "source": [
    "# Fitting data to the scaler object\n",
    "scaled_X_df1 = scaler.fit_transform(X_df1)\n",
    "scaled_X_df1 = pd.DataFrame(scaled_X_df1, columns=features_df1) "
   ]
  },
  {
   "cell_type": "markdown",
   "id": "226d0404",
   "metadata": {},
   "source": [
    "### 4.2.1b MZVAV_2_1_hcvleak"
   ]
  },
  {
   "cell_type": "markdown",
   "id": "585cb914",
   "metadata": {},
   "source": [
    "### 4.2.1c MZVAV_2_2_oadamperstuck"
   ]
  },
  {
   "cell_type": "markdown",
   "id": "68f6f507",
   "metadata": {},
   "source": [
    "### 4.2.1d MZVAV_2_2_ccvstuck"
   ]
  },
  {
   "cell_type": "markdown",
   "id": "f6356794",
   "metadata": {},
   "source": [
    "### 4.2.1e SZCAV_ccvleak"
   ]
  },
  {
   "cell_type": "markdown",
   "id": "a9ad8578",
   "metadata": {},
   "source": [
    "### 4.2.1f SZVAV_hcvleak"
   ]
  }
 ],
 "metadata": {
  "kernelspec": {
   "display_name": "Python 3 (ipykernel)",
   "language": "python",
   "name": "python3"
  },
  "language_info": {
   "codemirror_mode": {
    "name": "ipython",
    "version": 3
   },
   "file_extension": ".py",
   "mimetype": "text/x-python",
   "name": "python",
   "nbconvert_exporter": "python",
   "pygments_lexer": "ipython3",
   "version": "3.9.12"
  }
 },
 "nbformat": 4,
 "nbformat_minor": 5
}
